{
 "cells": [
  {
   "cell_type": "code",
   "execution_count": 1,
   "id": "d3fe71b3-eeb9-41c3-867c-c51f7ea9c2f4",
   "metadata": {},
   "outputs": [],
   "source": [
    "import os\n",
    "import pandas as pd\n",
    "import csv\n",
    "import numpy as np\n",
    "import time\n",
    "\n",
    "from datetime import datetime\n",
    "from sklearn.metrics import confusion_matrix, ConfusionMatrixDisplay\n",
    "\n",
    "predicted_data_path = \"/home/aayush/accelerometer/compare_classification/accProcess_output/30_sec/original_features/predicted_output\"\n",
    "annotated_data_path = \"/home/yacine/accel/capture24/participants/\"\n",
    "\n",
    "labels_dict_location = \"/home/aayush/accelerometer/accprocess/anno-label.csv\"\n",
    "confusion_matrix_location = \"/home/aayush/accelerometer/compare_classification/confusion_matrix_output/30_sec/original_features\"\n",
    "\n",
    "test_participants = \"101,102,103,104,105,106,107,108,109,110,111,112,113,114,115,116,117,118,119,120,121,122,123,124,125,126,127,128,129,130,131,132,133,134,135,136,137,138,139,140,141,142,143,144,145,146,147,148,149,150,151\"\n",
    "test_participants = [float(t) for t in test_participants.split(\",\")]\n",
    "\n",
    "epoch_time = 3000 # 30 seconds"
   ]
  },
  {
   "cell_type": "code",
   "execution_count": 2,
   "id": "9c4c99a4-58fa-4ccf-a14d-b0e0b7739c15",
   "metadata": {},
   "outputs": [],
   "source": [
    "class logger:\n",
    "    def __init__(self) -> None:\n",
    "        timestamp = datetime.now().strftime(\"%m-%d-%Y-%H-%M-%S\")\n",
    "        # log = f\"{log_path}/Process_data_{timestamp}.log\"\n",
    "        # with open(log, \"w\") as log_file_save:\n",
    "        #     log_file_save.write(\"################################################\\n\")\n",
    "        #     log_file_save.write(\"|Timestamp| + \\t + |Func| + \\t + |Message|\\n\")\n",
    "        # self.log_file = log\n",
    "    \n",
    "    def log(self, func, message) -> None:\n",
    "        # with open(self.log_file, \"a\") as log_file_save:\n",
    "        #     timestamp = datetime.now().strftime(\"%m-%d-%Y-%H-%M-%S\")\n",
    "        #     log_message = timestamp + \"\\t\" + func + \"\\t\" + message\n",
    "        #     log_file_save.write(log_message + \"\\n\")\n",
    "\n",
    "        timestamp = datetime.now().strftime(\"%m-%d-%Y-%H-%M-%S\")\n",
    "        log_message = timestamp + \"\\t\" + func + \"\\t\" + message\n",
    "        print(log_message)\n",
    "\n",
    "logging = logger()"
   ]
  },
  {
   "cell_type": "code",
   "execution_count": 3,
   "id": "1aa28808-6c5d-41b8-b00f-510aa84088c4",
   "metadata": {},
   "outputs": [],
   "source": [
    "def get_files(data_path, predicted_files=False, annotated_files=False) -> None:\n",
    "    total_csv_zipped = []\n",
    "    for path, dirnames, filenames in os.walk(data_path):\n",
    "        logging.log(\"get_files\", f\"Looking for data files in {path}.\")\n",
    "        for file in filenames:\n",
    "            if file.endswith(\".csv.gz\") and predicted_files:\n",
    "                # paths contains the base directory for that file.\n",
    "                # dirnames contains other directories within this folder.\n",
    "                # filenames contains the list of filenames within path.\n",
    "                total_csv_zipped.append(os.path.join(path, file))\n",
    "                # logging.log(\"get_files\", f\"Found FILE:{file} in PATH:{path}.\")\n",
    "                \n",
    "            if file.endswith(\".csv\") and annotated_files and file[0]!='c': #ignore the capture24 file\n",
    "                # paths contains the base directory for that file.\n",
    "                # dirnames contains other directories within this folder.\n",
    "                # filenames contains the list of filenames within path.\n",
    "                total_csv_zipped.append(os.path.join(path, file))\n",
    "                # logging.log(\"get_files\", f\"Found FILE:{file} in PATH:{path}.\")\n",
    "    logging.log(\"get_files\", \"#################################################################################\")\n",
    "    logging.log(\"get_files\", f\"######### Total files in the data path: {len(total_csv_zipped)} #########\")\n",
    "    logging.log(\"get_files\", \"#################################################################################\")\n",
    "    return sorted(total_csv_zipped)"
   ]
  },
  {
   "cell_type": "code",
   "execution_count": 4,
   "id": "13b1e338-00b5-4aa7-b777-933e8d733309",
   "metadata": {},
   "outputs": [],
   "source": [
    "def create_labels_dict():\n",
    "    logging.log(\"create_labels_dict\", \"Created labels dict for mapping.\")\n",
    "    labels_dict = {}\n",
    "    with open(labels_dict_location, \"r\") as annotation_dict:\n",
    "        reader = csv.DictReader(annotation_dict)\n",
    "        for row in reader:\n",
    "            if labels_dict.get(row['annotation']) is None:\n",
    "                labels_dict[row['annotation']] = [row['label:Walmsley2020']]\n",
    "            else:\n",
    "                labels_dict[row['annotation']].append(row['label:Walmsley2020'])\n",
    "    return labels_dict\n",
    "\n",
    "\n",
    "def parse_datetime(dt_string):\n",
    "    clean_datetime_str = dt_string.split('[')[0].strip()\n",
    "    dt_object = pd.to_datetime(clean_datetime_str)\n",
    "    return dt_object\n",
    "\n",
    "\n",
    "def parse_datetime_df_time(dt_string):\n",
    "    clean_datetime_str = dt_string.split('[')[0].strip()\n",
    "    clean_datetime_str = clean_datetime_str.split('+')[0].strip()\n",
    "    dt_object = pd.to_datetime(clean_datetime_str)\n",
    "    return dt_object"
   ]
  },
  {
   "cell_type": "code",
   "execution_count": 5,
   "id": "54b606c9-16f3-43e5-ab49-ccf1754fdfd7",
   "metadata": {},
   "outputs": [],
   "source": [
    "def create_confusion_matrix(actual_labels_cleaned, df_cleaned_filtered):\n",
    "    assert len(actual_labels_cleaned) == len(df_cleaned_filtered), \"DataFrames must be of the same length\"\n",
    "\n",
    "    true_labels = actual_labels_cleaned['annotation']\n",
    "    predicted_labels = df_cleaned_filtered['activity_predicted']\n",
    "\n",
    "    # Generate confusion matrix\n",
    "    cm = confusion_matrix(true_labels, predicted_labels, labels=['light', 'moderate-vigorous', 'sedentary', 'sleep'])\n",
    "    \n",
    "    # logging.log(\"create_confusion_matrix\", \"Created confusion matrix.\")\n",
    "    return cm\n",
    "\n",
    "\n",
    "def display_confusion_matrix(cm, normalize=True):\n",
    "    # logging.log(\"display_confusion_matrix\", \"Display confusion matrix.\")\n",
    "    import matplotlib.pyplot as plt\n",
    "    \n",
    "    if normalize:\n",
    "    # Normalize by true values\n",
    "        cm = cm.astype(float)\n",
    "        row_sums = cm.sum(axis=1)\n",
    "\n",
    "        # Avoid division by zero; replace zeros with ones (or a very small number) in the denominator\n",
    "        row_sums[row_sums == 0] = 1\n",
    "\n",
    "        # Normalize each row\n",
    "        cm = cm / row_sums[:, np.newaxis]\n",
    "\n",
    "    # Display the confusion matrix\n",
    "    disp = ConfusionMatrixDisplay(confusion_matrix=cm, display_labels=['light', 'mod-vigorous', 'sedentary', 'sleep'])\n",
    "    disp.plot(cmap='Blues')\n",
    "    if normalize:\n",
    "        plt.savefig(os.path.join(confusion_matrix_location, datetime.now().strftime(\"%m-%d-%Y-%H-%M-%S\") + \"normalized.png\"))\n",
    "    else:\n",
    "        plt.savefig(os.path.join(confusion_matrix_location, datetime.now().strftime(\"%m-%d-%Y-%H-%M-%S\") + \".png\"))\n"
   ]
  },
  {
   "cell_type": "code",
   "execution_count": 6,
   "id": "44ec95e7-2764-4cdf-b41a-7b3d1ed104cc",
   "metadata": {},
   "outputs": [
    {
     "name": "stdout",
     "output_type": "stream",
     "text": [
      "06-14-2024-12-51-01\tget_files\tLooking for data files in /home/aayush/accelerometer/compare_classification/accProcess_output/30_sec/original_features/predicted_output.\n",
      "06-14-2024-12-51-01\tget_files\t#################################################################################\n",
      "06-14-2024-12-51-01\tget_files\t######### Total files in the data path: 151 #########\n",
      "06-14-2024-12-51-01\tget_files\t#################################################################################\n",
      "06-14-2024-12-51-01\tget_files\tLooking for data files in /home/yacine/accel/capture24/participants/.\n",
      "06-14-2024-12-51-01\tget_files\t#################################################################################\n",
      "06-14-2024-12-51-01\tget_files\t######### Total files in the data path: 151 #########\n",
      "06-14-2024-12-51-01\tget_files\t#################################################################################\n",
      "06-14-2024-12-51-01\tcreate_labels_dict\tCreated labels dict for mapping.\n"
     ]
    }
   ],
   "source": [
    "predicted_data_files = get_files(data_path=predicted_data_path, predicted_files=True)\n",
    "annotated_data_files = get_files(data_path=annotated_data_path, annotated_files=True)\n",
    "assert len(predicted_data_files) == len(annotated_data_files), \"Number of predicted and annotated data files should be the same.\"\n",
    "\n",
    "labels_dict = create_labels_dict()\n",
    "\n",
    "labels = [\"light\", \"moderate-vigorous\", \"sedentary\", \"sleep\"]\n",
    "combined_cm = np.zeros((len(labels), len(labels)), dtype=float)"
   ]
  },
  {
   "cell_type": "code",
   "execution_count": 7,
   "id": "3aa669e3-49d2-456d-95b3-72eb45db315a",
   "metadata": {},
   "outputs": [],
   "source": [
    "def decode_activities(data_file):\n",
    "    # logging.log(\"decode_activities\", f\"Decode the activities from file: {data_file}.\")\n",
    "    df = pd.read_csv(data_file)\n",
    "    \n",
    "    # retrieve only the activities headers\n",
    "    activities = df[df.columns.values.tolist()[2:6]]\n",
    "    \n",
    "    # whichever activity is depicted by 1, use it as the predicted activity\n",
    "    out = activities[activities==1].idxmax(axis=1)\n",
    "    df[\"activity_predicted\"] = out\n",
    "    \n",
    "    # logging.log(\"decode_activities\", f\"Dropped 'nan' activity_predicted from file: {data_file}.\")\n",
    "    df_cleaned = df.dropna(subset=[\"activity_predicted\"])\n",
    "    return df_cleaned, df\n",
    "    \n",
    "    \n",
    "def process_annotated_data(annotated_data_file):\n",
    "    # logging.log(\"process_annotated_data\", f\"Process annotated data file: {annotated_data_file}.\")\n",
    "    \n",
    "    annotated_data = pd.read_csv(annotated_data_file)\n",
    "    # Take the timestamp after every thirty seconds\n",
    "    actual_labels = annotated_data[[\"annotation\", \"time\"]][0::epoch_time]\n",
    "    \n",
    "    # Convert to datetime object\n",
    "    actual_time = actual_labels[\"time\"].apply(parse_datetime)\n",
    "    actual_labels[\"time\"] = actual_time\n",
    "    \n",
    "    return actual_labels\n",
    "    \n",
    "\n",
    "\n",
    "def filtering_data(df_cleaned, actual_labels, labels_dict):\n",
    "    \n",
    "    # Convert to datetime object\n",
    "    df_cleaned_time = df_cleaned['time'].apply(parse_datetime_df_time)\n",
    "    df_cleaned['time_cleaned'] = df_cleaned_time\n",
    "    \n",
    "    # drop all 'nan' rows from actual labels\n",
    "    before_dropped_actual_labels = len(actual_labels)\n",
    "    actual_labels = actual_labels.dropna(subset=['annotation'])\n",
    "    after_dropped_actual_labels = len(actual_labels)\n",
    "    count_dropped_actual_labels_na = before_dropped_actual_labels - after_dropped_actual_labels\n",
    "\n",
    "    before_timestamp_actual_labels = len(actual_labels)\n",
    "    # Filter out all those timestamps which do not exist in df_cleaned_time\n",
    "    actual_labels = actual_labels[actual_labels[\"time\"].isin(df_cleaned_time)]\n",
    "    after_timestamp_actual_labels = len(actual_labels)\n",
    "    count_timestamp_actual_labels = before_timestamp_actual_labels - after_timestamp_actual_labels\n",
    "\n",
    "    # Filter out all those timestamps which do not exist in actual_labels\n",
    "    before_timestamp_predicted = len(df_cleaned)\n",
    "    df_cleaned_filtered = df_cleaned[df_cleaned['time_cleaned'].isin(actual_labels[\"time\"])]\n",
    "    after_timestamp_predicted = len(df_cleaned_filtered)\n",
    "    count_timestamp_predicted = before_timestamp_predicted - after_timestamp_predicted\n",
    "    \n",
    "    # Remove all duplicated timestamps from df_cleaned_filtered\n",
    "    before_predicted_dedup = len(df_cleaned_filtered)\n",
    "    df_cleaned_filtered_dedup = df_cleaned_filtered[~df_cleaned_filtered['time_cleaned'].duplicated(keep='first')]\n",
    "    after_predicted_dedup = len(df_cleaned_filtered_dedup)\n",
    "    count_dropped_predicted_dedup = before_predicted_dedup - after_predicted_dedup\n",
    "    \n",
    "    # replace the annotated labels with the same format of strings as predicted labels using mapping from labels_dict\n",
    "    flat_dict = {k: v[0] for k, v in labels_dict.items()}\n",
    "    \n",
    "    actual_labels['annotation'].replace(flat_dict, inplace=True)\n",
    "    \n",
    "    return actual_labels, df_cleaned_filtered_dedup, count_dropped_actual_labels_na, count_dropped_predicted_dedup,  count_timestamp_actual_labels, count_timestamp_predicted"
   ]
  },
  {
   "cell_type": "code",
   "execution_count": 8,
   "id": "761f1cad-54b4-44b4-9524-381a2b3349b6",
   "metadata": {},
   "outputs": [
    {
     "name": "stdout",
     "output_type": "stream",
     "text": [
      "06-14-2024-12-51-03\tmain\tProcessing predicted_file: /home/aayush/accelerometer/compare_classification/accProcess_output/30_sec/original_features/predicted_output/P101-timeSeries.csv.gz and annotated_file:/home/yacine/accel/capture24/participants/P101.csv\n"
     ]
    },
    {
     "name": "stderr",
     "output_type": "stream",
     "text": [
      "/tmp/ipykernel_2576663/4209565313.py:25: DtypeWarning: Columns (4) have mixed types.Specify dtype option on import or set low_memory=False.\n",
      "  actual_labels = process_annotated_data(annotated_file)\n"
     ]
    },
    {
     "name": "stdout",
     "output_type": "stream",
     "text": [
      "06-14-2024-12-51-16\tmain\tProcessing predicted_file: /home/aayush/accelerometer/compare_classification/accProcess_output/30_sec/original_features/predicted_output/P102-timeSeries.csv.gz and annotated_file:/home/yacine/accel/capture24/participants/P102.csv\n"
     ]
    },
    {
     "name": "stderr",
     "output_type": "stream",
     "text": [
      "/tmp/ipykernel_2576663/4209565313.py:25: DtypeWarning: Columns (4) have mixed types.Specify dtype option on import or set low_memory=False.\n",
      "  actual_labels = process_annotated_data(annotated_file)\n"
     ]
    },
    {
     "name": "stdout",
     "output_type": "stream",
     "text": [
      "06-14-2024-12-51-26\tmain\tProcessing predicted_file: /home/aayush/accelerometer/compare_classification/accProcess_output/30_sec/original_features/predicted_output/P103-timeSeries.csv.gz and annotated_file:/home/yacine/accel/capture24/participants/P103.csv\n"
     ]
    },
    {
     "name": "stderr",
     "output_type": "stream",
     "text": [
      "/tmp/ipykernel_2576663/4209565313.py:25: DtypeWarning: Columns (4) have mixed types.Specify dtype option on import or set low_memory=False.\n",
      "  actual_labels = process_annotated_data(annotated_file)\n"
     ]
    },
    {
     "name": "stdout",
     "output_type": "stream",
     "text": [
      "06-14-2024-12-51-39\tmain\tProcessing predicted_file: /home/aayush/accelerometer/compare_classification/accProcess_output/30_sec/original_features/predicted_output/P104-timeSeries.csv.gz and annotated_file:/home/yacine/accel/capture24/participants/P104.csv\n"
     ]
    },
    {
     "name": "stderr",
     "output_type": "stream",
     "text": [
      "/tmp/ipykernel_2576663/4209565313.py:25: DtypeWarning: Columns (4) have mixed types.Specify dtype option on import or set low_memory=False.\n",
      "  actual_labels = process_annotated_data(annotated_file)\n",
      "/tmp/ipykernel_2576663/2825748892.py:36: SettingWithCopyWarning: \n",
      "A value is trying to be set on a copy of a slice from a DataFrame.\n",
      "Try using .loc[row_indexer,col_indexer] = value instead\n",
      "\n",
      "See the caveats in the documentation: https://pandas.pydata.org/pandas-docs/stable/user_guide/indexing.html#returning-a-view-versus-a-copy\n",
      "  df_cleaned['time_cleaned'] = df_cleaned_time\n"
     ]
    },
    {
     "name": "stdout",
     "output_type": "stream",
     "text": [
      "06-14-2024-12-51-53\tmain\tProcessing predicted_file: /home/aayush/accelerometer/compare_classification/accProcess_output/30_sec/original_features/predicted_output/P105-timeSeries.csv.gz and annotated_file:/home/yacine/accel/capture24/participants/P105.csv\n"
     ]
    },
    {
     "name": "stderr",
     "output_type": "stream",
     "text": [
      "/tmp/ipykernel_2576663/4209565313.py:25: DtypeWarning: Columns (4) have mixed types.Specify dtype option on import or set low_memory=False.\n",
      "  actual_labels = process_annotated_data(annotated_file)\n"
     ]
    },
    {
     "name": "stdout",
     "output_type": "stream",
     "text": [
      "06-14-2024-12-52-05\tmain\tProcessing predicted_file: /home/aayush/accelerometer/compare_classification/accProcess_output/30_sec/original_features/predicted_output/P106-timeSeries.csv.gz and annotated_file:/home/yacine/accel/capture24/participants/P106.csv\n"
     ]
    },
    {
     "name": "stderr",
     "output_type": "stream",
     "text": [
      "/tmp/ipykernel_2576663/4209565313.py:25: DtypeWarning: Columns (4) have mixed types.Specify dtype option on import or set low_memory=False.\n",
      "  actual_labels = process_annotated_data(annotated_file)\n",
      "/tmp/ipykernel_2576663/2825748892.py:36: SettingWithCopyWarning: \n",
      "A value is trying to be set on a copy of a slice from a DataFrame.\n",
      "Try using .loc[row_indexer,col_indexer] = value instead\n",
      "\n",
      "See the caveats in the documentation: https://pandas.pydata.org/pandas-docs/stable/user_guide/indexing.html#returning-a-view-versus-a-copy\n",
      "  df_cleaned['time_cleaned'] = df_cleaned_time\n"
     ]
    },
    {
     "name": "stdout",
     "output_type": "stream",
     "text": [
      "06-14-2024-12-52-16\tmain\tProcessing predicted_file: /home/aayush/accelerometer/compare_classification/accProcess_output/30_sec/original_features/predicted_output/P107-timeSeries.csv.gz and annotated_file:/home/yacine/accel/capture24/participants/P107.csv\n"
     ]
    },
    {
     "name": "stderr",
     "output_type": "stream",
     "text": [
      "/tmp/ipykernel_2576663/4209565313.py:25: DtypeWarning: Columns (4) have mixed types.Specify dtype option on import or set low_memory=False.\n",
      "  actual_labels = process_annotated_data(annotated_file)\n"
     ]
    },
    {
     "name": "stdout",
     "output_type": "stream",
     "text": [
      "06-14-2024-12-52-27\tmain\tProcessing predicted_file: /home/aayush/accelerometer/compare_classification/accProcess_output/30_sec/original_features/predicted_output/P108-timeSeries.csv.gz and annotated_file:/home/yacine/accel/capture24/participants/P108.csv\n"
     ]
    },
    {
     "name": "stderr",
     "output_type": "stream",
     "text": [
      "/tmp/ipykernel_2576663/4209565313.py:25: DtypeWarning: Columns (4) have mixed types.Specify dtype option on import or set low_memory=False.\n",
      "  actual_labels = process_annotated_data(annotated_file)\n"
     ]
    },
    {
     "name": "stdout",
     "output_type": "stream",
     "text": [
      "06-14-2024-12-52-40\tmain\tProcessing predicted_file: /home/aayush/accelerometer/compare_classification/accProcess_output/30_sec/original_features/predicted_output/P109-timeSeries.csv.gz and annotated_file:/home/yacine/accel/capture24/participants/P109.csv\n"
     ]
    },
    {
     "name": "stderr",
     "output_type": "stream",
     "text": [
      "/tmp/ipykernel_2576663/4209565313.py:25: DtypeWarning: Columns (4) have mixed types.Specify dtype option on import or set low_memory=False.\n",
      "  actual_labels = process_annotated_data(annotated_file)\n"
     ]
    },
    {
     "name": "stdout",
     "output_type": "stream",
     "text": [
      "06-14-2024-12-52-51\tmain\tProcessing predicted_file: /home/aayush/accelerometer/compare_classification/accProcess_output/30_sec/original_features/predicted_output/P110-timeSeries.csv.gz and annotated_file:/home/yacine/accel/capture24/participants/P110.csv\n"
     ]
    },
    {
     "name": "stderr",
     "output_type": "stream",
     "text": [
      "/tmp/ipykernel_2576663/4209565313.py:25: DtypeWarning: Columns (4) have mixed types.Specify dtype option on import or set low_memory=False.\n",
      "  actual_labels = process_annotated_data(annotated_file)\n",
      "/tmp/ipykernel_2576663/2825748892.py:36: SettingWithCopyWarning: \n",
      "A value is trying to be set on a copy of a slice from a DataFrame.\n",
      "Try using .loc[row_indexer,col_indexer] = value instead\n",
      "\n",
      "See the caveats in the documentation: https://pandas.pydata.org/pandas-docs/stable/user_guide/indexing.html#returning-a-view-versus-a-copy\n",
      "  df_cleaned['time_cleaned'] = df_cleaned_time\n"
     ]
    },
    {
     "name": "stdout",
     "output_type": "stream",
     "text": [
      "06-14-2024-12-53-03\tmain\tProcessing predicted_file: /home/aayush/accelerometer/compare_classification/accProcess_output/30_sec/original_features/predicted_output/P111-timeSeries.csv.gz and annotated_file:/home/yacine/accel/capture24/participants/P111.csv\n"
     ]
    },
    {
     "name": "stderr",
     "output_type": "stream",
     "text": [
      "/tmp/ipykernel_2576663/4209565313.py:25: DtypeWarning: Columns (4) have mixed types.Specify dtype option on import or set low_memory=False.\n",
      "  actual_labels = process_annotated_data(annotated_file)\n"
     ]
    },
    {
     "name": "stdout",
     "output_type": "stream",
     "text": [
      "06-14-2024-12-53-16\tmain\tProcessing predicted_file: /home/aayush/accelerometer/compare_classification/accProcess_output/30_sec/original_features/predicted_output/P112-timeSeries.csv.gz and annotated_file:/home/yacine/accel/capture24/participants/P112.csv\n"
     ]
    },
    {
     "name": "stderr",
     "output_type": "stream",
     "text": [
      "/tmp/ipykernel_2576663/4209565313.py:25: DtypeWarning: Columns (4) have mixed types.Specify dtype option on import or set low_memory=False.\n",
      "  actual_labels = process_annotated_data(annotated_file)\n"
     ]
    },
    {
     "name": "stdout",
     "output_type": "stream",
     "text": [
      "06-14-2024-12-53-26\tmain\tProcessing predicted_file: /home/aayush/accelerometer/compare_classification/accProcess_output/30_sec/original_features/predicted_output/P113-timeSeries.csv.gz and annotated_file:/home/yacine/accel/capture24/participants/P113.csv\n"
     ]
    },
    {
     "name": "stderr",
     "output_type": "stream",
     "text": [
      "/tmp/ipykernel_2576663/4209565313.py:25: DtypeWarning: Columns (4) have mixed types.Specify dtype option on import or set low_memory=False.\n",
      "  actual_labels = process_annotated_data(annotated_file)\n"
     ]
    },
    {
     "name": "stdout",
     "output_type": "stream",
     "text": [
      "06-14-2024-12-53-39\tmain\tProcessing predicted_file: /home/aayush/accelerometer/compare_classification/accProcess_output/30_sec/original_features/predicted_output/P114-timeSeries.csv.gz and annotated_file:/home/yacine/accel/capture24/participants/P114.csv\n"
     ]
    },
    {
     "name": "stderr",
     "output_type": "stream",
     "text": [
      "/tmp/ipykernel_2576663/4209565313.py:25: DtypeWarning: Columns (4) have mixed types.Specify dtype option on import or set low_memory=False.\n",
      "  actual_labels = process_annotated_data(annotated_file)\n"
     ]
    },
    {
     "name": "stdout",
     "output_type": "stream",
     "text": [
      "06-14-2024-12-53-51\tmain\tProcessing predicted_file: /home/aayush/accelerometer/compare_classification/accProcess_output/30_sec/original_features/predicted_output/P115-timeSeries.csv.gz and annotated_file:/home/yacine/accel/capture24/participants/P115.csv\n"
     ]
    },
    {
     "name": "stderr",
     "output_type": "stream",
     "text": [
      "/tmp/ipykernel_2576663/4209565313.py:25: DtypeWarning: Columns (4) have mixed types.Specify dtype option on import or set low_memory=False.\n",
      "  actual_labels = process_annotated_data(annotated_file)\n"
     ]
    },
    {
     "name": "stdout",
     "output_type": "stream",
     "text": [
      "06-14-2024-12-54-03\tmain\tProcessing predicted_file: /home/aayush/accelerometer/compare_classification/accProcess_output/30_sec/original_features/predicted_output/P116-timeSeries.csv.gz and annotated_file:/home/yacine/accel/capture24/participants/P116.csv\n"
     ]
    },
    {
     "name": "stderr",
     "output_type": "stream",
     "text": [
      "/tmp/ipykernel_2576663/4209565313.py:25: DtypeWarning: Columns (4) have mixed types.Specify dtype option on import or set low_memory=False.\n",
      "  actual_labels = process_annotated_data(annotated_file)\n"
     ]
    },
    {
     "name": "stdout",
     "output_type": "stream",
     "text": [
      "06-14-2024-12-54-14\tmain\tProcessing predicted_file: /home/aayush/accelerometer/compare_classification/accProcess_output/30_sec/original_features/predicted_output/P117-timeSeries.csv.gz and annotated_file:/home/yacine/accel/capture24/participants/P117.csv\n"
     ]
    },
    {
     "name": "stderr",
     "output_type": "stream",
     "text": [
      "/tmp/ipykernel_2576663/4209565313.py:25: DtypeWarning: Columns (4) have mixed types.Specify dtype option on import or set low_memory=False.\n",
      "  actual_labels = process_annotated_data(annotated_file)\n"
     ]
    },
    {
     "name": "stdout",
     "output_type": "stream",
     "text": [
      "06-14-2024-12-54-26\tmain\tProcessing predicted_file: /home/aayush/accelerometer/compare_classification/accProcess_output/30_sec/original_features/predicted_output/P118-timeSeries.csv.gz and annotated_file:/home/yacine/accel/capture24/participants/P118.csv\n"
     ]
    },
    {
     "name": "stderr",
     "output_type": "stream",
     "text": [
      "/tmp/ipykernel_2576663/4209565313.py:25: DtypeWarning: Columns (4) have mixed types.Specify dtype option on import or set low_memory=False.\n",
      "  actual_labels = process_annotated_data(annotated_file)\n"
     ]
    },
    {
     "name": "stdout",
     "output_type": "stream",
     "text": [
      "06-14-2024-12-54-36\tmain\tProcessing predicted_file: /home/aayush/accelerometer/compare_classification/accProcess_output/30_sec/original_features/predicted_output/P119-timeSeries.csv.gz and annotated_file:/home/yacine/accel/capture24/participants/P119.csv\n"
     ]
    },
    {
     "name": "stderr",
     "output_type": "stream",
     "text": [
      "/tmp/ipykernel_2576663/4209565313.py:25: DtypeWarning: Columns (4) have mixed types.Specify dtype option on import or set low_memory=False.\n",
      "  actual_labels = process_annotated_data(annotated_file)\n"
     ]
    },
    {
     "name": "stdout",
     "output_type": "stream",
     "text": [
      "06-14-2024-12-54-49\tmain\tProcessing predicted_file: /home/aayush/accelerometer/compare_classification/accProcess_output/30_sec/original_features/predicted_output/P120-timeSeries.csv.gz and annotated_file:/home/yacine/accel/capture24/participants/P120.csv\n"
     ]
    },
    {
     "name": "stderr",
     "output_type": "stream",
     "text": [
      "/tmp/ipykernel_2576663/4209565313.py:25: DtypeWarning: Columns (4) have mixed types.Specify dtype option on import or set low_memory=False.\n",
      "  actual_labels = process_annotated_data(annotated_file)\n"
     ]
    },
    {
     "name": "stdout",
     "output_type": "stream",
     "text": [
      "06-14-2024-12-55-00\tmain\tProcessing predicted_file: /home/aayush/accelerometer/compare_classification/accProcess_output/30_sec/original_features/predicted_output/P121-timeSeries.csv.gz and annotated_file:/home/yacine/accel/capture24/participants/P121.csv\n"
     ]
    },
    {
     "name": "stderr",
     "output_type": "stream",
     "text": [
      "/tmp/ipykernel_2576663/4209565313.py:25: DtypeWarning: Columns (4) have mixed types.Specify dtype option on import or set low_memory=False.\n",
      "  actual_labels = process_annotated_data(annotated_file)\n"
     ]
    },
    {
     "name": "stdout",
     "output_type": "stream",
     "text": [
      "06-14-2024-12-55-12\tmain\tProcessing predicted_file: /home/aayush/accelerometer/compare_classification/accProcess_output/30_sec/original_features/predicted_output/P122-timeSeries.csv.gz and annotated_file:/home/yacine/accel/capture24/participants/P122.csv\n"
     ]
    },
    {
     "name": "stderr",
     "output_type": "stream",
     "text": [
      "/tmp/ipykernel_2576663/4209565313.py:25: DtypeWarning: Columns (4) have mixed types.Specify dtype option on import or set low_memory=False.\n",
      "  actual_labels = process_annotated_data(annotated_file)\n",
      "/tmp/ipykernel_2576663/2825748892.py:36: SettingWithCopyWarning: \n",
      "A value is trying to be set on a copy of a slice from a DataFrame.\n",
      "Try using .loc[row_indexer,col_indexer] = value instead\n",
      "\n",
      "See the caveats in the documentation: https://pandas.pydata.org/pandas-docs/stable/user_guide/indexing.html#returning-a-view-versus-a-copy\n",
      "  df_cleaned['time_cleaned'] = df_cleaned_time\n"
     ]
    },
    {
     "name": "stdout",
     "output_type": "stream",
     "text": [
      "06-14-2024-12-55-22\tmain\tProcessing predicted_file: /home/aayush/accelerometer/compare_classification/accProcess_output/30_sec/original_features/predicted_output/P123-timeSeries.csv.gz and annotated_file:/home/yacine/accel/capture24/participants/P123.csv\n"
     ]
    },
    {
     "name": "stderr",
     "output_type": "stream",
     "text": [
      "/tmp/ipykernel_2576663/4209565313.py:25: DtypeWarning: Columns (4) have mixed types.Specify dtype option on import or set low_memory=False.\n",
      "  actual_labels = process_annotated_data(annotated_file)\n"
     ]
    },
    {
     "name": "stdout",
     "output_type": "stream",
     "text": [
      "06-14-2024-12-55-31\tmain\tProcessing predicted_file: /home/aayush/accelerometer/compare_classification/accProcess_output/30_sec/original_features/predicted_output/P124-timeSeries.csv.gz and annotated_file:/home/yacine/accel/capture24/participants/P124.csv\n"
     ]
    },
    {
     "name": "stderr",
     "output_type": "stream",
     "text": [
      "/tmp/ipykernel_2576663/4209565313.py:25: DtypeWarning: Columns (4) have mixed types.Specify dtype option on import or set low_memory=False.\n",
      "  actual_labels = process_annotated_data(annotated_file)\n"
     ]
    },
    {
     "name": "stdout",
     "output_type": "stream",
     "text": [
      "06-14-2024-12-55-41\tmain\tProcessing predicted_file: /home/aayush/accelerometer/compare_classification/accProcess_output/30_sec/original_features/predicted_output/P125-timeSeries.csv.gz and annotated_file:/home/yacine/accel/capture24/participants/P125.csv\n"
     ]
    },
    {
     "name": "stderr",
     "output_type": "stream",
     "text": [
      "/tmp/ipykernel_2576663/4209565313.py:25: DtypeWarning: Columns (4) have mixed types.Specify dtype option on import or set low_memory=False.\n",
      "  actual_labels = process_annotated_data(annotated_file)\n"
     ]
    },
    {
     "name": "stdout",
     "output_type": "stream",
     "text": [
      "06-14-2024-12-55-55\tmain\tProcessing predicted_file: /home/aayush/accelerometer/compare_classification/accProcess_output/30_sec/original_features/predicted_output/P126-timeSeries.csv.gz and annotated_file:/home/yacine/accel/capture24/participants/P126.csv\n"
     ]
    },
    {
     "name": "stderr",
     "output_type": "stream",
     "text": [
      "/tmp/ipykernel_2576663/4209565313.py:25: DtypeWarning: Columns (4) have mixed types.Specify dtype option on import or set low_memory=False.\n",
      "  actual_labels = process_annotated_data(annotated_file)\n"
     ]
    },
    {
     "name": "stdout",
     "output_type": "stream",
     "text": [
      "06-14-2024-12-56-06\tmain\tProcessing predicted_file: /home/aayush/accelerometer/compare_classification/accProcess_output/30_sec/original_features/predicted_output/P127-timeSeries.csv.gz and annotated_file:/home/yacine/accel/capture24/participants/P127.csv\n"
     ]
    },
    {
     "name": "stderr",
     "output_type": "stream",
     "text": [
      "/tmp/ipykernel_2576663/4209565313.py:25: DtypeWarning: Columns (4) have mixed types.Specify dtype option on import or set low_memory=False.\n",
      "  actual_labels = process_annotated_data(annotated_file)\n"
     ]
    },
    {
     "name": "stdout",
     "output_type": "stream",
     "text": [
      "06-14-2024-12-56-15\tmain\tProcessing predicted_file: /home/aayush/accelerometer/compare_classification/accProcess_output/30_sec/original_features/predicted_output/P128-timeSeries.csv.gz and annotated_file:/home/yacine/accel/capture24/participants/P128.csv\n"
     ]
    },
    {
     "name": "stderr",
     "output_type": "stream",
     "text": [
      "/tmp/ipykernel_2576663/4209565313.py:25: DtypeWarning: Columns (4) have mixed types.Specify dtype option on import or set low_memory=False.\n",
      "  actual_labels = process_annotated_data(annotated_file)\n"
     ]
    },
    {
     "name": "stdout",
     "output_type": "stream",
     "text": [
      "06-14-2024-12-56-28\tmain\tProcessing predicted_file: /home/aayush/accelerometer/compare_classification/accProcess_output/30_sec/original_features/predicted_output/P129-timeSeries.csv.gz and annotated_file:/home/yacine/accel/capture24/participants/P129.csv\n"
     ]
    },
    {
     "name": "stderr",
     "output_type": "stream",
     "text": [
      "/tmp/ipykernel_2576663/4209565313.py:25: DtypeWarning: Columns (4) have mixed types.Specify dtype option on import or set low_memory=False.\n",
      "  actual_labels = process_annotated_data(annotated_file)\n"
     ]
    },
    {
     "name": "stdout",
     "output_type": "stream",
     "text": [
      "06-14-2024-12-56-39\tmain\tProcessing predicted_file: /home/aayush/accelerometer/compare_classification/accProcess_output/30_sec/original_features/predicted_output/P130-timeSeries.csv.gz and annotated_file:/home/yacine/accel/capture24/participants/P130.csv\n"
     ]
    },
    {
     "name": "stderr",
     "output_type": "stream",
     "text": [
      "/tmp/ipykernel_2576663/4209565313.py:25: DtypeWarning: Columns (4) have mixed types.Specify dtype option on import or set low_memory=False.\n",
      "  actual_labels = process_annotated_data(annotated_file)\n"
     ]
    },
    {
     "name": "stdout",
     "output_type": "stream",
     "text": [
      "06-14-2024-12-56-51\tmain\tProcessing predicted_file: /home/aayush/accelerometer/compare_classification/accProcess_output/30_sec/original_features/predicted_output/P131-timeSeries.csv.gz and annotated_file:/home/yacine/accel/capture24/participants/P131.csv\n"
     ]
    },
    {
     "name": "stderr",
     "output_type": "stream",
     "text": [
      "/tmp/ipykernel_2576663/4209565313.py:25: DtypeWarning: Columns (4) have mixed types.Specify dtype option on import or set low_memory=False.\n",
      "  actual_labels = process_annotated_data(annotated_file)\n"
     ]
    },
    {
     "name": "stdout",
     "output_type": "stream",
     "text": [
      "06-14-2024-12-57-03\tmain\tProcessing predicted_file: /home/aayush/accelerometer/compare_classification/accProcess_output/30_sec/original_features/predicted_output/P132-timeSeries.csv.gz and annotated_file:/home/yacine/accel/capture24/participants/P132.csv\n"
     ]
    },
    {
     "name": "stderr",
     "output_type": "stream",
     "text": [
      "/tmp/ipykernel_2576663/4209565313.py:25: DtypeWarning: Columns (4) have mixed types.Specify dtype option on import or set low_memory=False.\n",
      "  actual_labels = process_annotated_data(annotated_file)\n"
     ]
    },
    {
     "name": "stdout",
     "output_type": "stream",
     "text": [
      "06-14-2024-12-57-14\tmain\tProcessing predicted_file: /home/aayush/accelerometer/compare_classification/accProcess_output/30_sec/original_features/predicted_output/P133-timeSeries.csv.gz and annotated_file:/home/yacine/accel/capture24/participants/P133.csv\n"
     ]
    },
    {
     "name": "stderr",
     "output_type": "stream",
     "text": [
      "/tmp/ipykernel_2576663/4209565313.py:25: DtypeWarning: Columns (4) have mixed types.Specify dtype option on import or set low_memory=False.\n",
      "  actual_labels = process_annotated_data(annotated_file)\n"
     ]
    },
    {
     "name": "stdout",
     "output_type": "stream",
     "text": [
      "06-14-2024-12-57-28\tmain\tProcessing predicted_file: /home/aayush/accelerometer/compare_classification/accProcess_output/30_sec/original_features/predicted_output/P134-timeSeries.csv.gz and annotated_file:/home/yacine/accel/capture24/participants/P134.csv\n"
     ]
    },
    {
     "name": "stderr",
     "output_type": "stream",
     "text": [
      "/tmp/ipykernel_2576663/4209565313.py:25: DtypeWarning: Columns (4) have mixed types.Specify dtype option on import or set low_memory=False.\n",
      "  actual_labels = process_annotated_data(annotated_file)\n"
     ]
    },
    {
     "name": "stdout",
     "output_type": "stream",
     "text": [
      "06-14-2024-12-57-39\tmain\tProcessing predicted_file: /home/aayush/accelerometer/compare_classification/accProcess_output/30_sec/original_features/predicted_output/P135-timeSeries.csv.gz and annotated_file:/home/yacine/accel/capture24/participants/P135.csv\n"
     ]
    },
    {
     "name": "stderr",
     "output_type": "stream",
     "text": [
      "/tmp/ipykernel_2576663/4209565313.py:25: DtypeWarning: Columns (4) have mixed types.Specify dtype option on import or set low_memory=False.\n",
      "  actual_labels = process_annotated_data(annotated_file)\n"
     ]
    },
    {
     "name": "stdout",
     "output_type": "stream",
     "text": [
      "06-14-2024-12-57-50\tmain\tProcessing predicted_file: /home/aayush/accelerometer/compare_classification/accProcess_output/30_sec/original_features/predicted_output/P136-timeSeries.csv.gz and annotated_file:/home/yacine/accel/capture24/participants/P136.csv\n"
     ]
    },
    {
     "name": "stderr",
     "output_type": "stream",
     "text": [
      "/tmp/ipykernel_2576663/4209565313.py:25: DtypeWarning: Columns (4) have mixed types.Specify dtype option on import or set low_memory=False.\n",
      "  actual_labels = process_annotated_data(annotated_file)\n"
     ]
    },
    {
     "name": "stdout",
     "output_type": "stream",
     "text": [
      "06-14-2024-12-57-58\tmain\tProcessing predicted_file: /home/aayush/accelerometer/compare_classification/accProcess_output/30_sec/original_features/predicted_output/P137-timeSeries.csv.gz and annotated_file:/home/yacine/accel/capture24/participants/P137.csv\n"
     ]
    },
    {
     "name": "stderr",
     "output_type": "stream",
     "text": [
      "/tmp/ipykernel_2576663/4209565313.py:25: DtypeWarning: Columns (4) have mixed types.Specify dtype option on import or set low_memory=False.\n",
      "  actual_labels = process_annotated_data(annotated_file)\n",
      "/tmp/ipykernel_2576663/2825748892.py:36: SettingWithCopyWarning: \n",
      "A value is trying to be set on a copy of a slice from a DataFrame.\n",
      "Try using .loc[row_indexer,col_indexer] = value instead\n",
      "\n",
      "See the caveats in the documentation: https://pandas.pydata.org/pandas-docs/stable/user_guide/indexing.html#returning-a-view-versus-a-copy\n",
      "  df_cleaned['time_cleaned'] = df_cleaned_time\n"
     ]
    },
    {
     "name": "stdout",
     "output_type": "stream",
     "text": [
      "06-14-2024-12-58-09\tmain\tProcessing predicted_file: /home/aayush/accelerometer/compare_classification/accProcess_output/30_sec/original_features/predicted_output/P138-timeSeries.csv.gz and annotated_file:/home/yacine/accel/capture24/participants/P138.csv\n"
     ]
    },
    {
     "name": "stderr",
     "output_type": "stream",
     "text": [
      "/tmp/ipykernel_2576663/4209565313.py:25: DtypeWarning: Columns (4) have mixed types.Specify dtype option on import or set low_memory=False.\n",
      "  actual_labels = process_annotated_data(annotated_file)\n"
     ]
    },
    {
     "name": "stdout",
     "output_type": "stream",
     "text": [
      "06-14-2024-12-58-20\tmain\tProcessing predicted_file: /home/aayush/accelerometer/compare_classification/accProcess_output/30_sec/original_features/predicted_output/P139-timeSeries.csv.gz and annotated_file:/home/yacine/accel/capture24/participants/P139.csv\n"
     ]
    },
    {
     "name": "stderr",
     "output_type": "stream",
     "text": [
      "/tmp/ipykernel_2576663/4209565313.py:25: DtypeWarning: Columns (4) have mixed types.Specify dtype option on import or set low_memory=False.\n",
      "  actual_labels = process_annotated_data(annotated_file)\n"
     ]
    },
    {
     "name": "stdout",
     "output_type": "stream",
     "text": [
      "06-14-2024-12-58-30\tmain\tProcessing predicted_file: /home/aayush/accelerometer/compare_classification/accProcess_output/30_sec/original_features/predicted_output/P140-timeSeries.csv.gz and annotated_file:/home/yacine/accel/capture24/participants/P140.csv\n"
     ]
    },
    {
     "name": "stderr",
     "output_type": "stream",
     "text": [
      "/tmp/ipykernel_2576663/4209565313.py:25: DtypeWarning: Columns (4) have mixed types.Specify dtype option on import or set low_memory=False.\n",
      "  actual_labels = process_annotated_data(annotated_file)\n"
     ]
    },
    {
     "name": "stdout",
     "output_type": "stream",
     "text": [
      "06-14-2024-12-58-39\tmain\tProcessing predicted_file: /home/aayush/accelerometer/compare_classification/accProcess_output/30_sec/original_features/predicted_output/P141-timeSeries.csv.gz and annotated_file:/home/yacine/accel/capture24/participants/P141.csv\n"
     ]
    },
    {
     "name": "stderr",
     "output_type": "stream",
     "text": [
      "/tmp/ipykernel_2576663/4209565313.py:25: DtypeWarning: Columns (4) have mixed types.Specify dtype option on import or set low_memory=False.\n",
      "  actual_labels = process_annotated_data(annotated_file)\n"
     ]
    },
    {
     "name": "stdout",
     "output_type": "stream",
     "text": [
      "06-14-2024-12-58-51\tmain\tProcessing predicted_file: /home/aayush/accelerometer/compare_classification/accProcess_output/30_sec/original_features/predicted_output/P142-timeSeries.csv.gz and annotated_file:/home/yacine/accel/capture24/participants/P142.csv\n"
     ]
    },
    {
     "name": "stderr",
     "output_type": "stream",
     "text": [
      "/tmp/ipykernel_2576663/4209565313.py:25: DtypeWarning: Columns (4) have mixed types.Specify dtype option on import or set low_memory=False.\n",
      "  actual_labels = process_annotated_data(annotated_file)\n",
      "/tmp/ipykernel_2576663/2825748892.py:36: SettingWithCopyWarning: \n",
      "A value is trying to be set on a copy of a slice from a DataFrame.\n",
      "Try using .loc[row_indexer,col_indexer] = value instead\n",
      "\n",
      "See the caveats in the documentation: https://pandas.pydata.org/pandas-docs/stable/user_guide/indexing.html#returning-a-view-versus-a-copy\n",
      "  df_cleaned['time_cleaned'] = df_cleaned_time\n"
     ]
    },
    {
     "name": "stdout",
     "output_type": "stream",
     "text": [
      "06-14-2024-12-58-59\tmain\tProcessing predicted_file: /home/aayush/accelerometer/compare_classification/accProcess_output/30_sec/original_features/predicted_output/P143-timeSeries.csv.gz and annotated_file:/home/yacine/accel/capture24/participants/P143.csv\n"
     ]
    },
    {
     "name": "stderr",
     "output_type": "stream",
     "text": [
      "/tmp/ipykernel_2576663/4209565313.py:25: DtypeWarning: Columns (4) have mixed types.Specify dtype option on import or set low_memory=False.\n",
      "  actual_labels = process_annotated_data(annotated_file)\n"
     ]
    },
    {
     "name": "stdout",
     "output_type": "stream",
     "text": [
      "06-14-2024-12-59-10\tmain\tProcessing predicted_file: /home/aayush/accelerometer/compare_classification/accProcess_output/30_sec/original_features/predicted_output/P144-timeSeries.csv.gz and annotated_file:/home/yacine/accel/capture24/participants/P144.csv\n"
     ]
    },
    {
     "name": "stderr",
     "output_type": "stream",
     "text": [
      "/tmp/ipykernel_2576663/4209565313.py:25: DtypeWarning: Columns (4) have mixed types.Specify dtype option on import or set low_memory=False.\n",
      "  actual_labels = process_annotated_data(annotated_file)\n"
     ]
    },
    {
     "name": "stdout",
     "output_type": "stream",
     "text": [
      "06-14-2024-12-59-20\tmain\tProcessing predicted_file: /home/aayush/accelerometer/compare_classification/accProcess_output/30_sec/original_features/predicted_output/P145-timeSeries.csv.gz and annotated_file:/home/yacine/accel/capture24/participants/P145.csv\n"
     ]
    },
    {
     "name": "stderr",
     "output_type": "stream",
     "text": [
      "/tmp/ipykernel_2576663/4209565313.py:25: DtypeWarning: Columns (4) have mixed types.Specify dtype option on import or set low_memory=False.\n",
      "  actual_labels = process_annotated_data(annotated_file)\n"
     ]
    },
    {
     "name": "stdout",
     "output_type": "stream",
     "text": [
      "06-14-2024-12-59-32\tmain\tProcessing predicted_file: /home/aayush/accelerometer/compare_classification/accProcess_output/30_sec/original_features/predicted_output/P146-timeSeries.csv.gz and annotated_file:/home/yacine/accel/capture24/participants/P146.csv\n"
     ]
    },
    {
     "name": "stderr",
     "output_type": "stream",
     "text": [
      "/tmp/ipykernel_2576663/4209565313.py:25: DtypeWarning: Columns (4) have mixed types.Specify dtype option on import or set low_memory=False.\n",
      "  actual_labels = process_annotated_data(annotated_file)\n"
     ]
    },
    {
     "name": "stdout",
     "output_type": "stream",
     "text": [
      "06-14-2024-12-59-44\tmain\tProcessing predicted_file: /home/aayush/accelerometer/compare_classification/accProcess_output/30_sec/original_features/predicted_output/P147-timeSeries.csv.gz and annotated_file:/home/yacine/accel/capture24/participants/P147.csv\n"
     ]
    },
    {
     "name": "stderr",
     "output_type": "stream",
     "text": [
      "/tmp/ipykernel_2576663/4209565313.py:25: DtypeWarning: Columns (4) have mixed types.Specify dtype option on import or set low_memory=False.\n",
      "  actual_labels = process_annotated_data(annotated_file)\n"
     ]
    },
    {
     "name": "stdout",
     "output_type": "stream",
     "text": [
      "06-14-2024-12-59-56\tmain\tProcessing predicted_file: /home/aayush/accelerometer/compare_classification/accProcess_output/30_sec/original_features/predicted_output/P148-timeSeries.csv.gz and annotated_file:/home/yacine/accel/capture24/participants/P148.csv\n"
     ]
    },
    {
     "name": "stderr",
     "output_type": "stream",
     "text": [
      "/tmp/ipykernel_2576663/4209565313.py:25: DtypeWarning: Columns (4) have mixed types.Specify dtype option on import or set low_memory=False.\n",
      "  actual_labels = process_annotated_data(annotated_file)\n"
     ]
    },
    {
     "name": "stdout",
     "output_type": "stream",
     "text": [
      "06-14-2024-13-00-07\tmain\tProcessing predicted_file: /home/aayush/accelerometer/compare_classification/accProcess_output/30_sec/original_features/predicted_output/P149-timeSeries.csv.gz and annotated_file:/home/yacine/accel/capture24/participants/P149.csv\n"
     ]
    },
    {
     "name": "stderr",
     "output_type": "stream",
     "text": [
      "/tmp/ipykernel_2576663/4209565313.py:25: DtypeWarning: Columns (4) have mixed types.Specify dtype option on import or set low_memory=False.\n",
      "  actual_labels = process_annotated_data(annotated_file)\n"
     ]
    },
    {
     "name": "stdout",
     "output_type": "stream",
     "text": [
      "06-14-2024-13-00-18\tmain\tProcessing predicted_file: /home/aayush/accelerometer/compare_classification/accProcess_output/30_sec/original_features/predicted_output/P150-timeSeries.csv.gz and annotated_file:/home/yacine/accel/capture24/participants/P150.csv\n"
     ]
    },
    {
     "name": "stderr",
     "output_type": "stream",
     "text": [
      "/tmp/ipykernel_2576663/4209565313.py:25: DtypeWarning: Columns (4) have mixed types.Specify dtype option on import or set low_memory=False.\n",
      "  actual_labels = process_annotated_data(annotated_file)\n"
     ]
    },
    {
     "name": "stdout",
     "output_type": "stream",
     "text": [
      "06-14-2024-13-00-30\tmain\tProcessing predicted_file: /home/aayush/accelerometer/compare_classification/accProcess_output/30_sec/original_features/predicted_output/P151-timeSeries.csv.gz and annotated_file:/home/yacine/accel/capture24/participants/P151.csv\n"
     ]
    },
    {
     "name": "stderr",
     "output_type": "stream",
     "text": [
      "/tmp/ipykernel_2576663/4209565313.py:25: DtypeWarning: Columns (4) have mixed types.Specify dtype option on import or set low_memory=False.\n",
      "  actual_labels = process_annotated_data(annotated_file)\n"
     ]
    },
    {
     "name": "stdout",
     "output_type": "stream",
     "text": [
      "##############DONE#############\n"
     ]
    },
    {
     "name": "stderr",
     "output_type": "stream",
     "text": [
      "/tmp/ipykernel_2576663/2825748892.py:36: SettingWithCopyWarning: \n",
      "A value is trying to be set on a copy of a slice from a DataFrame.\n",
      "Try using .loc[row_indexer,col_indexer] = value instead\n",
      "\n",
      "See the caveats in the documentation: https://pandas.pydata.org/pandas-docs/stable/user_guide/indexing.html#returning-a-view-versus-a-copy\n",
      "  df_cleaned['time_cleaned'] = df_cleaned_time\n"
     ]
    }
   ],
   "source": [
    "df_cleaned_all = []\n",
    "df_original_all = []\n",
    "\n",
    "actual_labels_all = []\n",
    "actual_labels_cleaned_all = []\n",
    "\n",
    "\n",
    "predicted_items_na_total = 0\n",
    "count_dropped_actual_labels_na_total = 0\n",
    "count_dropped_predicted_dedup_total = 0\n",
    "count_timestamp_actual_labels_total = 0\n",
    "count_timestamp_predicted_total = 0\n",
    "\n",
    "\n",
    "# We only want to consider testParticipants: 101 to 151.\n",
    "for predicted_file, annotated_file in zip(predicted_data_files[100:151], annotated_data_files[100:151]):\n",
    "    logging.log(\"main\", f\"Processing predicted_file: {predicted_file} and annotated_file:{annotated_file}\")\n",
    "\n",
    "    # In this step we drop the activities which are NaN from the predicted data file\n",
    "    df_cleaned, df_original = decode_activities(predicted_file)\n",
    "\n",
    "    predicted_items_na_total += len(df_original) - len(df_cleaned)\n",
    "\n",
    "    # We process the strings to timestamps for annotated file\n",
    "    actual_labels = process_annotated_data(annotated_file)\n",
    "\n",
    "    # In this step:\n",
    "    # We convert the strings to timestamps for cleaned predicted data file\n",
    "    # drop all 'nan' rows from actual labels\n",
    "    # Filter out all those timestamps which do not exist in df_cleaned_time\n",
    "    # Filter out all those timestamps which do not exist in actual_labels\n",
    "    # Remove all duplicated timestamps from df_cleaned_filtered\n",
    "    # replace the annotated labels with the same format of strings as predicted labels using mapping from labels_dict\n",
    "    actual_labels_cleaned, df_cleaned_filtered, count_dropped_actual_labels_na, count_dropped_predicted_dedup,  count_timestamp_actual_labels, count_timestamp_predicted = filtering_data(df_cleaned, actual_labels, labels_dict)\n",
    "\n",
    "    # logging.log(\"main\", f\"Number of dropped items from predicted df due to NA values: {len(df_original) - len(df_cleaned)}\")\n",
    "    # logging.log(\"main\", f\"Number of dropped items from actual_label df due to NA values: {count_dropped_actual_labels_na}\")\n",
    "    # logging.log(\"main\", f\"Number of dropped items from predicted df due to duplicate timestamps: {count_dropped_predicted_dedup}\")\n",
    "    # logging.log(\"main\", f\"Number of dropped items from actual_label df due to timestamp mismatch with predicted df: {count_timestamp_actual_labels}\")\n",
    "    # logging.log(\"main\", f\"Number of dropped items from predicted df due to timestamp mismatch with actual_label df: {count_timestamp_predicted}\")\n",
    "    \n",
    "\n",
    "    count_dropped_actual_labels_na_total += count_dropped_actual_labels_na\n",
    "    count_dropped_predicted_dedup_total += count_dropped_predicted_dedup\n",
    "    count_timestamp_actual_labels_total += count_timestamp_actual_labels\n",
    "    count_timestamp_predicted_total += count_timestamp_predicted\n",
    "    \n",
    "    \n",
    "    cm = create_confusion_matrix(actual_labels_cleaned, df_cleaned_filtered)\n",
    "    combined_cm += cm\n",
    "\n",
    "    df_cleaned_all.append(df_cleaned_filtered)\n",
    "    df_original_all.append(df_original)\n",
    "    \n",
    "    actual_labels_all.append(actual_labels)\n",
    "    actual_labels_cleaned_all.append(actual_labels_cleaned)\n",
    "    \n",
    "print(\"##############DONE#############\")"
   ]
  },
  {
   "cell_type": "code",
   "execution_count": 9,
   "id": "05612fbf-ec40-448a-a087-a089e70b7d47",
   "metadata": {},
   "outputs": [],
   "source": [
    "df_cleaned_all_pd = pd.concat(df_cleaned_all, ignore_index=True, axis=0)\n",
    "df_original_all_pd = pd.concat(df_original_all, ignore_index=True, axis=0)\n",
    "\n",
    "actual_labels_all_pd = pd.concat(actual_labels_all, ignore_index=True, axis=0)\n",
    "actual_labels_cleaned_all_pd = pd.concat(actual_labels_cleaned_all, ignore_index=True, axis=0)"
   ]
  },
  {
   "cell_type": "code",
   "execution_count": 10,
   "id": "e6b3b99d-af20-4c3b-b212-edcc35bab232",
   "metadata": {},
   "outputs": [
    {
     "name": "stdout",
     "output_type": "stream",
     "text": [
      "Number of dropped items from predicted df due to NA values: 1844\n",
      "Number of dropped items from actual_label df due to NA values: 54181\n",
      "Number of dropped items from predicted df due to duplicate timestamps: 0\n",
      "Number of dropped items from actual_label df due to timestamp mismatch with predicted df: 4669\n",
      "Number of dropped items from predicted df due to timestamp mismatch with actual_label df: 57185\n"
     ]
    }
   ],
   "source": [
    "print(f\"Number of dropped items from predicted df due to NA values: {predicted_items_na_total}\")\n",
    "print(f\"Number of dropped items from actual_label df due to NA values: {count_dropped_actual_labels_na_total}\")\n",
    "print(f\"Number of dropped items from predicted df due to duplicate timestamps: {count_dropped_predicted_dedup_total}\")\n",
    "print(f\"Number of dropped items from actual_label df due to timestamp mismatch with predicted df: {count_timestamp_actual_labels_total}\")\n",
    "print(f\"Number of dropped items from predicted df due to timestamp mismatch with actual_label df: {count_timestamp_predicted_total}\")"
   ]
  },
  {
   "cell_type": "code",
   "execution_count": 11,
   "id": "b7df604f-7857-4ac3-a6da-47ea4d853230",
   "metadata": {},
   "outputs": [],
   "source": [
    "# print(df_cleaned_all_pd)\n",
    "# print(df_original_all_pd)\n",
    "\n",
    "# print(actual_labels_all_pd)\n",
    "# print(actual_labels_cleaned_all_pd)"
   ]
  },
  {
   "cell_type": "code",
   "execution_count": 12,
   "id": "aa175a9a-e0e3-4897-baa3-d8b5723bdedc",
   "metadata": {},
   "outputs": [
    {
     "data": {
      "image/png": "[encoded data removed]",
      "text/plain": [
       "<Figure size 640x480 with 2 Axes>"
      ]
     },
     "metadata": {},
     "output_type": "display_data"
    }
   ],
   "source": [
    "display_confusion_matrix(combined_cm, normalize=True)"
   ]
  },
  {
   "cell_type": "code",
   "execution_count": 13,
   "id": "a72fd03f-5f16-4c8b-a1ea-a47e3ce27da9",
   "metadata": {},
   "outputs": [
    {
     "data": {
      "image/png": "[encoded data removed]",
      "text/plain": [
       "<Figure size 640x480 with 2 Axes>"
      ]
     },
     "metadata": {},
     "output_type": "display_data"
    }
   ],
   "source": [
    "display_confusion_matrix(combined_cm, normalize=False)"
   ]
  },
  {
   "cell_type": "code",
   "execution_count": null,
   "id": "53c462e7-810a-4a5e-a070-ee71b23b4026",
   "metadata": {},
   "outputs": [],
   "source": []
  }
 ],
 "metadata": {
  "kernelspec": {
   "display_name": "Python 3 (ipykernel)",
   "language": "python",
   "name": "python3"
  },
  "language_info": {
   "codemirror_mode": {
    "name": "ipython",
    "version": 3
   },
   "file_extension": ".py",
   "mimetype": "text/x-python",
   "name": "python",
   "nbconvert_exporter": "python",
   "pygments_lexer": "ipython3",
   "version": "3.10.12"
  }
 },
 "nbformat": 4,
 "nbformat_minor": 5
}
