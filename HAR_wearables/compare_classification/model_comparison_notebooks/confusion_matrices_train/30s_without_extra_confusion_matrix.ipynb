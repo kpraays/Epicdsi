{
 "cells": [
  {
   "cell_type": "code",
   "execution_count": 1,
   "id": "d3fe71b3-eeb9-41c3-867c-c51f7ea9c2f4",
   "metadata": {},
   "outputs": [],
   "source": [
    "import os\n",
    "import pandas as pd\n",
    "import csv\n",
    "import numpy as np\n",
    "import time\n",
    "\n",
    "from datetime import datetime\n",
    "from sklearn.metrics import confusion_matrix, ConfusionMatrixDisplay\n",
    "\n",
    "predicted_data_path = \"/home/aayush/accelerometer/compare_classification/accProcess_output/30_sec/original_features/predicted_output\"\n",
    "annotated_data_path = \"/home/yacine/accel/capture24/participants/\"\n",
    "\n",
    "labels_dict_location = \"/home/aayush/accelerometer/accprocess/anno-label.csv\"\n",
    "confusion_matrix_location = \"/home/aayush/accelerometer/compare_classification/confusion_matrix_output/30_sec/original_features\"\n",
    "\n",
    "test_participants = \"101,102,103,104,105,106,107,108,109,110,111,112,113,114,115,116,117,118,119,120,121,122,123,124,125,126,127,128,129,130,131,132,133,134,135,136,137,138,139,140,141,142,143,144,145,146,147,148,149,150,151\"\n",
    "test_participants = [float(t) for t in test_participants.split(\",\")]\n",
    "\n",
    "epoch_time = 3000 # 30 seconds"
   ]
  },
  {
   "cell_type": "code",
   "execution_count": 2,
   "id": "9c4c99a4-58fa-4ccf-a14d-b0e0b7739c15",
   "metadata": {},
   "outputs": [],
   "source": [
    "class logger:\n",
    "    def __init__(self) -> None:\n",
    "        timestamp = datetime.now().strftime(\"%m-%d-%Y-%H-%M-%S\")\n",
    "        # log = f\"{log_path}/Process_data_{timestamp}.log\"\n",
    "        # with open(log, \"w\") as log_file_save:\n",
    "        #     log_file_save.write(\"################################################\\n\")\n",
    "        #     log_file_save.write(\"|Timestamp| + \\t + |Func| + \\t + |Message|\\n\")\n",
    "        # self.log_file = log\n",
    "    \n",
    "    def log(self, func, message) -> None:\n",
    "        # with open(self.log_file, \"a\") as log_file_save:\n",
    "        #     timestamp = datetime.now().strftime(\"%m-%d-%Y-%H-%M-%S\")\n",
    "        #     log_message = timestamp + \"\\t\" + func + \"\\t\" + message\n",
    "        #     log_file_save.write(log_message + \"\\n\")\n",
    "\n",
    "        timestamp = datetime.now().strftime(\"%m-%d-%Y-%H-%M-%S\")\n",
    "        log_message = timestamp + \"\\t\" + func + \"\\t\" + message\n",
    "        print(log_message)\n",
    "\n",
    "logging = logger()"
   ]
  },
  {
   "cell_type": "code",
   "execution_count": 3,
   "id": "1aa28808-6c5d-41b8-b00f-510aa84088c4",
   "metadata": {},
   "outputs": [],
   "source": [
    "def get_files(data_path, predicted_files=False, annotated_files=False) -> None:\n",
    "    total_csv_zipped = []\n",
    "    for path, dirnames, filenames in os.walk(data_path):\n",
    "        logging.log(\"get_files\", f\"Looking for data files in {path}.\")\n",
    "        for file in filenames:\n",
    "            if file.endswith(\".csv.gz\") and predicted_files:\n",
    "                # paths contains the base directory for that file.\n",
    "                # dirnames contains other directories within this folder.\n",
    "                # filenames contains the list of filenames within path.\n",
    "                total_csv_zipped.append(os.path.join(path, file))\n",
    "                # logging.log(\"get_files\", f\"Found FILE:{file} in PATH:{path}.\")\n",
    "                \n",
    "            if file.endswith(\".csv\") and annotated_files and file[0]!='c': #ignore the capture24 file\n",
    "                # paths contains the base directory for that file.\n",
    "                # dirnames contains other directories within this folder.\n",
    "                # filenames contains the list of filenames within path.\n",
    "                total_csv_zipped.append(os.path.join(path, file))\n",
    "                # logging.log(\"get_files\", f\"Found FILE:{file} in PATH:{path}.\")\n",
    "    logging.log(\"get_files\", \"#################################################################################\")\n",
    "    logging.log(\"get_files\", f\"######### Total files in the data path: {len(total_csv_zipped)} #########\")\n",
    "    logging.log(\"get_files\", \"#################################################################################\")\n",
    "    return sorted(total_csv_zipped)"
   ]
  },
  {
   "cell_type": "code",
   "execution_count": 4,
   "id": "13b1e338-00b5-4aa7-b777-933e8d733309",
   "metadata": {},
   "outputs": [],
   "source": [
    "def create_labels_dict():\n",
    "    logging.log(\"create_labels_dict\", \"Created labels dict for mapping.\")\n",
    "    labels_dict = {}\n",
    "    with open(labels_dict_location, \"r\") as annotation_dict:\n",
    "        reader = csv.DictReader(annotation_dict)\n",
    "        for row in reader:\n",
    "            if labels_dict.get(row['annotation']) is None:\n",
    "                labels_dict[row['annotation']] = [row['label:Walmsley2020']]\n",
    "            else:\n",
    "                labels_dict[row['annotation']].append(row['label:Walmsley2020'])\n",
    "    return labels_dict\n",
    "\n",
    "\n",
    "def parse_datetime(dt_string):\n",
    "    clean_datetime_str = dt_string.split('[')[0].strip()\n",
    "    dt_object = pd.to_datetime(clean_datetime_str)\n",
    "    return dt_object\n",
    "\n",
    "\n",
    "def parse_datetime_df_time(dt_string):\n",
    "    clean_datetime_str = dt_string.split('[')[0].strip()\n",
    "    clean_datetime_str = clean_datetime_str.split('+')[0].strip()\n",
    "    dt_object = pd.to_datetime(clean_datetime_str)\n",
    "    return dt_object"
   ]
  },
  {
   "cell_type": "code",
   "execution_count": 5,
   "id": "54b606c9-16f3-43e5-ab49-ccf1754fdfd7",
   "metadata": {},
   "outputs": [],
   "source": [
    "def create_confusion_matrix(actual_labels_cleaned, df_cleaned_filtered):\n",
    "    assert len(actual_labels_cleaned) == len(df_cleaned_filtered), \"DataFrames must be of the same length\"\n",
    "\n",
    "    true_labels = actual_labels_cleaned['annotation']\n",
    "    predicted_labels = df_cleaned_filtered['activity_predicted']\n",
    "\n",
    "    # Generate confusion matrix\n",
    "    cm = confusion_matrix(true_labels, predicted_labels, labels=['light', 'moderate-vigorous', 'sedentary', 'sleep'])\n",
    "    \n",
    "    # logging.log(\"create_confusion_matrix\", \"Created confusion matrix.\")\n",
    "    return cm\n",
    "\n",
    "\n",
    "def display_confusion_matrix(cm, normalize=True):\n",
    "    # logging.log(\"display_confusion_matrix\", \"Display confusion matrix.\")\n",
    "    import matplotlib.pyplot as plt\n",
    "    \n",
    "    if normalize:\n",
    "    # Normalize by true values\n",
    "        cm = cm.astype(float)\n",
    "        row_sums = cm.sum(axis=1)\n",
    "\n",
    "        # Avoid division by zero; replace zeros with ones (or a very small number) in the denominator\n",
    "        row_sums[row_sums == 0] = 1\n",
    "\n",
    "        # Normalize each row\n",
    "        cm = cm / row_sums[:, np.newaxis]\n",
    "\n",
    "    # Display the confusion matrix\n",
    "    disp = ConfusionMatrixDisplay(confusion_matrix=cm, display_labels=['light', 'mod-vigorous', 'sedentary', 'sleep'])\n",
    "    disp.plot(cmap='Blues')\n",
    "    if normalize:\n",
    "        plt.savefig(os.path.join(confusion_matrix_location, datetime.now().strftime(\"%m-%d-%Y-%H-%M-%S\") + \"normalized.png\"))\n",
    "    else:\n",
    "        plt.savefig(os.path.join(confusion_matrix_location, datetime.now().strftime(\"%m-%d-%Y-%H-%M-%S\") + \".png\"))\n"
   ]
  },
  {
   "cell_type": "code",
   "execution_count": 6,
   "id": "44ec95e7-2764-4cdf-b41a-7b3d1ed104cc",
   "metadata": {},
   "outputs": [
    {
     "name": "stdout",
     "output_type": "stream",
     "text": [
      "06-27-2024-13-08-20\tget_files\tLooking for data files in /home/aayush/accelerometer/compare_classification/accProcess_output/30_sec/original_features/predicted_output.\n",
      "06-27-2024-13-08-20\tget_files\t#################################################################################\n",
      "06-27-2024-13-08-20\tget_files\t######### Total files in the data path: 151 #########\n",
      "06-27-2024-13-08-20\tget_files\t#################################################################################\n",
      "06-27-2024-13-08-20\tget_files\tLooking for data files in /home/yacine/accel/capture24/participants/.\n",
      "06-27-2024-13-08-20\tget_files\t#################################################################################\n",
      "06-27-2024-13-08-20\tget_files\t######### Total files in the data path: 151 #########\n",
      "06-27-2024-13-08-20\tget_files\t#################################################################################\n",
      "06-27-2024-13-08-20\tcreate_labels_dict\tCreated labels dict for mapping.\n"
     ]
    }
   ],
   "source": [
    "predicted_data_files = get_files(data_path=predicted_data_path, predicted_files=True)\n",
    "annotated_data_files = get_files(data_path=annotated_data_path, annotated_files=True)\n",
    "assert len(predicted_data_files) == len(annotated_data_files), \"Number of predicted and annotated data files should be the same.\"\n",
    "\n",
    "labels_dict = create_labels_dict()\n",
    "\n",
    "labels = [\"light\", \"moderate-vigorous\", \"sedentary\", \"sleep\"]\n",
    "combined_cm = np.zeros((len(labels), len(labels)), dtype=float)"
   ]
  },
  {
   "cell_type": "code",
   "execution_count": 7,
   "id": "3aa669e3-49d2-456d-95b3-72eb45db315a",
   "metadata": {},
   "outputs": [],
   "source": [
    "def decode_activities(data_file):\n",
    "    # logging.log(\"decode_activities\", f\"Decode the activities from file: {data_file}.\")\n",
    "    df = pd.read_csv(data_file)\n",
    "    \n",
    "    # retrieve only the activities headers\n",
    "    activities = df[df.columns.values.tolist()[2:6]]\n",
    "    \n",
    "    # whichever activity is depicted by 1, use it as the predicted activity\n",
    "    out = activities[activities==1].idxmax(axis=1)\n",
    "    df[\"activity_predicted\"] = out\n",
    "    \n",
    "    # logging.log(\"decode_activities\", f\"Dropped 'nan' activity_predicted from file: {data_file}.\")\n",
    "    df_cleaned = df.dropna(subset=[\"activity_predicted\"])\n",
    "    return df_cleaned, df\n",
    "    \n",
    "    \n",
    "def process_annotated_data(annotated_data_file):\n",
    "    # logging.log(\"process_annotated_data\", f\"Process annotated data file: {annotated_data_file}.\")\n",
    "    \n",
    "    annotated_data = pd.read_csv(annotated_data_file)\n",
    "    # Take the timestamp after every thirty seconds\n",
    "    actual_labels = annotated_data[[\"annotation\", \"time\"]][0::epoch_time]\n",
    "    \n",
    "    # Convert to datetime object\n",
    "    actual_time = actual_labels[\"time\"].apply(parse_datetime)\n",
    "    actual_labels[\"time\"] = actual_time\n",
    "    \n",
    "    return actual_labels\n",
    "    \n",
    "\n",
    "\n",
    "def filtering_data(df_cleaned, actual_labels, labels_dict):\n",
    "    \n",
    "    # Convert to datetime object\n",
    "    df_cleaned_time = df_cleaned['time'].apply(parse_datetime_df_time)\n",
    "    df_cleaned['time_cleaned'] = df_cleaned_time\n",
    "    \n",
    "    # drop all 'nan' rows from actual labels\n",
    "    before_dropped_actual_labels = len(actual_labels)\n",
    "    actual_labels = actual_labels.dropna(subset=['annotation'])\n",
    "    after_dropped_actual_labels = len(actual_labels)\n",
    "    count_dropped_actual_labels_na = before_dropped_actual_labels - after_dropped_actual_labels\n",
    "\n",
    "    before_timestamp_actual_labels = len(actual_labels)\n",
    "    # Filter out all those timestamps which do not exist in df_cleaned_time\n",
    "    actual_labels = actual_labels[actual_labels[\"time\"].isin(df_cleaned_time)]\n",
    "    after_timestamp_actual_labels = len(actual_labels)\n",
    "    count_timestamp_actual_labels = before_timestamp_actual_labels - after_timestamp_actual_labels\n",
    "\n",
    "    # Filter out all those timestamps which do not exist in actual_labels\n",
    "    before_timestamp_predicted = len(df_cleaned)\n",
    "    df_cleaned_filtered = df_cleaned[df_cleaned['time_cleaned'].isin(actual_labels[\"time\"])]\n",
    "    after_timestamp_predicted = len(df_cleaned_filtered)\n",
    "    count_timestamp_predicted = before_timestamp_predicted - after_timestamp_predicted\n",
    "    \n",
    "    # Remove all duplicated timestamps from df_cleaned_filtered\n",
    "    before_predicted_dedup = len(df_cleaned_filtered)\n",
    "    df_cleaned_filtered_dedup = df_cleaned_filtered[~df_cleaned_filtered['time_cleaned'].duplicated(keep='first')]\n",
    "    after_predicted_dedup = len(df_cleaned_filtered_dedup)\n",
    "    count_dropped_predicted_dedup = before_predicted_dedup - after_predicted_dedup\n",
    "    \n",
    "    # replace the annotated labels with the same format of strings as predicted labels using mapping from labels_dict\n",
    "    flat_dict = {k: v[0] for k, v in labels_dict.items()}\n",
    "    \n",
    "    actual_labels['annotation'].replace(flat_dict, inplace=True)\n",
    "    \n",
    "    return actual_labels, df_cleaned_filtered_dedup, count_dropped_actual_labels_na, count_dropped_predicted_dedup,  count_timestamp_actual_labels, count_timestamp_predicted"
   ]
  },
  {
   "cell_type": "code",
   "execution_count": 8,
   "id": "761f1cad-54b4-44b4-9524-381a2b3349b6",
   "metadata": {},
   "outputs": [
    {
     "name": "stdout",
     "output_type": "stream",
     "text": [
      "06-27-2024-13-08-21\tmain\tProcessing predicted_file: /home/aayush/accelerometer/compare_classification/accProcess_output/30_sec/original_features/predicted_output/P001-timeSeries.csv.gz and annotated_file:/home/yacine/accel/capture24/participants/P001.csv\n"
     ]
    },
    {
     "name": "stderr",
     "output_type": "stream",
     "text": [
      "/tmp/ipykernel_1379283/2143372201.py:25: DtypeWarning: Columns (4) have mixed types.Specify dtype option on import or set low_memory=False.\n",
      "  actual_labels = process_annotated_data(annotated_file)\n",
      "/tmp/ipykernel_1379283/2825748892.py:36: SettingWithCopyWarning: \n",
      "A value is trying to be set on a copy of a slice from a DataFrame.\n",
      "Try using .loc[row_indexer,col_indexer] = value instead\n",
      "\n",
      "See the caveats in the documentation: https://pandas.pydata.org/pandas-docs/stable/user_guide/indexing.html#returning-a-view-versus-a-copy\n",
      "  df_cleaned['time_cleaned'] = df_cleaned_time\n"
     ]
    },
    {
     "name": "stdout",
     "output_type": "stream",
     "text": [
      "06-27-2024-13-08-35\tmain\tProcessing predicted_file: /home/aayush/accelerometer/compare_classification/accProcess_output/30_sec/original_features/predicted_output/P002-timeSeries.csv.gz and annotated_file:/home/yacine/accel/capture24/participants/P002.csv\n"
     ]
    },
    {
     "name": "stderr",
     "output_type": "stream",
     "text": [
      "/tmp/ipykernel_1379283/2143372201.py:25: DtypeWarning: Columns (4) have mixed types.Specify dtype option on import or set low_memory=False.\n",
      "  actual_labels = process_annotated_data(annotated_file)\n"
     ]
    },
    {
     "name": "stdout",
     "output_type": "stream",
     "text": [
      "06-27-2024-13-08-46\tmain\tProcessing predicted_file: /home/aayush/accelerometer/compare_classification/accProcess_output/30_sec/original_features/predicted_output/P003-timeSeries.csv.gz and annotated_file:/home/yacine/accel/capture24/participants/P003.csv\n"
     ]
    },
    {
     "name": "stderr",
     "output_type": "stream",
     "text": [
      "/tmp/ipykernel_1379283/2143372201.py:25: DtypeWarning: Columns (4) have mixed types.Specify dtype option on import or set low_memory=False.\n",
      "  actual_labels = process_annotated_data(annotated_file)\n"
     ]
    },
    {
     "name": "stdout",
     "output_type": "stream",
     "text": [
      "06-27-2024-13-08-59\tmain\tProcessing predicted_file: /home/aayush/accelerometer/compare_classification/accProcess_output/30_sec/original_features/predicted_output/P004-timeSeries.csv.gz and annotated_file:/home/yacine/accel/capture24/participants/P004.csv\n"
     ]
    },
    {
     "name": "stderr",
     "output_type": "stream",
     "text": [
      "/tmp/ipykernel_1379283/2143372201.py:25: DtypeWarning: Columns (4) have mixed types.Specify dtype option on import or set low_memory=False.\n",
      "  actual_labels = process_annotated_data(annotated_file)\n"
     ]
    },
    {
     "name": "stdout",
     "output_type": "stream",
     "text": [
      "06-27-2024-13-09-09\tmain\tProcessing predicted_file: /home/aayush/accelerometer/compare_classification/accProcess_output/30_sec/original_features/predicted_output/P005-timeSeries.csv.gz and annotated_file:/home/yacine/accel/capture24/participants/P005.csv\n"
     ]
    },
    {
     "name": "stderr",
     "output_type": "stream",
     "text": [
      "/tmp/ipykernel_1379283/2143372201.py:25: DtypeWarning: Columns (4) have mixed types.Specify dtype option on import or set low_memory=False.\n",
      "  actual_labels = process_annotated_data(annotated_file)\n",
      "/tmp/ipykernel_1379283/2825748892.py:36: SettingWithCopyWarning: \n",
      "A value is trying to be set on a copy of a slice from a DataFrame.\n",
      "Try using .loc[row_indexer,col_indexer] = value instead\n",
      "\n",
      "See the caveats in the documentation: https://pandas.pydata.org/pandas-docs/stable/user_guide/indexing.html#returning-a-view-versus-a-copy\n",
      "  df_cleaned['time_cleaned'] = df_cleaned_time\n"
     ]
    },
    {
     "name": "stdout",
     "output_type": "stream",
     "text": [
      "06-27-2024-13-09-22\tmain\tProcessing predicted_file: /home/aayush/accelerometer/compare_classification/accProcess_output/30_sec/original_features/predicted_output/P006-timeSeries.csv.gz and annotated_file:/home/yacine/accel/capture24/participants/P006.csv\n"
     ]
    },
    {
     "name": "stderr",
     "output_type": "stream",
     "text": [
      "/tmp/ipykernel_1379283/2143372201.py:25: DtypeWarning: Columns (4) have mixed types.Specify dtype option on import or set low_memory=False.\n",
      "  actual_labels = process_annotated_data(annotated_file)\n"
     ]
    },
    {
     "name": "stdout",
     "output_type": "stream",
     "text": [
      "06-27-2024-13-09-36\tmain\tProcessing predicted_file: /home/aayush/accelerometer/compare_classification/accProcess_output/30_sec/original_features/predicted_output/P007-timeSeries.csv.gz and annotated_file:/home/yacine/accel/capture24/participants/P007.csv\n"
     ]
    },
    {
     "name": "stderr",
     "output_type": "stream",
     "text": [
      "/tmp/ipykernel_1379283/2143372201.py:25: DtypeWarning: Columns (4) have mixed types.Specify dtype option on import or set low_memory=False.\n",
      "  actual_labels = process_annotated_data(annotated_file)\n"
     ]
    },
    {
     "name": "stdout",
     "output_type": "stream",
     "text": [
      "06-27-2024-13-09-49\tmain\tProcessing predicted_file: /home/aayush/accelerometer/compare_classification/accProcess_output/30_sec/original_features/predicted_output/P008-timeSeries.csv.gz and annotated_file:/home/yacine/accel/capture24/participants/P008.csv\n"
     ]
    },
    {
     "name": "stderr",
     "output_type": "stream",
     "text": [
      "/tmp/ipykernel_1379283/2143372201.py:25: DtypeWarning: Columns (4) have mixed types.Specify dtype option on import or set low_memory=False.\n",
      "  actual_labels = process_annotated_data(annotated_file)\n",
      "/tmp/ipykernel_1379283/2825748892.py:36: SettingWithCopyWarning: \n",
      "A value is trying to be set on a copy of a slice from a DataFrame.\n",
      "Try using .loc[row_indexer,col_indexer] = value instead\n",
      "\n",
      "See the caveats in the documentation: https://pandas.pydata.org/pandas-docs/stable/user_guide/indexing.html#returning-a-view-versus-a-copy\n",
      "  df_cleaned['time_cleaned'] = df_cleaned_time\n"
     ]
    },
    {
     "name": "stdout",
     "output_type": "stream",
     "text": [
      "06-27-2024-13-10-01\tmain\tProcessing predicted_file: /home/aayush/accelerometer/compare_classification/accProcess_output/30_sec/original_features/predicted_output/P009-timeSeries.csv.gz and annotated_file:/home/yacine/accel/capture24/participants/P009.csv\n"
     ]
    },
    {
     "name": "stderr",
     "output_type": "stream",
     "text": [
      "/tmp/ipykernel_1379283/2143372201.py:25: DtypeWarning: Columns (4) have mixed types.Specify dtype option on import or set low_memory=False.\n",
      "  actual_labels = process_annotated_data(annotated_file)\n"
     ]
    },
    {
     "name": "stdout",
     "output_type": "stream",
     "text": [
      "06-27-2024-13-10-09\tmain\tProcessing predicted_file: /home/aayush/accelerometer/compare_classification/accProcess_output/30_sec/original_features/predicted_output/P010-timeSeries.csv.gz and annotated_file:/home/yacine/accel/capture24/participants/P010.csv\n"
     ]
    },
    {
     "name": "stderr",
     "output_type": "stream",
     "text": [
      "/tmp/ipykernel_1379283/2143372201.py:25: DtypeWarning: Columns (4) have mixed types.Specify dtype option on import or set low_memory=False.\n",
      "  actual_labels = process_annotated_data(annotated_file)\n"
     ]
    },
    {
     "name": "stdout",
     "output_type": "stream",
     "text": [
      "06-27-2024-13-10-22\tmain\tProcessing predicted_file: /home/aayush/accelerometer/compare_classification/accProcess_output/30_sec/original_features/predicted_output/P011-timeSeries.csv.gz and annotated_file:/home/yacine/accel/capture24/participants/P011.csv\n"
     ]
    },
    {
     "name": "stderr",
     "output_type": "stream",
     "text": [
      "/tmp/ipykernel_1379283/2143372201.py:25: DtypeWarning: Columns (4) have mixed types.Specify dtype option on import or set low_memory=False.\n",
      "  actual_labels = process_annotated_data(annotated_file)\n"
     ]
    },
    {
     "name": "stdout",
     "output_type": "stream",
     "text": [
      "06-27-2024-13-10-34\tmain\tProcessing predicted_file: /home/aayush/accelerometer/compare_classification/accProcess_output/30_sec/original_features/predicted_output/P012-timeSeries.csv.gz and annotated_file:/home/yacine/accel/capture24/participants/P012.csv\n"
     ]
    },
    {
     "name": "stderr",
     "output_type": "stream",
     "text": [
      "/tmp/ipykernel_1379283/2143372201.py:25: DtypeWarning: Columns (4) have mixed types.Specify dtype option on import or set low_memory=False.\n",
      "  actual_labels = process_annotated_data(annotated_file)\n"
     ]
    },
    {
     "name": "stdout",
     "output_type": "stream",
     "text": [
      "06-27-2024-13-10-46\tmain\tProcessing predicted_file: /home/aayush/accelerometer/compare_classification/accProcess_output/30_sec/original_features/predicted_output/P013-timeSeries.csv.gz and annotated_file:/home/yacine/accel/capture24/participants/P013.csv\n"
     ]
    },
    {
     "name": "stderr",
     "output_type": "stream",
     "text": [
      "/tmp/ipykernel_1379283/2143372201.py:25: DtypeWarning: Columns (4) have mixed types.Specify dtype option on import or set low_memory=False.\n",
      "  actual_labels = process_annotated_data(annotated_file)\n"
     ]
    },
    {
     "name": "stdout",
     "output_type": "stream",
     "text": [
      "06-27-2024-13-10-57\tmain\tProcessing predicted_file: /home/aayush/accelerometer/compare_classification/accProcess_output/30_sec/original_features/predicted_output/P014-timeSeries.csv.gz and annotated_file:/home/yacine/accel/capture24/participants/P014.csv\n"
     ]
    },
    {
     "name": "stderr",
     "output_type": "stream",
     "text": [
      "/tmp/ipykernel_1379283/2143372201.py:25: DtypeWarning: Columns (4) have mixed types.Specify dtype option on import or set low_memory=False.\n",
      "  actual_labels = process_annotated_data(annotated_file)\n"
     ]
    },
    {
     "name": "stdout",
     "output_type": "stream",
     "text": [
      "06-27-2024-13-11-09\tmain\tProcessing predicted_file: /home/aayush/accelerometer/compare_classification/accProcess_output/30_sec/original_features/predicted_output/P015-timeSeries.csv.gz and annotated_file:/home/yacine/accel/capture24/participants/P015.csv\n"
     ]
    },
    {
     "name": "stderr",
     "output_type": "stream",
     "text": [
      "/tmp/ipykernel_1379283/2143372201.py:25: DtypeWarning: Columns (4) have mixed types.Specify dtype option on import or set low_memory=False.\n",
      "  actual_labels = process_annotated_data(annotated_file)\n"
     ]
    },
    {
     "name": "stdout",
     "output_type": "stream",
     "text": [
      "06-27-2024-13-11-21\tmain\tProcessing predicted_file: /home/aayush/accelerometer/compare_classification/accProcess_output/30_sec/original_features/predicted_output/P016-timeSeries.csv.gz and annotated_file:/home/yacine/accel/capture24/participants/P016.csv\n"
     ]
    },
    {
     "name": "stderr",
     "output_type": "stream",
     "text": [
      "/tmp/ipykernel_1379283/2143372201.py:25: DtypeWarning: Columns (4) have mixed types.Specify dtype option on import or set low_memory=False.\n",
      "  actual_labels = process_annotated_data(annotated_file)\n",
      "/tmp/ipykernel_1379283/2825748892.py:36: SettingWithCopyWarning: \n",
      "A value is trying to be set on a copy of a slice from a DataFrame.\n",
      "Try using .loc[row_indexer,col_indexer] = value instead\n",
      "\n",
      "See the caveats in the documentation: https://pandas.pydata.org/pandas-docs/stable/user_guide/indexing.html#returning-a-view-versus-a-copy\n",
      "  df_cleaned['time_cleaned'] = df_cleaned_time\n"
     ]
    },
    {
     "name": "stdout",
     "output_type": "stream",
     "text": [
      "06-27-2024-13-11-33\tmain\tProcessing predicted_file: /home/aayush/accelerometer/compare_classification/accProcess_output/30_sec/original_features/predicted_output/P017-timeSeries.csv.gz and annotated_file:/home/yacine/accel/capture24/participants/P017.csv\n"
     ]
    },
    {
     "name": "stderr",
     "output_type": "stream",
     "text": [
      "/tmp/ipykernel_1379283/2143372201.py:25: DtypeWarning: Columns (4) have mixed types.Specify dtype option on import or set low_memory=False.\n",
      "  actual_labels = process_annotated_data(annotated_file)\n",
      "/tmp/ipykernel_1379283/2825748892.py:36: SettingWithCopyWarning: \n",
      "A value is trying to be set on a copy of a slice from a DataFrame.\n",
      "Try using .loc[row_indexer,col_indexer] = value instead\n",
      "\n",
      "See the caveats in the documentation: https://pandas.pydata.org/pandas-docs/stable/user_guide/indexing.html#returning-a-view-versus-a-copy\n",
      "  df_cleaned['time_cleaned'] = df_cleaned_time\n"
     ]
    },
    {
     "name": "stdout",
     "output_type": "stream",
     "text": [
      "06-27-2024-13-11-46\tmain\tProcessing predicted_file: /home/aayush/accelerometer/compare_classification/accProcess_output/30_sec/original_features/predicted_output/P018-timeSeries.csv.gz and annotated_file:/home/yacine/accel/capture24/participants/P018.csv\n"
     ]
    },
    {
     "name": "stderr",
     "output_type": "stream",
     "text": [
      "/tmp/ipykernel_1379283/2143372201.py:25: DtypeWarning: Columns (4) have mixed types.Specify dtype option on import or set low_memory=False.\n",
      "  actual_labels = process_annotated_data(annotated_file)\n",
      "/tmp/ipykernel_1379283/2825748892.py:36: SettingWithCopyWarning: \n",
      "A value is trying to be set on a copy of a slice from a DataFrame.\n",
      "Try using .loc[row_indexer,col_indexer] = value instead\n",
      "\n",
      "See the caveats in the documentation: https://pandas.pydata.org/pandas-docs/stable/user_guide/indexing.html#returning-a-view-versus-a-copy\n",
      "  df_cleaned['time_cleaned'] = df_cleaned_time\n"
     ]
    },
    {
     "name": "stdout",
     "output_type": "stream",
     "text": [
      "06-27-2024-13-11-57\tmain\tProcessing predicted_file: /home/aayush/accelerometer/compare_classification/accProcess_output/30_sec/original_features/predicted_output/P019-timeSeries.csv.gz and annotated_file:/home/yacine/accel/capture24/participants/P019.csv\n"
     ]
    },
    {
     "name": "stderr",
     "output_type": "stream",
     "text": [
      "/tmp/ipykernel_1379283/2143372201.py:25: DtypeWarning: Columns (4) have mixed types.Specify dtype option on import or set low_memory=False.\n",
      "  actual_labels = process_annotated_data(annotated_file)\n"
     ]
    },
    {
     "name": "stdout",
     "output_type": "stream",
     "text": [
      "06-27-2024-13-12-09\tmain\tProcessing predicted_file: /home/aayush/accelerometer/compare_classification/accProcess_output/30_sec/original_features/predicted_output/P020-timeSeries.csv.gz and annotated_file:/home/yacine/accel/capture24/participants/P020.csv\n"
     ]
    },
    {
     "name": "stderr",
     "output_type": "stream",
     "text": [
      "/tmp/ipykernel_1379283/2143372201.py:25: DtypeWarning: Columns (4) have mixed types.Specify dtype option on import or set low_memory=False.\n",
      "  actual_labels = process_annotated_data(annotated_file)\n",
      "/tmp/ipykernel_1379283/2825748892.py:36: SettingWithCopyWarning: \n",
      "A value is trying to be set on a copy of a slice from a DataFrame.\n",
      "Try using .loc[row_indexer,col_indexer] = value instead\n",
      "\n",
      "See the caveats in the documentation: https://pandas.pydata.org/pandas-docs/stable/user_guide/indexing.html#returning-a-view-versus-a-copy\n",
      "  df_cleaned['time_cleaned'] = df_cleaned_time\n"
     ]
    },
    {
     "name": "stdout",
     "output_type": "stream",
     "text": [
      "06-27-2024-13-12-19\tmain\tProcessing predicted_file: /home/aayush/accelerometer/compare_classification/accProcess_output/30_sec/original_features/predicted_output/P021-timeSeries.csv.gz and annotated_file:/home/yacine/accel/capture24/participants/P021.csv\n"
     ]
    },
    {
     "name": "stderr",
     "output_type": "stream",
     "text": [
      "/tmp/ipykernel_1379283/2143372201.py:25: DtypeWarning: Columns (4) have mixed types.Specify dtype option on import or set low_memory=False.\n",
      "  actual_labels = process_annotated_data(annotated_file)\n"
     ]
    },
    {
     "name": "stdout",
     "output_type": "stream",
     "text": [
      "06-27-2024-13-12-31\tmain\tProcessing predicted_file: /home/aayush/accelerometer/compare_classification/accProcess_output/30_sec/original_features/predicted_output/P022-timeSeries.csv.gz and annotated_file:/home/yacine/accel/capture24/participants/P022.csv\n"
     ]
    },
    {
     "name": "stderr",
     "output_type": "stream",
     "text": [
      "/tmp/ipykernel_1379283/2143372201.py:25: DtypeWarning: Columns (4) have mixed types.Specify dtype option on import or set low_memory=False.\n",
      "  actual_labels = process_annotated_data(annotated_file)\n"
     ]
    },
    {
     "name": "stdout",
     "output_type": "stream",
     "text": [
      "06-27-2024-13-12-45\tmain\tProcessing predicted_file: /home/aayush/accelerometer/compare_classification/accProcess_output/30_sec/original_features/predicted_output/P023-timeSeries.csv.gz and annotated_file:/home/yacine/accel/capture24/participants/P023.csv\n"
     ]
    },
    {
     "name": "stderr",
     "output_type": "stream",
     "text": [
      "/tmp/ipykernel_1379283/2143372201.py:25: DtypeWarning: Columns (4) have mixed types.Specify dtype option on import or set low_memory=False.\n",
      "  actual_labels = process_annotated_data(annotated_file)\n"
     ]
    },
    {
     "name": "stdout",
     "output_type": "stream",
     "text": [
      "06-27-2024-13-12-57\tmain\tProcessing predicted_file: /home/aayush/accelerometer/compare_classification/accProcess_output/30_sec/original_features/predicted_output/P024-timeSeries.csv.gz and annotated_file:/home/yacine/accel/capture24/participants/P024.csv\n"
     ]
    },
    {
     "name": "stderr",
     "output_type": "stream",
     "text": [
      "/tmp/ipykernel_1379283/2143372201.py:25: DtypeWarning: Columns (4) have mixed types.Specify dtype option on import or set low_memory=False.\n",
      "  actual_labels = process_annotated_data(annotated_file)\n"
     ]
    },
    {
     "name": "stdout",
     "output_type": "stream",
     "text": [
      "06-27-2024-13-13-09\tmain\tProcessing predicted_file: /home/aayush/accelerometer/compare_classification/accProcess_output/30_sec/original_features/predicted_output/P025-timeSeries.csv.gz and annotated_file:/home/yacine/accel/capture24/participants/P025.csv\n"
     ]
    },
    {
     "name": "stderr",
     "output_type": "stream",
     "text": [
      "/tmp/ipykernel_1379283/2143372201.py:25: DtypeWarning: Columns (4) have mixed types.Specify dtype option on import or set low_memory=False.\n",
      "  actual_labels = process_annotated_data(annotated_file)\n"
     ]
    },
    {
     "name": "stdout",
     "output_type": "stream",
     "text": [
      "06-27-2024-13-13-21\tmain\tProcessing predicted_file: /home/aayush/accelerometer/compare_classification/accProcess_output/30_sec/original_features/predicted_output/P026-timeSeries.csv.gz and annotated_file:/home/yacine/accel/capture24/participants/P026.csv\n"
     ]
    },
    {
     "name": "stderr",
     "output_type": "stream",
     "text": [
      "/tmp/ipykernel_1379283/2143372201.py:25: DtypeWarning: Columns (4) have mixed types.Specify dtype option on import or set low_memory=False.\n",
      "  actual_labels = process_annotated_data(annotated_file)\n"
     ]
    },
    {
     "name": "stdout",
     "output_type": "stream",
     "text": [
      "06-27-2024-13-13-32\tmain\tProcessing predicted_file: /home/aayush/accelerometer/compare_classification/accProcess_output/30_sec/original_features/predicted_output/P027-timeSeries.csv.gz and annotated_file:/home/yacine/accel/capture24/participants/P027.csv\n"
     ]
    },
    {
     "name": "stderr",
     "output_type": "stream",
     "text": [
      "/tmp/ipykernel_1379283/2143372201.py:25: DtypeWarning: Columns (4) have mixed types.Specify dtype option on import or set low_memory=False.\n",
      "  actual_labels = process_annotated_data(annotated_file)\n"
     ]
    },
    {
     "name": "stdout",
     "output_type": "stream",
     "text": [
      "06-27-2024-13-13-44\tmain\tProcessing predicted_file: /home/aayush/accelerometer/compare_classification/accProcess_output/30_sec/original_features/predicted_output/P028-timeSeries.csv.gz and annotated_file:/home/yacine/accel/capture24/participants/P028.csv\n"
     ]
    },
    {
     "name": "stderr",
     "output_type": "stream",
     "text": [
      "/tmp/ipykernel_1379283/2143372201.py:25: DtypeWarning: Columns (4) have mixed types.Specify dtype option on import or set low_memory=False.\n",
      "  actual_labels = process_annotated_data(annotated_file)\n"
     ]
    },
    {
     "name": "stdout",
     "output_type": "stream",
     "text": [
      "06-27-2024-13-13-55\tmain\tProcessing predicted_file: /home/aayush/accelerometer/compare_classification/accProcess_output/30_sec/original_features/predicted_output/P029-timeSeries.csv.gz and annotated_file:/home/yacine/accel/capture24/participants/P029.csv\n"
     ]
    },
    {
     "name": "stderr",
     "output_type": "stream",
     "text": [
      "/tmp/ipykernel_1379283/2143372201.py:25: DtypeWarning: Columns (4) have mixed types.Specify dtype option on import or set low_memory=False.\n",
      "  actual_labels = process_annotated_data(annotated_file)\n"
     ]
    },
    {
     "name": "stdout",
     "output_type": "stream",
     "text": [
      "06-27-2024-13-14-07\tmain\tProcessing predicted_file: /home/aayush/accelerometer/compare_classification/accProcess_output/30_sec/original_features/predicted_output/P030-timeSeries.csv.gz and annotated_file:/home/yacine/accel/capture24/participants/P030.csv\n"
     ]
    },
    {
     "name": "stderr",
     "output_type": "stream",
     "text": [
      "/tmp/ipykernel_1379283/2143372201.py:25: DtypeWarning: Columns (4) have mixed types.Specify dtype option on import or set low_memory=False.\n",
      "  actual_labels = process_annotated_data(annotated_file)\n"
     ]
    },
    {
     "name": "stdout",
     "output_type": "stream",
     "text": [
      "06-27-2024-13-14-20\tmain\tProcessing predicted_file: /home/aayush/accelerometer/compare_classification/accProcess_output/30_sec/original_features/predicted_output/P031-timeSeries.csv.gz and annotated_file:/home/yacine/accel/capture24/participants/P031.csv\n"
     ]
    },
    {
     "name": "stderr",
     "output_type": "stream",
     "text": [
      "/tmp/ipykernel_1379283/2143372201.py:25: DtypeWarning: Columns (4) have mixed types.Specify dtype option on import or set low_memory=False.\n",
      "  actual_labels = process_annotated_data(annotated_file)\n"
     ]
    },
    {
     "name": "stdout",
     "output_type": "stream",
     "text": [
      "06-27-2024-13-14-32\tmain\tProcessing predicted_file: /home/aayush/accelerometer/compare_classification/accProcess_output/30_sec/original_features/predicted_output/P032-timeSeries.csv.gz and annotated_file:/home/yacine/accel/capture24/participants/P032.csv\n"
     ]
    },
    {
     "name": "stderr",
     "output_type": "stream",
     "text": [
      "/tmp/ipykernel_1379283/2143372201.py:25: DtypeWarning: Columns (4) have mixed types.Specify dtype option on import or set low_memory=False.\n",
      "  actual_labels = process_annotated_data(annotated_file)\n",
      "/tmp/ipykernel_1379283/2825748892.py:36: SettingWithCopyWarning: \n",
      "A value is trying to be set on a copy of a slice from a DataFrame.\n",
      "Try using .loc[row_indexer,col_indexer] = value instead\n",
      "\n",
      "See the caveats in the documentation: https://pandas.pydata.org/pandas-docs/stable/user_guide/indexing.html#returning-a-view-versus-a-copy\n",
      "  df_cleaned['time_cleaned'] = df_cleaned_time\n"
     ]
    },
    {
     "name": "stdout",
     "output_type": "stream",
     "text": [
      "06-27-2024-13-14-43\tmain\tProcessing predicted_file: /home/aayush/accelerometer/compare_classification/accProcess_output/30_sec/original_features/predicted_output/P033-timeSeries.csv.gz and annotated_file:/home/yacine/accel/capture24/participants/P033.csv\n"
     ]
    },
    {
     "name": "stderr",
     "output_type": "stream",
     "text": [
      "/tmp/ipykernel_1379283/2143372201.py:25: DtypeWarning: Columns (4) have mixed types.Specify dtype option on import or set low_memory=False.\n",
      "  actual_labels = process_annotated_data(annotated_file)\n"
     ]
    },
    {
     "name": "stdout",
     "output_type": "stream",
     "text": [
      "06-27-2024-13-14-55\tmain\tProcessing predicted_file: /home/aayush/accelerometer/compare_classification/accProcess_output/30_sec/original_features/predicted_output/P034-timeSeries.csv.gz and annotated_file:/home/yacine/accel/capture24/participants/P034.csv\n"
     ]
    },
    {
     "name": "stderr",
     "output_type": "stream",
     "text": [
      "/tmp/ipykernel_1379283/2143372201.py:25: DtypeWarning: Columns (4) have mixed types.Specify dtype option on import or set low_memory=False.\n",
      "  actual_labels = process_annotated_data(annotated_file)\n"
     ]
    },
    {
     "name": "stdout",
     "output_type": "stream",
     "text": [
      "06-27-2024-13-15-06\tmain\tProcessing predicted_file: /home/aayush/accelerometer/compare_classification/accProcess_output/30_sec/original_features/predicted_output/P035-timeSeries.csv.gz and annotated_file:/home/yacine/accel/capture24/participants/P035.csv\n"
     ]
    },
    {
     "name": "stderr",
     "output_type": "stream",
     "text": [
      "/tmp/ipykernel_1379283/2143372201.py:25: DtypeWarning: Columns (4) have mixed types.Specify dtype option on import or set low_memory=False.\n",
      "  actual_labels = process_annotated_data(annotated_file)\n"
     ]
    },
    {
     "name": "stdout",
     "output_type": "stream",
     "text": [
      "06-27-2024-13-15-18\tmain\tProcessing predicted_file: /home/aayush/accelerometer/compare_classification/accProcess_output/30_sec/original_features/predicted_output/P036-timeSeries.csv.gz and annotated_file:/home/yacine/accel/capture24/participants/P036.csv\n"
     ]
    },
    {
     "name": "stderr",
     "output_type": "stream",
     "text": [
      "/tmp/ipykernel_1379283/2143372201.py:25: DtypeWarning: Columns (4) have mixed types.Specify dtype option on import or set low_memory=False.\n",
      "  actual_labels = process_annotated_data(annotated_file)\n"
     ]
    },
    {
     "name": "stdout",
     "output_type": "stream",
     "text": [
      "06-27-2024-13-15-28\tmain\tProcessing predicted_file: /home/aayush/accelerometer/compare_classification/accProcess_output/30_sec/original_features/predicted_output/P037-timeSeries.csv.gz and annotated_file:/home/yacine/accel/capture24/participants/P037.csv\n"
     ]
    },
    {
     "name": "stderr",
     "output_type": "stream",
     "text": [
      "/tmp/ipykernel_1379283/2143372201.py:25: DtypeWarning: Columns (4) have mixed types.Specify dtype option on import or set low_memory=False.\n",
      "  actual_labels = process_annotated_data(annotated_file)\n",
      "/tmp/ipykernel_1379283/2825748892.py:36: SettingWithCopyWarning: \n",
      "A value is trying to be set on a copy of a slice from a DataFrame.\n",
      "Try using .loc[row_indexer,col_indexer] = value instead\n",
      "\n",
      "See the caveats in the documentation: https://pandas.pydata.org/pandas-docs/stable/user_guide/indexing.html#returning-a-view-versus-a-copy\n",
      "  df_cleaned['time_cleaned'] = df_cleaned_time\n"
     ]
    },
    {
     "name": "stdout",
     "output_type": "stream",
     "text": [
      "06-27-2024-13-15-40\tmain\tProcessing predicted_file: /home/aayush/accelerometer/compare_classification/accProcess_output/30_sec/original_features/predicted_output/P038-timeSeries.csv.gz and annotated_file:/home/yacine/accel/capture24/participants/P038.csv\n"
     ]
    },
    {
     "name": "stderr",
     "output_type": "stream",
     "text": [
      "/tmp/ipykernel_1379283/2143372201.py:25: DtypeWarning: Columns (4) have mixed types.Specify dtype option on import or set low_memory=False.\n",
      "  actual_labels = process_annotated_data(annotated_file)\n"
     ]
    },
    {
     "name": "stdout",
     "output_type": "stream",
     "text": [
      "06-27-2024-13-15-52\tmain\tProcessing predicted_file: /home/aayush/accelerometer/compare_classification/accProcess_output/30_sec/original_features/predicted_output/P039-timeSeries.csv.gz and annotated_file:/home/yacine/accel/capture24/participants/P039.csv\n"
     ]
    },
    {
     "name": "stderr",
     "output_type": "stream",
     "text": [
      "/tmp/ipykernel_1379283/2143372201.py:25: DtypeWarning: Columns (4) have mixed types.Specify dtype option on import or set low_memory=False.\n",
      "  actual_labels = process_annotated_data(annotated_file)\n"
     ]
    },
    {
     "name": "stdout",
     "output_type": "stream",
     "text": [
      "06-27-2024-13-16-03\tmain\tProcessing predicted_file: /home/aayush/accelerometer/compare_classification/accProcess_output/30_sec/original_features/predicted_output/P040-timeSeries.csv.gz and annotated_file:/home/yacine/accel/capture24/participants/P040.csv\n"
     ]
    },
    {
     "name": "stderr",
     "output_type": "stream",
     "text": [
      "/tmp/ipykernel_1379283/2143372201.py:25: DtypeWarning: Columns (4) have mixed types.Specify dtype option on import or set low_memory=False.\n",
      "  actual_labels = process_annotated_data(annotated_file)\n"
     ]
    },
    {
     "name": "stdout",
     "output_type": "stream",
     "text": [
      "06-27-2024-13-16-14\tmain\tProcessing predicted_file: /home/aayush/accelerometer/compare_classification/accProcess_output/30_sec/original_features/predicted_output/P041-timeSeries.csv.gz and annotated_file:/home/yacine/accel/capture24/participants/P041.csv\n"
     ]
    },
    {
     "name": "stderr",
     "output_type": "stream",
     "text": [
      "/tmp/ipykernel_1379283/2143372201.py:25: DtypeWarning: Columns (4) have mixed types.Specify dtype option on import or set low_memory=False.\n",
      "  actual_labels = process_annotated_data(annotated_file)\n"
     ]
    },
    {
     "name": "stdout",
     "output_type": "stream",
     "text": [
      "06-27-2024-13-16-26\tmain\tProcessing predicted_file: /home/aayush/accelerometer/compare_classification/accProcess_output/30_sec/original_features/predicted_output/P042-timeSeries.csv.gz and annotated_file:/home/yacine/accel/capture24/participants/P042.csv\n"
     ]
    },
    {
     "name": "stderr",
     "output_type": "stream",
     "text": [
      "/tmp/ipykernel_1379283/2143372201.py:25: DtypeWarning: Columns (4) have mixed types.Specify dtype option on import or set low_memory=False.\n",
      "  actual_labels = process_annotated_data(annotated_file)\n"
     ]
    },
    {
     "name": "stdout",
     "output_type": "stream",
     "text": [
      "06-27-2024-13-16-37\tmain\tProcessing predicted_file: /home/aayush/accelerometer/compare_classification/accProcess_output/30_sec/original_features/predicted_output/P043-timeSeries.csv.gz and annotated_file:/home/yacine/accel/capture24/participants/P043.csv\n"
     ]
    },
    {
     "name": "stderr",
     "output_type": "stream",
     "text": [
      "/tmp/ipykernel_1379283/2143372201.py:25: DtypeWarning: Columns (4) have mixed types.Specify dtype option on import or set low_memory=False.\n",
      "  actual_labels = process_annotated_data(annotated_file)\n"
     ]
    },
    {
     "name": "stdout",
     "output_type": "stream",
     "text": [
      "06-27-2024-13-16-49\tmain\tProcessing predicted_file: /home/aayush/accelerometer/compare_classification/accProcess_output/30_sec/original_features/predicted_output/P044-timeSeries.csv.gz and annotated_file:/home/yacine/accel/capture24/participants/P044.csv\n"
     ]
    },
    {
     "name": "stderr",
     "output_type": "stream",
     "text": [
      "/tmp/ipykernel_1379283/2143372201.py:25: DtypeWarning: Columns (4) have mixed types.Specify dtype option on import or set low_memory=False.\n",
      "  actual_labels = process_annotated_data(annotated_file)\n"
     ]
    },
    {
     "name": "stdout",
     "output_type": "stream",
     "text": [
      "06-27-2024-13-16-59\tmain\tProcessing predicted_file: /home/aayush/accelerometer/compare_classification/accProcess_output/30_sec/original_features/predicted_output/P045-timeSeries.csv.gz and annotated_file:/home/yacine/accel/capture24/participants/P045.csv\n"
     ]
    },
    {
     "name": "stderr",
     "output_type": "stream",
     "text": [
      "/tmp/ipykernel_1379283/2143372201.py:25: DtypeWarning: Columns (4) have mixed types.Specify dtype option on import or set low_memory=False.\n",
      "  actual_labels = process_annotated_data(annotated_file)\n"
     ]
    },
    {
     "name": "stdout",
     "output_type": "stream",
     "text": [
      "06-27-2024-13-17-10\tmain\tProcessing predicted_file: /home/aayush/accelerometer/compare_classification/accProcess_output/30_sec/original_features/predicted_output/P046-timeSeries.csv.gz and annotated_file:/home/yacine/accel/capture24/participants/P046.csv\n"
     ]
    },
    {
     "name": "stderr",
     "output_type": "stream",
     "text": [
      "/tmp/ipykernel_1379283/2143372201.py:25: DtypeWarning: Columns (4) have mixed types.Specify dtype option on import or set low_memory=False.\n",
      "  actual_labels = process_annotated_data(annotated_file)\n",
      "/tmp/ipykernel_1379283/2825748892.py:36: SettingWithCopyWarning: \n",
      "A value is trying to be set on a copy of a slice from a DataFrame.\n",
      "Try using .loc[row_indexer,col_indexer] = value instead\n",
      "\n",
      "See the caveats in the documentation: https://pandas.pydata.org/pandas-docs/stable/user_guide/indexing.html#returning-a-view-versus-a-copy\n",
      "  df_cleaned['time_cleaned'] = df_cleaned_time\n"
     ]
    },
    {
     "name": "stdout",
     "output_type": "stream",
     "text": [
      "06-27-2024-13-17-21\tmain\tProcessing predicted_file: /home/aayush/accelerometer/compare_classification/accProcess_output/30_sec/original_features/predicted_output/P047-timeSeries.csv.gz and annotated_file:/home/yacine/accel/capture24/participants/P047.csv\n"
     ]
    },
    {
     "name": "stderr",
     "output_type": "stream",
     "text": [
      "/tmp/ipykernel_1379283/2143372201.py:25: DtypeWarning: Columns (4) have mixed types.Specify dtype option on import or set low_memory=False.\n",
      "  actual_labels = process_annotated_data(annotated_file)\n"
     ]
    },
    {
     "name": "stdout",
     "output_type": "stream",
     "text": [
      "06-27-2024-13-17-31\tmain\tProcessing predicted_file: /home/aayush/accelerometer/compare_classification/accProcess_output/30_sec/original_features/predicted_output/P048-timeSeries.csv.gz and annotated_file:/home/yacine/accel/capture24/participants/P048.csv\n"
     ]
    },
    {
     "name": "stderr",
     "output_type": "stream",
     "text": [
      "/tmp/ipykernel_1379283/2143372201.py:25: DtypeWarning: Columns (4) have mixed types.Specify dtype option on import or set low_memory=False.\n",
      "  actual_labels = process_annotated_data(annotated_file)\n"
     ]
    },
    {
     "name": "stdout",
     "output_type": "stream",
     "text": [
      "06-27-2024-13-17-42\tmain\tProcessing predicted_file: /home/aayush/accelerometer/compare_classification/accProcess_output/30_sec/original_features/predicted_output/P049-timeSeries.csv.gz and annotated_file:/home/yacine/accel/capture24/participants/P049.csv\n"
     ]
    },
    {
     "name": "stderr",
     "output_type": "stream",
     "text": [
      "/tmp/ipykernel_1379283/2143372201.py:25: DtypeWarning: Columns (4) have mixed types.Specify dtype option on import or set low_memory=False.\n",
      "  actual_labels = process_annotated_data(annotated_file)\n"
     ]
    },
    {
     "name": "stdout",
     "output_type": "stream",
     "text": [
      "06-27-2024-13-17-54\tmain\tProcessing predicted_file: /home/aayush/accelerometer/compare_classification/accProcess_output/30_sec/original_features/predicted_output/P050-timeSeries.csv.gz and annotated_file:/home/yacine/accel/capture24/participants/P050.csv\n"
     ]
    },
    {
     "name": "stderr",
     "output_type": "stream",
     "text": [
      "/tmp/ipykernel_1379283/2143372201.py:25: DtypeWarning: Columns (4) have mixed types.Specify dtype option on import or set low_memory=False.\n",
      "  actual_labels = process_annotated_data(annotated_file)\n"
     ]
    },
    {
     "name": "stdout",
     "output_type": "stream",
     "text": [
      "06-27-2024-13-18-05\tmain\tProcessing predicted_file: /home/aayush/accelerometer/compare_classification/accProcess_output/30_sec/original_features/predicted_output/P051-timeSeries.csv.gz and annotated_file:/home/yacine/accel/capture24/participants/P051.csv\n"
     ]
    },
    {
     "name": "stderr",
     "output_type": "stream",
     "text": [
      "/tmp/ipykernel_1379283/2143372201.py:25: DtypeWarning: Columns (4) have mixed types.Specify dtype option on import or set low_memory=False.\n",
      "  actual_labels = process_annotated_data(annotated_file)\n"
     ]
    },
    {
     "name": "stdout",
     "output_type": "stream",
     "text": [
      "06-27-2024-13-18-16\tmain\tProcessing predicted_file: /home/aayush/accelerometer/compare_classification/accProcess_output/30_sec/original_features/predicted_output/P052-timeSeries.csv.gz and annotated_file:/home/yacine/accel/capture24/participants/P052.csv\n"
     ]
    },
    {
     "name": "stderr",
     "output_type": "stream",
     "text": [
      "/tmp/ipykernel_1379283/2143372201.py:25: DtypeWarning: Columns (4) have mixed types.Specify dtype option on import or set low_memory=False.\n",
      "  actual_labels = process_annotated_data(annotated_file)\n"
     ]
    },
    {
     "name": "stdout",
     "output_type": "stream",
     "text": [
      "06-27-2024-13-18-26\tmain\tProcessing predicted_file: /home/aayush/accelerometer/compare_classification/accProcess_output/30_sec/original_features/predicted_output/P053-timeSeries.csv.gz and annotated_file:/home/yacine/accel/capture24/participants/P053.csv\n"
     ]
    },
    {
     "name": "stderr",
     "output_type": "stream",
     "text": [
      "/tmp/ipykernel_1379283/2143372201.py:25: DtypeWarning: Columns (4) have mixed types.Specify dtype option on import or set low_memory=False.\n",
      "  actual_labels = process_annotated_data(annotated_file)\n"
     ]
    },
    {
     "name": "stdout",
     "output_type": "stream",
     "text": [
      "06-27-2024-13-18-38\tmain\tProcessing predicted_file: /home/aayush/accelerometer/compare_classification/accProcess_output/30_sec/original_features/predicted_output/P054-timeSeries.csv.gz and annotated_file:/home/yacine/accel/capture24/participants/P054.csv\n"
     ]
    },
    {
     "name": "stderr",
     "output_type": "stream",
     "text": [
      "/tmp/ipykernel_1379283/2143372201.py:25: DtypeWarning: Columns (4) have mixed types.Specify dtype option on import or set low_memory=False.\n",
      "  actual_labels = process_annotated_data(annotated_file)\n"
     ]
    },
    {
     "name": "stdout",
     "output_type": "stream",
     "text": [
      "06-27-2024-13-18-52\tmain\tProcessing predicted_file: /home/aayush/accelerometer/compare_classification/accProcess_output/30_sec/original_features/predicted_output/P055-timeSeries.csv.gz and annotated_file:/home/yacine/accel/capture24/participants/P055.csv\n"
     ]
    },
    {
     "name": "stderr",
     "output_type": "stream",
     "text": [
      "/tmp/ipykernel_1379283/2143372201.py:25: DtypeWarning: Columns (4) have mixed types.Specify dtype option on import or set low_memory=False.\n",
      "  actual_labels = process_annotated_data(annotated_file)\n"
     ]
    },
    {
     "name": "stdout",
     "output_type": "stream",
     "text": [
      "06-27-2024-13-19-04\tmain\tProcessing predicted_file: /home/aayush/accelerometer/compare_classification/accProcess_output/30_sec/original_features/predicted_output/P056-timeSeries.csv.gz and annotated_file:/home/yacine/accel/capture24/participants/P056.csv\n"
     ]
    },
    {
     "name": "stderr",
     "output_type": "stream",
     "text": [
      "/tmp/ipykernel_1379283/2143372201.py:25: DtypeWarning: Columns (4) have mixed types.Specify dtype option on import or set low_memory=False.\n",
      "  actual_labels = process_annotated_data(annotated_file)\n",
      "/tmp/ipykernel_1379283/2825748892.py:36: SettingWithCopyWarning: \n",
      "A value is trying to be set on a copy of a slice from a DataFrame.\n",
      "Try using .loc[row_indexer,col_indexer] = value instead\n",
      "\n",
      "See the caveats in the documentation: https://pandas.pydata.org/pandas-docs/stable/user_guide/indexing.html#returning-a-view-versus-a-copy\n",
      "  df_cleaned['time_cleaned'] = df_cleaned_time\n"
     ]
    },
    {
     "name": "stdout",
     "output_type": "stream",
     "text": [
      "06-27-2024-13-19-17\tmain\tProcessing predicted_file: /home/aayush/accelerometer/compare_classification/accProcess_output/30_sec/original_features/predicted_output/P057-timeSeries.csv.gz and annotated_file:/home/yacine/accel/capture24/participants/P057.csv\n"
     ]
    },
    {
     "name": "stderr",
     "output_type": "stream",
     "text": [
      "/tmp/ipykernel_1379283/2143372201.py:25: DtypeWarning: Columns (4) have mixed types.Specify dtype option on import or set low_memory=False.\n",
      "  actual_labels = process_annotated_data(annotated_file)\n",
      "/tmp/ipykernel_1379283/2825748892.py:36: SettingWithCopyWarning: \n",
      "A value is trying to be set on a copy of a slice from a DataFrame.\n",
      "Try using .loc[row_indexer,col_indexer] = value instead\n",
      "\n",
      "See the caveats in the documentation: https://pandas.pydata.org/pandas-docs/stable/user_guide/indexing.html#returning-a-view-versus-a-copy\n",
      "  df_cleaned['time_cleaned'] = df_cleaned_time\n"
     ]
    },
    {
     "name": "stdout",
     "output_type": "stream",
     "text": [
      "06-27-2024-13-19-31\tmain\tProcessing predicted_file: /home/aayush/accelerometer/compare_classification/accProcess_output/30_sec/original_features/predicted_output/P058-timeSeries.csv.gz and annotated_file:/home/yacine/accel/capture24/participants/P058.csv\n"
     ]
    },
    {
     "name": "stderr",
     "output_type": "stream",
     "text": [
      "/tmp/ipykernel_1379283/2143372201.py:25: DtypeWarning: Columns (4) have mixed types.Specify dtype option on import or set low_memory=False.\n",
      "  actual_labels = process_annotated_data(annotated_file)\n"
     ]
    },
    {
     "name": "stdout",
     "output_type": "stream",
     "text": [
      "06-27-2024-13-19-44\tmain\tProcessing predicted_file: /home/aayush/accelerometer/compare_classification/accProcess_output/30_sec/original_features/predicted_output/P059-timeSeries.csv.gz and annotated_file:/home/yacine/accel/capture24/participants/P059.csv\n"
     ]
    },
    {
     "name": "stderr",
     "output_type": "stream",
     "text": [
      "/tmp/ipykernel_1379283/2143372201.py:25: DtypeWarning: Columns (4) have mixed types.Specify dtype option on import or set low_memory=False.\n",
      "  actual_labels = process_annotated_data(annotated_file)\n"
     ]
    },
    {
     "name": "stdout",
     "output_type": "stream",
     "text": [
      "06-27-2024-13-19-57\tmain\tProcessing predicted_file: /home/aayush/accelerometer/compare_classification/accProcess_output/30_sec/original_features/predicted_output/P060-timeSeries.csv.gz and annotated_file:/home/yacine/accel/capture24/participants/P060.csv\n"
     ]
    },
    {
     "name": "stderr",
     "output_type": "stream",
     "text": [
      "/tmp/ipykernel_1379283/2143372201.py:25: DtypeWarning: Columns (4) have mixed types.Specify dtype option on import or set low_memory=False.\n",
      "  actual_labels = process_annotated_data(annotated_file)\n"
     ]
    },
    {
     "name": "stdout",
     "output_type": "stream",
     "text": [
      "06-27-2024-13-20-08\tmain\tProcessing predicted_file: /home/aayush/accelerometer/compare_classification/accProcess_output/30_sec/original_features/predicted_output/P061-timeSeries.csv.gz and annotated_file:/home/yacine/accel/capture24/participants/P061.csv\n"
     ]
    },
    {
     "name": "stderr",
     "output_type": "stream",
     "text": [
      "/tmp/ipykernel_1379283/2143372201.py:25: DtypeWarning: Columns (4) have mixed types.Specify dtype option on import or set low_memory=False.\n",
      "  actual_labels = process_annotated_data(annotated_file)\n"
     ]
    },
    {
     "name": "stdout",
     "output_type": "stream",
     "text": [
      "06-27-2024-13-20-20\tmain\tProcessing predicted_file: /home/aayush/accelerometer/compare_classification/accProcess_output/30_sec/original_features/predicted_output/P062-timeSeries.csv.gz and annotated_file:/home/yacine/accel/capture24/participants/P062.csv\n"
     ]
    },
    {
     "name": "stderr",
     "output_type": "stream",
     "text": [
      "/tmp/ipykernel_1379283/2143372201.py:25: DtypeWarning: Columns (4) have mixed types.Specify dtype option on import or set low_memory=False.\n",
      "  actual_labels = process_annotated_data(annotated_file)\n"
     ]
    },
    {
     "name": "stdout",
     "output_type": "stream",
     "text": [
      "06-27-2024-13-20-33\tmain\tProcessing predicted_file: /home/aayush/accelerometer/compare_classification/accProcess_output/30_sec/original_features/predicted_output/P063-timeSeries.csv.gz and annotated_file:/home/yacine/accel/capture24/participants/P063.csv\n"
     ]
    },
    {
     "name": "stderr",
     "output_type": "stream",
     "text": [
      "/tmp/ipykernel_1379283/2143372201.py:25: DtypeWarning: Columns (4) have mixed types.Specify dtype option on import or set low_memory=False.\n",
      "  actual_labels = process_annotated_data(annotated_file)\n"
     ]
    },
    {
     "name": "stdout",
     "output_type": "stream",
     "text": [
      "06-27-2024-13-20-45\tmain\tProcessing predicted_file: /home/aayush/accelerometer/compare_classification/accProcess_output/30_sec/original_features/predicted_output/P064-timeSeries.csv.gz and annotated_file:/home/yacine/accel/capture24/participants/P064.csv\n"
     ]
    },
    {
     "name": "stderr",
     "output_type": "stream",
     "text": [
      "/tmp/ipykernel_1379283/2143372201.py:25: DtypeWarning: Columns (4) have mixed types.Specify dtype option on import or set low_memory=False.\n",
      "  actual_labels = process_annotated_data(annotated_file)\n"
     ]
    },
    {
     "name": "stdout",
     "output_type": "stream",
     "text": [
      "06-27-2024-13-20-58\tmain\tProcessing predicted_file: /home/aayush/accelerometer/compare_classification/accProcess_output/30_sec/original_features/predicted_output/P065-timeSeries.csv.gz and annotated_file:/home/yacine/accel/capture24/participants/P065.csv\n"
     ]
    },
    {
     "name": "stderr",
     "output_type": "stream",
     "text": [
      "/tmp/ipykernel_1379283/2143372201.py:25: DtypeWarning: Columns (4) have mixed types.Specify dtype option on import or set low_memory=False.\n",
      "  actual_labels = process_annotated_data(annotated_file)\n"
     ]
    },
    {
     "name": "stdout",
     "output_type": "stream",
     "text": [
      "06-27-2024-13-21-12\tmain\tProcessing predicted_file: /home/aayush/accelerometer/compare_classification/accProcess_output/30_sec/original_features/predicted_output/P066-timeSeries.csv.gz and annotated_file:/home/yacine/accel/capture24/participants/P066.csv\n"
     ]
    },
    {
     "name": "stderr",
     "output_type": "stream",
     "text": [
      "/tmp/ipykernel_1379283/2143372201.py:25: DtypeWarning: Columns (4) have mixed types.Specify dtype option on import or set low_memory=False.\n",
      "  actual_labels = process_annotated_data(annotated_file)\n"
     ]
    },
    {
     "name": "stdout",
     "output_type": "stream",
     "text": [
      "06-27-2024-13-21-26\tmain\tProcessing predicted_file: /home/aayush/accelerometer/compare_classification/accProcess_output/30_sec/original_features/predicted_output/P067-timeSeries.csv.gz and annotated_file:/home/yacine/accel/capture24/participants/P067.csv\n"
     ]
    },
    {
     "name": "stderr",
     "output_type": "stream",
     "text": [
      "/tmp/ipykernel_1379283/2143372201.py:25: DtypeWarning: Columns (4) have mixed types.Specify dtype option on import or set low_memory=False.\n",
      "  actual_labels = process_annotated_data(annotated_file)\n"
     ]
    },
    {
     "name": "stdout",
     "output_type": "stream",
     "text": [
      "06-27-2024-13-21-38\tmain\tProcessing predicted_file: /home/aayush/accelerometer/compare_classification/accProcess_output/30_sec/original_features/predicted_output/P068-timeSeries.csv.gz and annotated_file:/home/yacine/accel/capture24/participants/P068.csv\n"
     ]
    },
    {
     "name": "stderr",
     "output_type": "stream",
     "text": [
      "/tmp/ipykernel_1379283/2143372201.py:25: DtypeWarning: Columns (4) have mixed types.Specify dtype option on import or set low_memory=False.\n",
      "  actual_labels = process_annotated_data(annotated_file)\n",
      "/tmp/ipykernel_1379283/2825748892.py:36: SettingWithCopyWarning: \n",
      "A value is trying to be set on a copy of a slice from a DataFrame.\n",
      "Try using .loc[row_indexer,col_indexer] = value instead\n",
      "\n",
      "See the caveats in the documentation: https://pandas.pydata.org/pandas-docs/stable/user_guide/indexing.html#returning-a-view-versus-a-copy\n",
      "  df_cleaned['time_cleaned'] = df_cleaned_time\n"
     ]
    },
    {
     "name": "stdout",
     "output_type": "stream",
     "text": [
      "06-27-2024-13-21-51\tmain\tProcessing predicted_file: /home/aayush/accelerometer/compare_classification/accProcess_output/30_sec/original_features/predicted_output/P069-timeSeries.csv.gz and annotated_file:/home/yacine/accel/capture24/participants/P069.csv\n"
     ]
    },
    {
     "name": "stderr",
     "output_type": "stream",
     "text": [
      "/tmp/ipykernel_1379283/2143372201.py:25: DtypeWarning: Columns (4) have mixed types.Specify dtype option on import or set low_memory=False.\n",
      "  actual_labels = process_annotated_data(annotated_file)\n"
     ]
    },
    {
     "name": "stdout",
     "output_type": "stream",
     "text": [
      "06-27-2024-13-22-04\tmain\tProcessing predicted_file: /home/aayush/accelerometer/compare_classification/accProcess_output/30_sec/original_features/predicted_output/P070-timeSeries.csv.gz and annotated_file:/home/yacine/accel/capture24/participants/P070.csv\n"
     ]
    },
    {
     "name": "stderr",
     "output_type": "stream",
     "text": [
      "/tmp/ipykernel_1379283/2143372201.py:25: DtypeWarning: Columns (4) have mixed types.Specify dtype option on import or set low_memory=False.\n",
      "  actual_labels = process_annotated_data(annotated_file)\n"
     ]
    },
    {
     "name": "stdout",
     "output_type": "stream",
     "text": [
      "06-27-2024-13-22-16\tmain\tProcessing predicted_file: /home/aayush/accelerometer/compare_classification/accProcess_output/30_sec/original_features/predicted_output/P071-timeSeries.csv.gz and annotated_file:/home/yacine/accel/capture24/participants/P071.csv\n"
     ]
    },
    {
     "name": "stderr",
     "output_type": "stream",
     "text": [
      "/tmp/ipykernel_1379283/2143372201.py:25: DtypeWarning: Columns (4) have mixed types.Specify dtype option on import or set low_memory=False.\n",
      "  actual_labels = process_annotated_data(annotated_file)\n"
     ]
    },
    {
     "name": "stdout",
     "output_type": "stream",
     "text": [
      "06-27-2024-13-22-29\tmain\tProcessing predicted_file: /home/aayush/accelerometer/compare_classification/accProcess_output/30_sec/original_features/predicted_output/P072-timeSeries.csv.gz and annotated_file:/home/yacine/accel/capture24/participants/P072.csv\n"
     ]
    },
    {
     "name": "stderr",
     "output_type": "stream",
     "text": [
      "/tmp/ipykernel_1379283/2143372201.py:25: DtypeWarning: Columns (4) have mixed types.Specify dtype option on import or set low_memory=False.\n",
      "  actual_labels = process_annotated_data(annotated_file)\n"
     ]
    },
    {
     "name": "stdout",
     "output_type": "stream",
     "text": [
      "06-27-2024-13-22-43\tmain\tProcessing predicted_file: /home/aayush/accelerometer/compare_classification/accProcess_output/30_sec/original_features/predicted_output/P073-timeSeries.csv.gz and annotated_file:/home/yacine/accel/capture24/participants/P073.csv\n"
     ]
    },
    {
     "name": "stderr",
     "output_type": "stream",
     "text": [
      "/tmp/ipykernel_1379283/2143372201.py:25: DtypeWarning: Columns (4) have mixed types.Specify dtype option on import or set low_memory=False.\n",
      "  actual_labels = process_annotated_data(annotated_file)\n"
     ]
    },
    {
     "name": "stdout",
     "output_type": "stream",
     "text": [
      "06-27-2024-13-22-57\tmain\tProcessing predicted_file: /home/aayush/accelerometer/compare_classification/accProcess_output/30_sec/original_features/predicted_output/P074-timeSeries.csv.gz and annotated_file:/home/yacine/accel/capture24/participants/P074.csv\n"
     ]
    },
    {
     "name": "stderr",
     "output_type": "stream",
     "text": [
      "/tmp/ipykernel_1379283/2143372201.py:25: DtypeWarning: Columns (4) have mixed types.Specify dtype option on import or set low_memory=False.\n",
      "  actual_labels = process_annotated_data(annotated_file)\n"
     ]
    },
    {
     "name": "stdout",
     "output_type": "stream",
     "text": [
      "06-27-2024-13-23-10\tmain\tProcessing predicted_file: /home/aayush/accelerometer/compare_classification/accProcess_output/30_sec/original_features/predicted_output/P075-timeSeries.csv.gz and annotated_file:/home/yacine/accel/capture24/participants/P075.csv\n"
     ]
    },
    {
     "name": "stderr",
     "output_type": "stream",
     "text": [
      "/tmp/ipykernel_1379283/2143372201.py:25: DtypeWarning: Columns (4) have mixed types.Specify dtype option on import or set low_memory=False.\n",
      "  actual_labels = process_annotated_data(annotated_file)\n",
      "/tmp/ipykernel_1379283/2825748892.py:36: SettingWithCopyWarning: \n",
      "A value is trying to be set on a copy of a slice from a DataFrame.\n",
      "Try using .loc[row_indexer,col_indexer] = value instead\n",
      "\n",
      "See the caveats in the documentation: https://pandas.pydata.org/pandas-docs/stable/user_guide/indexing.html#returning-a-view-versus-a-copy\n",
      "  df_cleaned['time_cleaned'] = df_cleaned_time\n"
     ]
    },
    {
     "name": "stdout",
     "output_type": "stream",
     "text": [
      "06-27-2024-13-23-22\tmain\tProcessing predicted_file: /home/aayush/accelerometer/compare_classification/accProcess_output/30_sec/original_features/predicted_output/P076-timeSeries.csv.gz and annotated_file:/home/yacine/accel/capture24/participants/P076.csv\n"
     ]
    },
    {
     "name": "stderr",
     "output_type": "stream",
     "text": [
      "/tmp/ipykernel_1379283/2143372201.py:25: DtypeWarning: Columns (4) have mixed types.Specify dtype option on import or set low_memory=False.\n",
      "  actual_labels = process_annotated_data(annotated_file)\n"
     ]
    },
    {
     "name": "stdout",
     "output_type": "stream",
     "text": [
      "06-27-2024-13-23-35\tmain\tProcessing predicted_file: /home/aayush/accelerometer/compare_classification/accProcess_output/30_sec/original_features/predicted_output/P077-timeSeries.csv.gz and annotated_file:/home/yacine/accel/capture24/participants/P077.csv\n"
     ]
    },
    {
     "name": "stderr",
     "output_type": "stream",
     "text": [
      "/tmp/ipykernel_1379283/2143372201.py:25: DtypeWarning: Columns (4) have mixed types.Specify dtype option on import or set low_memory=False.\n",
      "  actual_labels = process_annotated_data(annotated_file)\n",
      "/tmp/ipykernel_1379283/2825748892.py:36: SettingWithCopyWarning: \n",
      "A value is trying to be set on a copy of a slice from a DataFrame.\n",
      "Try using .loc[row_indexer,col_indexer] = value instead\n",
      "\n",
      "See the caveats in the documentation: https://pandas.pydata.org/pandas-docs/stable/user_guide/indexing.html#returning-a-view-versus-a-copy\n",
      "  df_cleaned['time_cleaned'] = df_cleaned_time\n"
     ]
    },
    {
     "name": "stdout",
     "output_type": "stream",
     "text": [
      "06-27-2024-13-23-46\tmain\tProcessing predicted_file: /home/aayush/accelerometer/compare_classification/accProcess_output/30_sec/original_features/predicted_output/P078-timeSeries.csv.gz and annotated_file:/home/yacine/accel/capture24/participants/P078.csv\n"
     ]
    },
    {
     "name": "stderr",
     "output_type": "stream",
     "text": [
      "/tmp/ipykernel_1379283/2143372201.py:25: DtypeWarning: Columns (4) have mixed types.Specify dtype option on import or set low_memory=False.\n",
      "  actual_labels = process_annotated_data(annotated_file)\n"
     ]
    },
    {
     "name": "stdout",
     "output_type": "stream",
     "text": [
      "06-27-2024-13-23-59\tmain\tProcessing predicted_file: /home/aayush/accelerometer/compare_classification/accProcess_output/30_sec/original_features/predicted_output/P079-timeSeries.csv.gz and annotated_file:/home/yacine/accel/capture24/participants/P079.csv\n"
     ]
    },
    {
     "name": "stderr",
     "output_type": "stream",
     "text": [
      "/tmp/ipykernel_1379283/2143372201.py:25: DtypeWarning: Columns (4) have mixed types.Specify dtype option on import or set low_memory=False.\n",
      "  actual_labels = process_annotated_data(annotated_file)\n"
     ]
    },
    {
     "name": "stdout",
     "output_type": "stream",
     "text": [
      "06-27-2024-13-24-10\tmain\tProcessing predicted_file: /home/aayush/accelerometer/compare_classification/accProcess_output/30_sec/original_features/predicted_output/P080-timeSeries.csv.gz and annotated_file:/home/yacine/accel/capture24/participants/P080.csv\n"
     ]
    },
    {
     "name": "stderr",
     "output_type": "stream",
     "text": [
      "/tmp/ipykernel_1379283/2143372201.py:25: DtypeWarning: Columns (4) have mixed types.Specify dtype option on import or set low_memory=False.\n",
      "  actual_labels = process_annotated_data(annotated_file)\n"
     ]
    },
    {
     "name": "stdout",
     "output_type": "stream",
     "text": [
      "06-27-2024-13-24-26\tmain\tProcessing predicted_file: /home/aayush/accelerometer/compare_classification/accProcess_output/30_sec/original_features/predicted_output/P081-timeSeries.csv.gz and annotated_file:/home/yacine/accel/capture24/participants/P081.csv\n"
     ]
    },
    {
     "name": "stderr",
     "output_type": "stream",
     "text": [
      "/tmp/ipykernel_1379283/2143372201.py:25: DtypeWarning: Columns (4) have mixed types.Specify dtype option on import or set low_memory=False.\n",
      "  actual_labels = process_annotated_data(annotated_file)\n"
     ]
    },
    {
     "name": "stdout",
     "output_type": "stream",
     "text": [
      "06-27-2024-13-24-32\tmain\tProcessing predicted_file: /home/aayush/accelerometer/compare_classification/accProcess_output/30_sec/original_features/predicted_output/P082-timeSeries.csv.gz and annotated_file:/home/yacine/accel/capture24/participants/P082.csv\n"
     ]
    },
    {
     "name": "stderr",
     "output_type": "stream",
     "text": [
      "/tmp/ipykernel_1379283/2143372201.py:25: DtypeWarning: Columns (4) have mixed types.Specify dtype option on import or set low_memory=False.\n",
      "  actual_labels = process_annotated_data(annotated_file)\n"
     ]
    },
    {
     "name": "stdout",
     "output_type": "stream",
     "text": [
      "06-27-2024-13-24-44\tmain\tProcessing predicted_file: /home/aayush/accelerometer/compare_classification/accProcess_output/30_sec/original_features/predicted_output/P083-timeSeries.csv.gz and annotated_file:/home/yacine/accel/capture24/participants/P083.csv\n"
     ]
    },
    {
     "name": "stderr",
     "output_type": "stream",
     "text": [
      "/tmp/ipykernel_1379283/2143372201.py:25: DtypeWarning: Columns (4) have mixed types.Specify dtype option on import or set low_memory=False.\n",
      "  actual_labels = process_annotated_data(annotated_file)\n"
     ]
    },
    {
     "name": "stdout",
     "output_type": "stream",
     "text": [
      "06-27-2024-13-24-57\tmain\tProcessing predicted_file: /home/aayush/accelerometer/compare_classification/accProcess_output/30_sec/original_features/predicted_output/P084-timeSeries.csv.gz and annotated_file:/home/yacine/accel/capture24/participants/P084.csv\n"
     ]
    },
    {
     "name": "stderr",
     "output_type": "stream",
     "text": [
      "/tmp/ipykernel_1379283/2143372201.py:25: DtypeWarning: Columns (4) have mixed types.Specify dtype option on import or set low_memory=False.\n",
      "  actual_labels = process_annotated_data(annotated_file)\n"
     ]
    },
    {
     "name": "stdout",
     "output_type": "stream",
     "text": [
      "06-27-2024-13-25-11\tmain\tProcessing predicted_file: /home/aayush/accelerometer/compare_classification/accProcess_output/30_sec/original_features/predicted_output/P085-timeSeries.csv.gz and annotated_file:/home/yacine/accel/capture24/participants/P085.csv\n"
     ]
    },
    {
     "name": "stderr",
     "output_type": "stream",
     "text": [
      "/tmp/ipykernel_1379283/2143372201.py:25: DtypeWarning: Columns (4) have mixed types.Specify dtype option on import or set low_memory=False.\n",
      "  actual_labels = process_annotated_data(annotated_file)\n"
     ]
    },
    {
     "name": "stdout",
     "output_type": "stream",
     "text": [
      "06-27-2024-13-25-26\tmain\tProcessing predicted_file: /home/aayush/accelerometer/compare_classification/accProcess_output/30_sec/original_features/predicted_output/P086-timeSeries.csv.gz and annotated_file:/home/yacine/accel/capture24/participants/P086.csv\n"
     ]
    },
    {
     "name": "stderr",
     "output_type": "stream",
     "text": [
      "/tmp/ipykernel_1379283/2143372201.py:25: DtypeWarning: Columns (4) have mixed types.Specify dtype option on import or set low_memory=False.\n",
      "  actual_labels = process_annotated_data(annotated_file)\n"
     ]
    },
    {
     "name": "stdout",
     "output_type": "stream",
     "text": [
      "06-27-2024-13-25-40\tmain\tProcessing predicted_file: /home/aayush/accelerometer/compare_classification/accProcess_output/30_sec/original_features/predicted_output/P087-timeSeries.csv.gz and annotated_file:/home/yacine/accel/capture24/participants/P087.csv\n"
     ]
    },
    {
     "name": "stderr",
     "output_type": "stream",
     "text": [
      "/tmp/ipykernel_1379283/2143372201.py:25: DtypeWarning: Columns (4) have mixed types.Specify dtype option on import or set low_memory=False.\n",
      "  actual_labels = process_annotated_data(annotated_file)\n"
     ]
    },
    {
     "name": "stdout",
     "output_type": "stream",
     "text": [
      "06-27-2024-13-25-52\tmain\tProcessing predicted_file: /home/aayush/accelerometer/compare_classification/accProcess_output/30_sec/original_features/predicted_output/P088-timeSeries.csv.gz and annotated_file:/home/yacine/accel/capture24/participants/P088.csv\n"
     ]
    },
    {
     "name": "stderr",
     "output_type": "stream",
     "text": [
      "/tmp/ipykernel_1379283/2143372201.py:25: DtypeWarning: Columns (4) have mixed types.Specify dtype option on import or set low_memory=False.\n",
      "  actual_labels = process_annotated_data(annotated_file)\n"
     ]
    },
    {
     "name": "stdout",
     "output_type": "stream",
     "text": [
      "06-27-2024-13-26-04\tmain\tProcessing predicted_file: /home/aayush/accelerometer/compare_classification/accProcess_output/30_sec/original_features/predicted_output/P089-timeSeries.csv.gz and annotated_file:/home/yacine/accel/capture24/participants/P089.csv\n"
     ]
    },
    {
     "name": "stderr",
     "output_type": "stream",
     "text": [
      "/tmp/ipykernel_1379283/2143372201.py:25: DtypeWarning: Columns (4) have mixed types.Specify dtype option on import or set low_memory=False.\n",
      "  actual_labels = process_annotated_data(annotated_file)\n"
     ]
    },
    {
     "name": "stdout",
     "output_type": "stream",
     "text": [
      "06-27-2024-13-26-17\tmain\tProcessing predicted_file: /home/aayush/accelerometer/compare_classification/accProcess_output/30_sec/original_features/predicted_output/P090-timeSeries.csv.gz and annotated_file:/home/yacine/accel/capture24/participants/P090.csv\n"
     ]
    },
    {
     "name": "stderr",
     "output_type": "stream",
     "text": [
      "/tmp/ipykernel_1379283/2143372201.py:25: DtypeWarning: Columns (4) have mixed types.Specify dtype option on import or set low_memory=False.\n",
      "  actual_labels = process_annotated_data(annotated_file)\n"
     ]
    },
    {
     "name": "stdout",
     "output_type": "stream",
     "text": [
      "06-27-2024-13-26-31\tmain\tProcessing predicted_file: /home/aayush/accelerometer/compare_classification/accProcess_output/30_sec/original_features/predicted_output/P091-timeSeries.csv.gz and annotated_file:/home/yacine/accel/capture24/participants/P091.csv\n"
     ]
    },
    {
     "name": "stderr",
     "output_type": "stream",
     "text": [
      "/tmp/ipykernel_1379283/2143372201.py:25: DtypeWarning: Columns (4) have mixed types.Specify dtype option on import or set low_memory=False.\n",
      "  actual_labels = process_annotated_data(annotated_file)\n"
     ]
    },
    {
     "name": "stdout",
     "output_type": "stream",
     "text": [
      "06-27-2024-13-26-45\tmain\tProcessing predicted_file: /home/aayush/accelerometer/compare_classification/accProcess_output/30_sec/original_features/predicted_output/P092-timeSeries.csv.gz and annotated_file:/home/yacine/accel/capture24/participants/P092.csv\n"
     ]
    },
    {
     "name": "stderr",
     "output_type": "stream",
     "text": [
      "/tmp/ipykernel_1379283/2143372201.py:25: DtypeWarning: Columns (4) have mixed types.Specify dtype option on import or set low_memory=False.\n",
      "  actual_labels = process_annotated_data(annotated_file)\n"
     ]
    },
    {
     "name": "stdout",
     "output_type": "stream",
     "text": [
      "06-27-2024-13-26-59\tmain\tProcessing predicted_file: /home/aayush/accelerometer/compare_classification/accProcess_output/30_sec/original_features/predicted_output/P093-timeSeries.csv.gz and annotated_file:/home/yacine/accel/capture24/participants/P093.csv\n"
     ]
    },
    {
     "name": "stderr",
     "output_type": "stream",
     "text": [
      "/tmp/ipykernel_1379283/2143372201.py:25: DtypeWarning: Columns (4) have mixed types.Specify dtype option on import or set low_memory=False.\n",
      "  actual_labels = process_annotated_data(annotated_file)\n",
      "/tmp/ipykernel_1379283/2825748892.py:36: SettingWithCopyWarning: \n",
      "A value is trying to be set on a copy of a slice from a DataFrame.\n",
      "Try using .loc[row_indexer,col_indexer] = value instead\n",
      "\n",
      "See the caveats in the documentation: https://pandas.pydata.org/pandas-docs/stable/user_guide/indexing.html#returning-a-view-versus-a-copy\n",
      "  df_cleaned['time_cleaned'] = df_cleaned_time\n"
     ]
    },
    {
     "name": "stdout",
     "output_type": "stream",
     "text": [
      "06-27-2024-13-27-12\tmain\tProcessing predicted_file: /home/aayush/accelerometer/compare_classification/accProcess_output/30_sec/original_features/predicted_output/P094-timeSeries.csv.gz and annotated_file:/home/yacine/accel/capture24/participants/P094.csv\n"
     ]
    },
    {
     "name": "stderr",
     "output_type": "stream",
     "text": [
      "/tmp/ipykernel_1379283/2143372201.py:25: DtypeWarning: Columns (4) have mixed types.Specify dtype option on import or set low_memory=False.\n",
      "  actual_labels = process_annotated_data(annotated_file)\n",
      "/tmp/ipykernel_1379283/2825748892.py:36: SettingWithCopyWarning: \n",
      "A value is trying to be set on a copy of a slice from a DataFrame.\n",
      "Try using .loc[row_indexer,col_indexer] = value instead\n",
      "\n",
      "See the caveats in the documentation: https://pandas.pydata.org/pandas-docs/stable/user_guide/indexing.html#returning-a-view-versus-a-copy\n",
      "  df_cleaned['time_cleaned'] = df_cleaned_time\n"
     ]
    },
    {
     "name": "stdout",
     "output_type": "stream",
     "text": [
      "06-27-2024-13-27-20\tmain\tProcessing predicted_file: /home/aayush/accelerometer/compare_classification/accProcess_output/30_sec/original_features/predicted_output/P095-timeSeries.csv.gz and annotated_file:/home/yacine/accel/capture24/participants/P095.csv\n"
     ]
    },
    {
     "name": "stderr",
     "output_type": "stream",
     "text": [
      "/tmp/ipykernel_1379283/2143372201.py:25: DtypeWarning: Columns (4) have mixed types.Specify dtype option on import or set low_memory=False.\n",
      "  actual_labels = process_annotated_data(annotated_file)\n"
     ]
    },
    {
     "name": "stdout",
     "output_type": "stream",
     "text": [
      "06-27-2024-13-27-31\tmain\tProcessing predicted_file: /home/aayush/accelerometer/compare_classification/accProcess_output/30_sec/original_features/predicted_output/P096-timeSeries.csv.gz and annotated_file:/home/yacine/accel/capture24/participants/P096.csv\n"
     ]
    },
    {
     "name": "stderr",
     "output_type": "stream",
     "text": [
      "/tmp/ipykernel_1379283/2143372201.py:25: DtypeWarning: Columns (4) have mixed types.Specify dtype option on import or set low_memory=False.\n",
      "  actual_labels = process_annotated_data(annotated_file)\n"
     ]
    },
    {
     "name": "stdout",
     "output_type": "stream",
     "text": [
      "06-27-2024-13-27-45\tmain\tProcessing predicted_file: /home/aayush/accelerometer/compare_classification/accProcess_output/30_sec/original_features/predicted_output/P097-timeSeries.csv.gz and annotated_file:/home/yacine/accel/capture24/participants/P097.csv\n"
     ]
    },
    {
     "name": "stderr",
     "output_type": "stream",
     "text": [
      "/tmp/ipykernel_1379283/2143372201.py:25: DtypeWarning: Columns (4) have mixed types.Specify dtype option on import or set low_memory=False.\n",
      "  actual_labels = process_annotated_data(annotated_file)\n",
      "/tmp/ipykernel_1379283/2825748892.py:36: SettingWithCopyWarning: \n",
      "A value is trying to be set on a copy of a slice from a DataFrame.\n",
      "Try using .loc[row_indexer,col_indexer] = value instead\n",
      "\n",
      "See the caveats in the documentation: https://pandas.pydata.org/pandas-docs/stable/user_guide/indexing.html#returning-a-view-versus-a-copy\n",
      "  df_cleaned['time_cleaned'] = df_cleaned_time\n"
     ]
    },
    {
     "name": "stdout",
     "output_type": "stream",
     "text": [
      "06-27-2024-13-27-58\tmain\tProcessing predicted_file: /home/aayush/accelerometer/compare_classification/accProcess_output/30_sec/original_features/predicted_output/P098-timeSeries.csv.gz and annotated_file:/home/yacine/accel/capture24/participants/P098.csv\n"
     ]
    },
    {
     "name": "stderr",
     "output_type": "stream",
     "text": [
      "/tmp/ipykernel_1379283/2143372201.py:25: DtypeWarning: Columns (4) have mixed types.Specify dtype option on import or set low_memory=False.\n",
      "  actual_labels = process_annotated_data(annotated_file)\n"
     ]
    },
    {
     "name": "stdout",
     "output_type": "stream",
     "text": [
      "06-27-2024-13-28-12\tmain\tProcessing predicted_file: /home/aayush/accelerometer/compare_classification/accProcess_output/30_sec/original_features/predicted_output/P099-timeSeries.csv.gz and annotated_file:/home/yacine/accel/capture24/participants/P099.csv\n"
     ]
    },
    {
     "name": "stderr",
     "output_type": "stream",
     "text": [
      "/tmp/ipykernel_1379283/2143372201.py:25: DtypeWarning: Columns (4) have mixed types.Specify dtype option on import or set low_memory=False.\n",
      "  actual_labels = process_annotated_data(annotated_file)\n"
     ]
    },
    {
     "name": "stdout",
     "output_type": "stream",
     "text": [
      "06-27-2024-13-28-26\tmain\tProcessing predicted_file: /home/aayush/accelerometer/compare_classification/accProcess_output/30_sec/original_features/predicted_output/P100-timeSeries.csv.gz and annotated_file:/home/yacine/accel/capture24/participants/P100.csv\n"
     ]
    },
    {
     "name": "stderr",
     "output_type": "stream",
     "text": [
      "/tmp/ipykernel_1379283/2143372201.py:25: DtypeWarning: Columns (4) have mixed types.Specify dtype option on import or set low_memory=False.\n",
      "  actual_labels = process_annotated_data(annotated_file)\n"
     ]
    },
    {
     "name": "stdout",
     "output_type": "stream",
     "text": [
      "##############DONE#############\n"
     ]
    }
   ],
   "source": [
    "df_cleaned_all = []\n",
    "df_original_all = []\n",
    "\n",
    "actual_labels_all = []\n",
    "actual_labels_cleaned_all = []\n",
    "\n",
    "\n",
    "predicted_items_na_total = 0\n",
    "count_dropped_actual_labels_na_total = 0\n",
    "count_dropped_predicted_dedup_total = 0\n",
    "count_timestamp_actual_labels_total = 0\n",
    "count_timestamp_predicted_total = 0\n",
    "\n",
    "\n",
    "# We only want to consider testParticipants: 101 to 151.\n",
    "for predicted_file, annotated_file in zip(predicted_data_files[0:100], annotated_data_files[0:100]):\n",
    "    logging.log(\"main\", f\"Processing predicted_file: {predicted_file} and annotated_file:{annotated_file}\")\n",
    "\n",
    "    # In this step we drop the activities which are NaN from the predicted data file\n",
    "    df_cleaned, df_original = decode_activities(predicted_file)\n",
    "\n",
    "    predicted_items_na_total += len(df_original) - len(df_cleaned)\n",
    "\n",
    "    # We process the strings to timestamps for annotated file\n",
    "    actual_labels = process_annotated_data(annotated_file)\n",
    "\n",
    "    # In this step:\n",
    "    # We convert the strings to timestamps for cleaned predicted data file\n",
    "    # drop all 'nan' rows from actual labels\n",
    "    # Filter out all those timestamps which do not exist in df_cleaned_time\n",
    "    # Filter out all those timestamps which do not exist in actual_labels\n",
    "    # Remove all duplicated timestamps from df_cleaned_filtered\n",
    "    # replace the annotated labels with the same format of strings as predicted labels using mapping from labels_dict\n",
    "    actual_labels_cleaned, df_cleaned_filtered, count_dropped_actual_labels_na, count_dropped_predicted_dedup,  count_timestamp_actual_labels, count_timestamp_predicted = filtering_data(df_cleaned, actual_labels, labels_dict)\n",
    "\n",
    "    # logging.log(\"main\", f\"Number of dropped items from predicted df due to NA values: {len(df_original) - len(df_cleaned)}\")\n",
    "    # logging.log(\"main\", f\"Number of dropped items from actual_label df due to NA values: {count_dropped_actual_labels_na}\")\n",
    "    # logging.log(\"main\", f\"Number of dropped items from predicted df due to duplicate timestamps: {count_dropped_predicted_dedup}\")\n",
    "    # logging.log(\"main\", f\"Number of dropped items from actual_label df due to timestamp mismatch with predicted df: {count_timestamp_actual_labels}\")\n",
    "    # logging.log(\"main\", f\"Number of dropped items from predicted df due to timestamp mismatch with actual_label df: {count_timestamp_predicted}\")\n",
    "    \n",
    "\n",
    "    count_dropped_actual_labels_na_total += count_dropped_actual_labels_na\n",
    "    count_dropped_predicted_dedup_total += count_dropped_predicted_dedup\n",
    "    count_timestamp_actual_labels_total += count_timestamp_actual_labels\n",
    "    count_timestamp_predicted_total += count_timestamp_predicted\n",
    "    \n",
    "    \n",
    "    cm = create_confusion_matrix(actual_labels_cleaned, df_cleaned_filtered)\n",
    "    combined_cm += cm\n",
    "\n",
    "    df_cleaned_all.append(df_cleaned_filtered)\n",
    "    df_original_all.append(df_original)\n",
    "    \n",
    "    actual_labels_all.append(actual_labels)\n",
    "    actual_labels_cleaned_all.append(actual_labels_cleaned)\n",
    "    \n",
    "print(\"##############DONE#############\")"
   ]
  },
  {
   "cell_type": "code",
   "execution_count": 9,
   "id": "05612fbf-ec40-448a-a087-a089e70b7d47",
   "metadata": {},
   "outputs": [],
   "source": [
    "df_cleaned_all_pd = pd.concat(df_cleaned_all, ignore_index=True, axis=0)\n",
    "df_original_all_pd = pd.concat(df_original_all, ignore_index=True, axis=0)\n",
    "\n",
    "actual_labels_all_pd = pd.concat(actual_labels_all, ignore_index=True, axis=0)\n",
    "actual_labels_cleaned_all_pd = pd.concat(actual_labels_cleaned_all, ignore_index=True, axis=0)"
   ]
  },
  {
   "cell_type": "code",
   "execution_count": 10,
   "id": "e6b3b99d-af20-4c3b-b212-edcc35bab232",
   "metadata": {},
   "outputs": [
    {
     "name": "stdout",
     "output_type": "stream",
     "text": [
      "Number of dropped items from predicted df due to NA values: 3332\n",
      "Number of dropped items from actual_label df due to NA values: 104252\n",
      "Number of dropped items from predicted df due to duplicate timestamps: 120\n",
      "Number of dropped items from actual_label df due to timestamp mismatch with predicted df: 9996\n",
      "Number of dropped items from predicted df due to timestamp mismatch with actual_label df: 112116\n"
     ]
    }
   ],
   "source": [
    "print(f\"Number of dropped items from predicted df due to NA values: {predicted_items_na_total}\")\n",
    "print(f\"Number of dropped items from actual_label df due to NA values: {count_dropped_actual_labels_na_total}\")\n",
    "print(f\"Number of dropped items from predicted df due to duplicate timestamps: {count_dropped_predicted_dedup_total}\")\n",
    "print(f\"Number of dropped items from actual_label df due to timestamp mismatch with predicted df: {count_timestamp_actual_labels_total}\")\n",
    "print(f\"Number of dropped items from predicted df due to timestamp mismatch with actual_label df: {count_timestamp_predicted_total}\")"
   ]
  },
  {
   "cell_type": "code",
   "execution_count": 11,
   "id": "b7df604f-7857-4ac3-a6da-47ea4d853230",
   "metadata": {},
   "outputs": [],
   "source": [
    "# print(df_cleaned_all_pd)\n",
    "# print(df_original_all_pd)\n",
    "\n",
    "# print(actual_labels_all_pd)\n",
    "# print(actual_labels_cleaned_all_pd)"
   ]
  },
  {
   "cell_type": "code",
   "execution_count": 12,
   "id": "aa175a9a-e0e3-4897-baa3-d8b5723bdedc",
   "metadata": {},
   "outputs": [
    {
     "data": {
      "image/png": "[encoded data removed]",
      "text/plain": [
       "<Figure size 640x480 with 2 Axes>"
      ]
     },
     "metadata": {},
     "output_type": "display_data"
    }
   ],
   "source": [
    "display_confusion_matrix(combined_cm, normalize=True)"
   ]
  },
  {
   "cell_type": "code",
   "execution_count": 13,
   "id": "a72fd03f-5f16-4c8b-a1ea-a47e3ce27da9",
   "metadata": {},
   "outputs": [
    {
     "data": {
      "image/png": "[encoded data removed]",
      "text/plain": [
       "<Figure size 640x480 with 2 Axes>"
      ]
     },
     "metadata": {},
     "output_type": "display_data"
    }
   ],
   "source": [
    "display_confusion_matrix(combined_cm, normalize=False)"
   ]
  },
  {
   "cell_type": "code",
   "execution_count": null,
   "id": "53c462e7-810a-4a5e-a070-ee71b23b4026",
   "metadata": {},
   "outputs": [],
   "source": []
  }
 ],
 "metadata": {
  "kernelspec": {
   "display_name": "Python 3 (ipykernel)",
   "language": "python",
   "name": "python3"
  },
  "language_info": {
   "codemirror_mode": {
    "name": "ipython",
    "version": 3
   },
   "file_extension": ".py",
   "mimetype": "text/x-python",
   "name": "python",
   "nbconvert_exporter": "python",
   "pygments_lexer": "ipython3",
   "version": "3.10.12"
  }
 },
 "nbformat": 4,
 "nbformat_minor": 5
}
