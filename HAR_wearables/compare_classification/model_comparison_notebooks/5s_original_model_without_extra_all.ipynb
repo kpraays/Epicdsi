{
 "cells": [
  {
   "cell_type": "markdown",
   "id": "e64c37ad-06e8-4134-bb77-544eb138bc05",
   "metadata": {},
   "source": [
    "- Generate epoch files with epoch length as 10 seconds.\n",
    "- Load the epoch files and label files with 10 second worth of labels.\n",
    "- Train the model.\n",
    "- Use the model to make predictions on test set and compare with actual annotations we have.\n",
    "- Make the confusion matrix.\n",
    "- Do it for: original model and custom features model.\n",
    "- Use those models for 22 random participants."
   ]
  },
  {
   "cell_type": "code",
   "execution_count": 5,
   "id": "2b341aaf-39f0-4571-a666-0273aafe023b",
   "metadata": {},
   "outputs": [],
   "source": [
    "def get_files(data_path) -> None:\n",
    "    total_csv_zipped = []\n",
    "    for path, dirnames, filenames in os.walk(data_path):\n",
    "        for file in filenames:\n",
    "            if file.endswith(\".csv.gz\"):\n",
    "                total_csv_zipped.append(os.path.join(path, file))\n",
    "                \n",
    "            if file.endswith(\".csv\") and file[0]!='c': #ignore the capture24 file\n",
    "                # paths contains the base directory for that file.\n",
    "                # dirnames contains other directories within this folder.\n",
    "                # filenames contains the list of filenames within path.\n",
    "                total_csv_zipped.append(os.path.join(path, file))\n",
    "    return sorted(total_csv_zipped)"
   ]
  },
  {
   "cell_type": "code",
   "execution_count": 6,
   "id": "b0e643ae-e494-40f2-9f63-339ba117b3c1",
   "metadata": {},
   "outputs": [],
   "source": [
    "import pandas as pd\n",
    "import os\n",
    "epoch_size = 5 # 5 seconds\n",
    "\n",
    "epochs = \"/home/aayush/accelerometer/compare_classification/epoch_data/5_sec/original_features\"\n",
    "epoch_files = get_files(epochs)\n",
    "\n",
    "labels = \"/home/yacine/accel/capture24/participants/\"\n",
    "label_files = get_files(labels)"
   ]
  },
  {
   "cell_type": "code",
   "execution_count": 7,
   "id": "8635f7ad-6ebe-40c8-bb9e-1100befdb373",
   "metadata": {},
   "outputs": [],
   "source": [
    "import csv\n",
    "def create_labels_dict(labels_dict_location = \"/home/aayush/accelerometer/accprocess/anno-label.csv\"):\n",
    "    labels_dict = {}\n",
    "    with open(labels_dict_location, \"r\") as annotation_dict:\n",
    "        reader = csv.DictReader(annotation_dict)\n",
    "        for row in reader:\n",
    "            if labels_dict.get(row['annotation']) is None:\n",
    "                labels_dict[row['annotation']] = [row['label:Walmsley2020']]\n",
    "            else:\n",
    "                labels_dict[row['annotation']].append(row['label:Walmsley2020'])\n",
    "    return labels_dict\n",
    "\n",
    "labels_dict = create_labels_dict()\n",
    "\n",
    "# replace the annotated labels with the same format of strings as predicted labels using mapping from labels_dict\n",
    "flat_dict = {k: v[0] for k, v in labels_dict.items()}"
   ]
  },
  {
   "cell_type": "code",
   "execution_count": 8,
   "id": "1a3c7b2e-23c8-4749-a903-dde54ae43ce6",
   "metadata": {},
   "outputs": [],
   "source": [
    "def parse_datetime(dt_string):\n",
    "    clean_datetime_str = dt_string.split('[')[0].strip()\n",
    "    dt_object = pd.to_datetime(clean_datetime_str)\n",
    "    return dt_object\n",
    "\n",
    "\n",
    "def parse_datetime_df_time(dt_string):\n",
    "    clean_datetime_str = dt_string.split('[')[0].strip()\n",
    "    clean_datetime_str = clean_datetime_str.split('+')[0].strip()\n",
    "    dt_object = pd.to_datetime(clean_datetime_str)\n",
    "    return dt_object"
   ]
  },
  {
   "cell_type": "code",
   "execution_count": 10,
   "id": "e0bd7543-393b-47c3-8c50-8d299b359931",
   "metadata": {},
   "outputs": [],
   "source": [
    "df_all = []\n",
    "for data_file in get_files(\"/home/aayush/accelerometer/compare_classification/training_data/5_sec/original_features\"):\n",
    "    df = pd.read_csv(data_file)\n",
    "    df_all.append(df)"
   ]
  },
  {
   "cell_type": "code",
   "execution_count": 11,
   "id": "121a31fd",
   "metadata": {},
   "outputs": [],
   "source": [
    "epochs = pd.concat(df_all)"
   ]
  },
  {
   "cell_type": "code",
   "execution_count": 12,
   "id": "84ffae7a-a5e5-436e-b1a6-f46b7fe7da61",
   "metadata": {},
   "outputs": [
    {
     "data": {
      "text/html": [
       "<div>\n",
       "<style scoped>\n",
       "    .dataframe tbody tr th:only-of-type {\n",
       "        vertical-align: middle;\n",
       "    }\n",
       "\n",
       "    .dataframe tbody tr th {\n",
       "        vertical-align: top;\n",
       "    }\n",
       "\n",
       "    .dataframe thead th {\n",
       "        text-align: right;\n",
       "    }\n",
       "</style>\n",
       "<table border=\"1\" class=\"dataframe\">\n",
       "  <thead>\n",
       "    <tr style=\"text-align: right;\">\n",
       "      <th></th>\n",
       "      <th>enmoTrunc</th>\n",
       "      <th>enmoAbs</th>\n",
       "      <th>xMean</th>\n",
       "      <th>yMean</th>\n",
       "      <th>zMean</th>\n",
       "      <th>xRange</th>\n",
       "      <th>yRange</th>\n",
       "      <th>zRange</th>\n",
       "      <th>xStd</th>\n",
       "      <th>yStd</th>\n",
       "      <th>...</th>\n",
       "      <th>p625</th>\n",
       "      <th>totalPower</th>\n",
       "      <th>temp</th>\n",
       "      <th>samples</th>\n",
       "      <th>dataErrors</th>\n",
       "      <th>clipsBeforeCalibr</th>\n",
       "      <th>clipsAfterCalibr</th>\n",
       "      <th>rawSamples</th>\n",
       "      <th>participant</th>\n",
       "      <th>label</th>\n",
       "    </tr>\n",
       "  </thead>\n",
       "  <tbody>\n",
       "    <tr>\n",
       "      <th>0</th>\n",
       "      <td>0.000645</td>\n",
       "      <td>0.003413</td>\n",
       "      <td>-0.459854</td>\n",
       "      <td>-0.523420</td>\n",
       "      <td>0.714303</td>\n",
       "      <td>0.015839</td>\n",
       "      <td>0.015632</td>\n",
       "      <td>0.031827</td>\n",
       "      <td>0.004623</td>\n",
       "      <td>0.006924</td>\n",
       "      <td>...</td>\n",
       "      <td>-17.915316</td>\n",
       "      <td>-14.848814</td>\n",
       "      <td>0.0</td>\n",
       "      <td>500</td>\n",
       "      <td>0</td>\n",
       "      <td>0</td>\n",
       "      <td>0</td>\n",
       "      <td>501</td>\n",
       "      <td>1.0</td>\n",
       "      <td>sleep</td>\n",
       "    </tr>\n",
       "    <tr>\n",
       "      <th>1</th>\n",
       "      <td>0.001040</td>\n",
       "      <td>0.003455</td>\n",
       "      <td>-0.461786</td>\n",
       "      <td>-0.522951</td>\n",
       "      <td>0.714494</td>\n",
       "      <td>0.015839</td>\n",
       "      <td>0.031264</td>\n",
       "      <td>0.031827</td>\n",
       "      <td>0.006518</td>\n",
       "      <td>0.006803</td>\n",
       "      <td>...</td>\n",
       "      <td>-16.959734</td>\n",
       "      <td>-14.294128</td>\n",
       "      <td>0.0</td>\n",
       "      <td>500</td>\n",
       "      <td>0</td>\n",
       "      <td>0</td>\n",
       "      <td>0</td>\n",
       "      <td>502</td>\n",
       "      <td>1.0</td>\n",
       "      <td>sleep</td>\n",
       "    </tr>\n",
       "    <tr>\n",
       "      <th>2</th>\n",
       "      <td>0.000892</td>\n",
       "      <td>0.002792</td>\n",
       "      <td>-0.461406</td>\n",
       "      <td>-0.523857</td>\n",
       "      <td>0.714557</td>\n",
       "      <td>0.015839</td>\n",
       "      <td>0.015632</td>\n",
       "      <td>0.031827</td>\n",
       "      <td>0.006239</td>\n",
       "      <td>0.007136</td>\n",
       "      <td>...</td>\n",
       "      <td>-18.161487</td>\n",
       "      <td>-15.943441</td>\n",
       "      <td>0.0</td>\n",
       "      <td>500</td>\n",
       "      <td>0</td>\n",
       "      <td>0</td>\n",
       "      <td>0</td>\n",
       "      <td>502</td>\n",
       "      <td>1.0</td>\n",
       "      <td>sleep</td>\n",
       "    </tr>\n",
       "    <tr>\n",
       "      <th>3</th>\n",
       "      <td>0.000744</td>\n",
       "      <td>0.002928</td>\n",
       "      <td>-0.460994</td>\n",
       "      <td>-0.523420</td>\n",
       "      <td>0.714526</td>\n",
       "      <td>0.015839</td>\n",
       "      <td>0.031264</td>\n",
       "      <td>0.031827</td>\n",
       "      <td>0.005894</td>\n",
       "      <td>0.006994</td>\n",
       "      <td>...</td>\n",
       "      <td>-17.928012</td>\n",
       "      <td>-15.812560</td>\n",
       "      <td>0.0</td>\n",
       "      <td>500</td>\n",
       "      <td>0</td>\n",
       "      <td>0</td>\n",
       "      <td>0</td>\n",
       "      <td>502</td>\n",
       "      <td>1.0</td>\n",
       "      <td>sleep</td>\n",
       "    </tr>\n",
       "    <tr>\n",
       "      <th>4</th>\n",
       "      <td>0.000636</td>\n",
       "      <td>0.002756</td>\n",
       "      <td>-0.462546</td>\n",
       "      <td>-0.521231</td>\n",
       "      <td>0.715035</td>\n",
       "      <td>0.015839</td>\n",
       "      <td>0.031264</td>\n",
       "      <td>0.031827</td>\n",
       "      <td>0.006982</td>\n",
       "      <td>0.005316</td>\n",
       "      <td>...</td>\n",
       "      <td>-18.134155</td>\n",
       "      <td>-15.430904</td>\n",
       "      <td>0.0</td>\n",
       "      <td>500</td>\n",
       "      <td>0</td>\n",
       "      <td>0</td>\n",
       "      <td>0</td>\n",
       "      <td>502</td>\n",
       "      <td>1.0</td>\n",
       "      <td>sleep</td>\n",
       "    </tr>\n",
       "  </tbody>\n",
       "</table>\n",
       "<p>5 rows × 71 columns</p>\n",
       "</div>"
      ],
      "text/plain": [
       "   enmoTrunc   enmoAbs     xMean     yMean     zMean    xRange    yRange  \\\n",
       "0   0.000645  0.003413 -0.459854 -0.523420  0.714303  0.015839  0.015632   \n",
       "1   0.001040  0.003455 -0.461786 -0.522951  0.714494  0.015839  0.031264   \n",
       "2   0.000892  0.002792 -0.461406 -0.523857  0.714557  0.015839  0.015632   \n",
       "3   0.000744  0.002928 -0.460994 -0.523420  0.714526  0.015839  0.031264   \n",
       "4   0.000636  0.002756 -0.462546 -0.521231  0.715035  0.015839  0.031264   \n",
       "\n",
       "     zRange      xStd      yStd  ...       p625  totalPower  temp  samples  \\\n",
       "0  0.031827  0.004623  0.006924  ... -17.915316  -14.848814   0.0      500   \n",
       "1  0.031827  0.006518  0.006803  ... -16.959734  -14.294128   0.0      500   \n",
       "2  0.031827  0.006239  0.007136  ... -18.161487  -15.943441   0.0      500   \n",
       "3  0.031827  0.005894  0.006994  ... -17.928012  -15.812560   0.0      500   \n",
       "4  0.031827  0.006982  0.005316  ... -18.134155  -15.430904   0.0      500   \n",
       "\n",
       "   dataErrors  clipsBeforeCalibr  clipsAfterCalibr  rawSamples  participant  \\\n",
       "0           0                  0                 0         501          1.0   \n",
       "1           0                  0                 0         502          1.0   \n",
       "2           0                  0                 0         502          1.0   \n",
       "3           0                  0                 0         502          1.0   \n",
       "4           0                  0                 0         502          1.0   \n",
       "\n",
       "   label  \n",
       "0  sleep  \n",
       "1  sleep  \n",
       "2  sleep  \n",
       "3  sleep  \n",
       "4  sleep  \n",
       "\n",
       "[5 rows x 71 columns]"
      ]
     },
     "execution_count": 12,
     "metadata": {},
     "output_type": "execute_result"
    }
   ],
   "source": [
    "df = epochs\n",
    "df.head()"
   ]
  },
  {
   "cell_type": "code",
   "execution_count": 13,
   "id": "1c630412-ad4b-4a88-abe0-eee677ed6ee1",
   "metadata": {},
   "outputs": [
    {
     "name": "stdout",
     "output_type": "stream",
     "text": [
      "1766564\n"
     ]
    }
   ],
   "source": [
    "df.rename(columns={'annotation':'label'}, inplace=True)\n",
    "print(len(df))"
   ]
  },
  {
   "cell_type": "code",
   "execution_count": 14,
   "id": "d37f111a-8cc4-44cf-b2e6-e682fd9abd2f",
   "metadata": {},
   "outputs": [
    {
     "name": "stdout",
     "output_type": "stream",
     "text": [
      "['sleep' 'light' 'sedentary' 'moderate-vigorous']\n"
     ]
    }
   ],
   "source": [
    "print(df['label'].unique())"
   ]
  },
  {
   "cell_type": "code",
   "execution_count": null,
   "id": "1050a1cd-82bd-4e49-bf1b-e2c81fa9b6b0",
   "metadata": {},
   "outputs": [],
   "source": [
    "# df = df.drop(labels=[\"time\"], axis=1)"
   ]
  },
  {
   "cell_type": "code",
   "execution_count": 15,
   "id": "115dbbc2-92a6-4209-8c4c-b8f7c7791daa",
   "metadata": {},
   "outputs": [
    {
     "name": "stdout",
     "output_type": "stream",
     "text": [
      "['sleep' 'light' 'sedentary' 'moderate-vigorous']\n"
     ]
    }
   ],
   "source": [
    "df = df.dropna(subset=[\"label\"])\n",
    "print(df['label'].unique())"
   ]
  },
  {
   "cell_type": "code",
   "execution_count": 16,
   "id": "15c42d12-7d04-43dc-9521-44d71035d866",
   "metadata": {},
   "outputs": [
    {
     "data": {
      "text/plain": [
       "1766564"
      ]
     },
     "execution_count": 16,
     "metadata": {},
     "output_type": "execute_result"
    }
   ],
   "source": [
    "# df[\"label\"] = df[\"label\"].astype('string', copy=False)\n",
    "len(df)"
   ]
  },
  {
   "cell_type": "code",
   "execution_count": 17,
   "id": "1d8e6b3b-9f8d-4545-90bd-7f45e710eabc",
   "metadata": {},
   "outputs": [],
   "source": [
    "df.to_csv(\"/home/aayush/accelerometer/compare_classification/training_data/5_sec/original_features/5s_training_original_features_all.csv\", index=False)"
   ]
  },
  {
   "cell_type": "code",
   "execution_count": 18,
   "id": "a6c87096-ceda-4f98-b04b-192a8b124037",
   "metadata": {},
   "outputs": [
    {
     "name": "stdout",
     "output_type": "stream",
     "text": [
      "583801\n",
      "['sleep' 'sedentary' 'light' 'moderate-vigorous']\n"
     ]
    }
   ],
   "source": [
    "test_participants = \"101,102,103,104,105,106,107,108,109,110,111,112,113,114,115,116,117,118,119,120,121,122,123,124,125,126,127,128,129,130,131,132,133,134,135,136,137,138,139,140,141,142,143,144,145,146,147,148,149,150,151\"\n",
    "test_participants = [float(t) for t in test_participants.split(\",\")]\n",
    "    \n",
    "test_features_df = df[df[\"participant\"].isin(test_participants)].iloc[:, :-2]\n",
    "test_labels_df = df[df[\"participant\"].isin(test_participants)][\"label\"]\n",
    "\n",
    "print(len(test_features_df))\n",
    "print(test_labels_df.unique())"
   ]
  },
  {
   "cell_type": "code",
   "execution_count": 19,
   "id": "18a8c635-3eef-4bd2-9b78-326fbc5cd19a",
   "metadata": {},
   "outputs": [
    {
     "name": "stdout",
     "output_type": "stream",
     "text": [
      "1182763\n",
      "0         sleep\n",
      "1         sleep\n",
      "2         sleep\n",
      "3         sleep\n",
      "4         sleep\n",
      "          ...  \n",
      "118769    sleep\n",
      "118770    sleep\n",
      "118771    sleep\n",
      "118772    sleep\n",
      "118773    sleep\n",
      "Name: label, Length: 1182763, dtype: object\n"
     ]
    }
   ],
   "source": [
    "train_all_df = df[~df[\"participant\"].isin(test_participants)]\n",
    "train_features_df = df[~df[\"participant\"].isin(test_participants)].iloc[:, :-2]\n",
    "train_labels_predict = df[~df[\"participant\"].isin(test_participants)][\"label\"]\n",
    "\n",
    "print(len(train_features_df))\n",
    "print(train_labels_predict)"
   ]
  },
  {
   "cell_type": "code",
   "execution_count": 20,
   "id": "73a087d5-a46a-4a7a-b371-8399e68020b0",
   "metadata": {},
   "outputs": [],
   "source": [
    "def _Model(**kwargs):\n",
    "    return BalancedRandomForestClassifier(\n",
    "        n_estimators=3000,\n",
    "        max_depth=10,\n",
    "        min_samples_leaf=1,\n",
    "        replacement=True,\n",
    "        sampling_strategy='not minority',\n",
    "        random_state=42,\n",
    "        **kwargs\n",
    "    )"
   ]
  },
  {
   "cell_type": "code",
   "execution_count": 21,
   "id": "88d57b44-78bb-4065-8938-461236c046d0",
   "metadata": {},
   "outputs": [
    {
     "name": "stdout",
     "output_type": "stream",
     "text": [
      "Training...\n"
     ]
    },
    {
     "name": "stderr",
     "output_type": "stream",
     "text": [
      "[Parallel(n_jobs=10)]: Using backend ThreadingBackend with 10 concurrent workers.\n",
      "[Parallel(n_jobs=10)]: Done  30 tasks      | elapsed:    9.6s\n",
      "[Parallel(n_jobs=10)]: Done 180 tasks      | elapsed:   47.4s\n",
      "[Parallel(n_jobs=10)]: Done 430 tasks      | elapsed:  1.8min\n",
      "[Parallel(n_jobs=10)]: Done 780 tasks      | elapsed:  3.1min\n",
      "[Parallel(n_jobs=10)]: Done 1230 tasks      | elapsed:  4.8min\n",
      "[Parallel(n_jobs=10)]: Done 1780 tasks      | elapsed:  7.0min\n",
      "[Parallel(n_jobs=10)]: Done 2430 tasks      | elapsed:  9.6min\n",
      "[Parallel(n_jobs=10)]: Done 3000 out of 3000 | elapsed: 11.8min finished\n"
     ]
    }
   ],
   "source": [
    "from imblearn.ensemble import BalancedRandomForestClassifier\n",
    "\n",
    "print('Training...')\n",
    "model = _Model(n_jobs=10, verbose=1)\n",
    "# fit the model as numpy array so that we do not get warnings during prediction\n",
    "X_features = train_features_df.to_numpy()\n",
    "X_labels = train_labels_predict.to_numpy()\n",
    "model = model.fit(X_features, X_labels)\n",
    "model.verbose = 0  # silence future calls to .predict()\n",
    "labels = model.classes_"
   ]
  },
  {
   "cell_type": "code",
   "execution_count": 22,
   "id": "b2871c93-f583-41dc-99e1-d8c9237f62ee",
   "metadata": {},
   "outputs": [
    {
     "name": "stdout",
     "output_type": "stream",
     "text": [
      "['light' 'moderate-vigorous' 'sedentary' 'sleep']\n",
      "1182763\n",
      "1182763\n"
     ]
    }
   ],
   "source": [
    "print(labels)\n",
    "pid = df[~df[\"participant\"].isin(test_participants)][\"participant\"].to_numpy()\n",
    "print(len(pid))\n",
    "print(len(train_labels_predict))"
   ]
  },
  {
   "cell_type": "code",
   "execution_count": 23,
   "id": "d4bbd643-5918-43e2-ad80-55f5c1abd0f2",
   "metadata": {},
   "outputs": [],
   "source": [
    "def saveToTar(tarOut, **kwargs):\n",
    "    \"\"\"Save objects to tar file. Objects must be passed as keyworded arguments,\n",
    "    then the key is used for the object name in the tar file.\n",
    "\n",
    "    :param **kwargs: Objects to be saved passed as keyworded arguments.\n",
    "\n",
    "    :return: tar file written to <tarOut>\n",
    "    :rtype: void\n",
    "    \"\"\"\n",
    "\n",
    "    try:\n",
    "\n",
    "        tmpdir = tempfile.mkdtemp()\n",
    "\n",
    "        with tarfile.open(tarOut, mode='w') as tf:\n",
    "\n",
    "            for key, val in kwargs.items():\n",
    "                pth = os.path.join(tmpdir, key)\n",
    "                joblib.dump(val, pth, compress=True)\n",
    "                tf.add(pth, arcname=key)\n",
    "\n",
    "        print('Models saved to', tarOut)\n",
    "\n",
    "    finally:\n",
    "\n",
    "        try:\n",
    "            shutil.rmtree(tmpdir)\n",
    "        except OSError as e:\n",
    "            print(\"Error: %s - %s.\" % (e.filename, e.strerror))\n",
    "\n",
    "\n",
    "def getFileFromTar(tarArchive, targetFile):\n",
    "    \"\"\"Read file from tar\n",
    "\n",
    "    This is currently more tricky than it should be see\n",
    "    https://github.com/numpy/numpy/issues/7989\n",
    "\n",
    "    :param str tarArchive: Input tarfile object\n",
    "    :param str targetFile: Target individual file within .tar\n",
    "\n",
    "    :return: file object byte stream\n",
    "    :rtype: object\n",
    "    \"\"\"\n",
    "\n",
    "    with tarfile.open(tarArchive, 'r') as t:\n",
    "        b = BytesIO()\n",
    "        try:\n",
    "            b.write(t.extractfile(targetFile).read())\n",
    "        except KeyError:\n",
    "            return None\n",
    "        b.seek(0)\n",
    "\n",
    "    return b\n",
    "\n",
    "\n",
    "def trainHMM(Y_prob, Y_true, labels=None, uniform_prior=True):\n",
    "    \"\"\" https://en.wikipedia.org/wiki/Hidden_Markov_model\n",
    "\n",
    "    :return: Dictionary containing prior, emission and transition\n",
    "        matrices, and corresponding labels.\n",
    "    :rtype: dict\n",
    "\n",
    "    \"\"\"\n",
    "\n",
    "    if labels is None:\n",
    "        labels = np.unique(Y_true)\n",
    "\n",
    "    if uniform_prior:\n",
    "        # All labels with equal probability\n",
    "        prior = np.ones(len(labels)) / len(labels)\n",
    "    else:\n",
    "        # Label probability equals empirical rate\n",
    "        prior = np.mean(Y_true.reshape(-1, 1) == labels, axis=0)\n",
    "\n",
    "    emission = np.vstack(\n",
    "        [np.mean(Y_prob[Y_true == label], axis=0) for label in labels]\n",
    "    )\n",
    "    transition = np.vstack(\n",
    "        [np.mean(Y_true[1:][(Y_true == label)[:-1]].reshape(-1, 1) == labels, axis=0)\n",
    "            for label in labels]\n",
    "    )\n",
    "\n",
    "    params = {'prior': prior, 'emission': emission, 'transition': transition, 'labels': labels}\n",
    "\n",
    "    return params"
   ]
  },
  {
   "cell_type": "code",
   "execution_count": 24,
   "id": "3b97bf4c-9a3b-474f-a55e-43e9b8cf6f53",
   "metadata": {},
   "outputs": [
    {
     "name": "stdout",
     "output_type": "stream",
     "text": [
      "Cross-predicting to derive the observations for HMM...\n"
     ]
    },
    {
     "name": "stderr",
     "output_type": "stream",
     "text": [
      "[Parallel(n_jobs=5)]: Using backend LokyBackend with 5 concurrent workers.\n",
      "[Parallel(n_jobs=5)]: Done   5 out of  10 | elapsed: 33.3min remaining: 33.3min\n",
      "[Parallel(n_jobs=5)]: Done  10 out of  10 | elapsed: 66.8min finished\n"
     ]
    }
   ],
   "source": [
    "from sklearn.model_selection import cross_val_predict, cross_val_score\n",
    "import numpy as np\n",
    "\n",
    "print('Cross-predicting to derive the observations for HMM...')\n",
    "\n",
    "NJOBS_PER_CV_MODEL = min(2, 10)\n",
    "cvp = cross_val_predict(\n",
    "    _Model(n_jobs=NJOBS_PER_CV_MODEL), X_features, X_labels, groups=pid,\n",
    "    cv=10,\n",
    "    n_jobs=10 // NJOBS_PER_CV_MODEL,\n",
    "    method=\"predict_proba\",\n",
    "    verbose=3,\n",
    ")"
   ]
  },
  {
   "cell_type": "code",
   "execution_count": 25,
   "id": "5a9580ae-7fc6-4e32-a823-c1148e0bce75",
   "metadata": {},
   "outputs": [
    {
     "data": {
      "text/plain": [
       "array(['light', 'moderate-vigorous', 'sedentary', 'sleep'], dtype=object)"
      ]
     },
     "execution_count": 25,
     "metadata": {},
     "output_type": "execute_result"
    }
   ],
   "source": [
    "labels"
   ]
  },
  {
   "cell_type": "code",
   "execution_count": 26,
   "id": "4c601f0f-4620-48c8-a199-5cbcb8dee04b",
   "metadata": {},
   "outputs": [
    {
     "name": "stdout",
     "output_type": "stream",
     "text": [
      "Training HMM...\n"
     ]
    }
   ],
   "source": [
    "print('Training HMM...')\n",
    "# train_labels_predict_array = np.array(train_labels_predict)\n",
    "# hmmParams = trainHMM(cvp,  train_labels_predict_array)\n",
    "\n",
    "hmmParams = trainHMM(cvp,  X_labels)"
   ]
  },
  {
   "cell_type": "code",
   "execution_count": 27,
   "id": "032fcb6d-744c-48f2-a742-66dc7c4c454c",
   "metadata": {},
   "outputs": [
    {
     "data": {
      "text/plain": [
       "{'prior': array([0.25, 0.25, 0.25, 0.25]),\n",
       " 'emission': array([[0.33591968, 0.28668   , 0.29047209, 0.08692823],\n",
       "        [0.30827429, 0.358804  , 0.261873  , 0.07104872],\n",
       "        [0.28982134, 0.24954853, 0.3430877 , 0.11754243],\n",
       "        [0.08788251, 0.06791808, 0.12158693, 0.72261248]]),\n",
       " 'transition': array([[9.91444636e-01, 1.54675846e-03, 6.78829604e-03, 2.20309811e-04],\n",
       "        [6.27018452e-03, 9.92577764e-01, 1.07650758e-03, 7.55443918e-05],\n",
       "        [2.89921932e-03, 1.03401512e-04, 9.96901932e-01, 9.54475496e-05],\n",
       "        [1.80909633e-04, 9.77889909e-06, 5.37839450e-05, 9.99755528e-01]]),\n",
       " 'labels': array(['light', 'moderate-vigorous', 'sedentary', 'sleep'], dtype=object)}"
      ]
     },
     "execution_count": 27,
     "metadata": {},
     "output_type": "execute_result"
    }
   ],
   "source": [
    "hmmParams"
   ]
  },
  {
   "cell_type": "code",
   "execution_count": 28,
   "id": "95aa86d6-1861-4ba8-affa-7b4c65aee5c2",
   "metadata": {},
   "outputs": [
    {
     "data": {
      "text/plain": [
       "{'light': 2.270833333333333,\n",
       " 'moderate-vigorous': 4.682608695652173,\n",
       " 'sedentary': 1.5634920634920637,\n",
       " 'sleep': 0.9499999999999998}"
      ]
     },
     "execution_count": 28,
     "metadata": {},
     "output_type": "execute_result"
    }
   ],
   "source": [
    "# METs = {y: train_all_df[train_all_df[\"label\"] == y].groupby(\"label\")[\"MET\"].mean().mean() \n",
    "#     for y in model.classes_}\n",
    "METs = {'light': 2.270833333333333,\n",
    " 'moderate-vigorous': 4.682608695652173,\n",
    " 'sedentary': 1.5634920634920637,\n",
    " 'sleep': 0.9499999999999998}\n",
    "METs"
   ]
  },
  {
   "cell_type": "code",
   "execution_count": 29,
   "id": "c21fc588-9178-4c90-ac79-755710da3db0",
   "metadata": {},
   "outputs": [
    {
     "name": "stdout",
     "output_type": "stream",
     "text": [
      "Models saved to /home/aayush/accelerometer/compare_classification/accProcess_output/5_sec/original_features/model_used/5s_without_extra_model.tar\n",
      "Output trained model written to: /home/aayush/accelerometer/compare_classification/accProcess_output/5_sec/original_features/model_used/5s_without_extra_model.tar\n"
     ]
    }
   ],
   "source": [
    "import os\n",
    "import tempfile\n",
    "import shutil\n",
    "import joblib\n",
    "import tarfile\n",
    "\n",
    "featureCols = np.array(train_features_df.columns)\n",
    "# Write model to file\n",
    "outFile = os.path.join(\"/home/aayush/accelerometer/compare_classification/accProcess_output/5_sec/original_features/model_used\", '5s_without_extra_model.tar')\n",
    "saveToTar(outFile,\n",
    "          model=model,\n",
    "          labels=labels,\n",
    "          featureCols=featureCols,\n",
    "          hmmParams=hmmParams,\n",
    "          METs=METs)\n",
    "print(f'Output trained model written to: {outFile}')"
   ]
  },
  {
   "cell_type": "code",
   "execution_count": 30,
   "id": "8995be60-3bec-4094-822d-e666732d780f",
   "metadata": {},
   "outputs": [
    {
     "name": "stdout",
     "output_type": "stream",
     "text": [
      "max          0.079299\n",
      "xRange       0.074254\n",
      "sd           0.068114\n",
      "75thp        0.061402\n",
      "zRange       0.051310\n",
      "xStd         0.050279\n",
      "mean         0.047256\n",
      "zStd         0.038432\n",
      "fft3         0.035838\n",
      "xMean        0.029427\n",
      "yRange       0.027779\n",
      "fft1         0.027379\n",
      "fft2         0.026150\n",
      "fft4         0.020270\n",
      "pmax         0.019904\n",
      "median       0.019336\n",
      "enmoAbs      0.018958\n",
      "MAD          0.017909\n",
      "yawg         0.017906\n",
      "fft5         0.016953\n",
      "enmoTrunc    0.015377\n",
      "MPD          0.014529\n",
      "yMean        0.013758\n",
      "pitchg       0.013085\n",
      "fft8         0.012896\n",
      "yStd         0.012630\n",
      "fft6         0.010826\n",
      "p1           0.010187\n",
      "entropy      0.009841\n",
      "fft7         0.009762\n",
      "dtype: float64\n"
     ]
    }
   ],
   "source": [
    "# Display feature importances\n",
    "feature_importances = pd.Series(model.feature_importances_, index=df.columns[:-2])\n",
    "print(feature_importances.nlargest(30))  # Show the top 30 features"
   ]
  },
  {
   "cell_type": "code",
   "execution_count": 31,
   "id": "09c382ec-c3e6-4413-849c-c471a950a39a",
   "metadata": {},
   "outputs": [
    {
     "name": "stderr",
     "output_type": "stream",
     "text": [
      "/home/aayush/people_mobility_origin_dest/.accelerometer-original/lib/python3.10/site-packages/sklearn/base.py:443: UserWarning: X has feature names, but BalancedRandomForestClassifier was fitted without feature names\n",
      "  warnings.warn(\n"
     ]
    },
    {
     "name": "stdout",
     "output_type": "stream",
     "text": [
      "                   precision    recall  f1-score   support\n",
      "\n",
      "            light       0.43      0.34      0.38    124699\n",
      "moderate-vigorous       0.17      0.42      0.24     36007\n",
      "        sedentary       0.67      0.51      0.58    226843\n",
      "            sleep       0.83      0.93      0.88    196252\n",
      "\n",
      "         accuracy                           0.61    583801\n",
      "        macro avg       0.52      0.55      0.52    583801\n",
      "     weighted avg       0.64      0.61      0.62    583801\n",
      "\n",
      "Score: 0.52\n"
     ]
    }
   ],
   "source": [
    "import sklearn.metrics as metrics\n",
    "\n",
    "# test the performance\n",
    "Y_labels_test_pred = model.predict(test_features_df)\n",
    "print(metrics.classification_report(test_labels_df, Y_labels_test_pred))\n",
    "testScore = metrics.f1_score(test_labels_df, Y_labels_test_pred, average='macro', zero_division=0)\n",
    "print(f'Score: {testScore:.2f}')"
   ]
  },
  {
   "cell_type": "code",
   "execution_count": 32,
   "id": "e1f50971-8d52-44f4-bcae-2ef53af914cd",
   "metadata": {},
   "outputs": [],
   "source": [
    "def viterbi(Y_obs, hmm_params):\n",
    "    \"\"\" Perform HMM smoothing over observations via Viteri algorithm\n",
    "\n",
    "    https://en.wikipedia.org/wiki/Viterbi_algorithm\n",
    "\n",
    "    :param dict hmm_params: Dictionary containing prior, emission and transition\n",
    "        matrices, and corresponding labels\n",
    "\n",
    "    :return: Smoothed sequence of activities\n",
    "    :rtype: numpy.array\n",
    "    \"\"\"\n",
    "\n",
    "    def log(x):\n",
    "        SMALL_NUMBER = 1e-16\n",
    "        return np.log(x + SMALL_NUMBER)\n",
    "\n",
    "    prior = hmm_params['prior']\n",
    "    emission = hmm_params['emission']\n",
    "    transition = hmm_params['transition']\n",
    "    labels = hmm_params['labels']\n",
    "\n",
    "    nobs = len(Y_obs)\n",
    "    nlabels = len(labels)\n",
    "\n",
    "    Y_obs = np.where(Y_obs.reshape(-1, 1) == labels)[1]  # to numeric\n",
    "\n",
    "    probs = np.zeros((nobs, nlabels))\n",
    "    probs[0, :] = log(prior) + log(emission[:, Y_obs[0]])\n",
    "    for j in range(1, nobs):\n",
    "        for i in range(nlabels):\n",
    "            probs[j, i] = np.max(\n",
    "                log(emission[i, Y_obs[j]]) +\n",
    "                log(transition[:, i]) +\n",
    "                probs[j - 1, :])  # probs already in log scale\n",
    "    viterbi_path = np.zeros_like(Y_obs)\n",
    "    viterbi_path[-1] = np.argmax(probs[-1, :])\n",
    "    for j in reversed(range(nobs - 1)):\n",
    "        viterbi_path[j] = np.argmax(\n",
    "            log(transition[:, viterbi_path[j + 1]]) +\n",
    "            probs[j, :])  # probs already in log scale\n",
    "\n",
    "    viterbi_path = labels[viterbi_path]  # to labels\n",
    "\n",
    "    return viterbi_path"
   ]
  },
  {
   "cell_type": "code",
   "execution_count": 33,
   "id": "f0a4ab6f-4cac-4df9-bfdb-84afcc1b9754",
   "metadata": {},
   "outputs": [
    {
     "name": "stdout",
     "output_type": "stream",
     "text": [
      "\n",
      "Test performance (HMM):\n",
      "                   precision    recall  f1-score   support\n",
      "\n",
      "            light       0.51      0.35      0.42    124699\n",
      "moderate-vigorous       0.18      0.48      0.27     36007\n",
      "        sedentary       0.74      0.59      0.65    226843\n",
      "            sleep       0.86      0.98      0.92    196252\n",
      "\n",
      "         accuracy                           0.66    583801\n",
      "        macro avg       0.57      0.60      0.56    583801\n",
      "     weighted avg       0.70      0.66      0.67    583801\n",
      "\n",
      "Score: 0.56\n"
     ]
    }
   ],
   "source": [
    "YpredHmm = viterbi(Y_labels_test_pred, hmmParams)\n",
    "\n",
    "print('\\nTest performance (HMM):')\n",
    "print(metrics.classification_report(test_labels_df, YpredHmm))\n",
    "testHmmScore = metrics.f1_score(test_labels_df, YpredHmm, average='macro', zero_division=0)\n",
    "print(f'Score: {testHmmScore:.2f}')"
   ]
  },
  {
   "cell_type": "code",
   "execution_count": null,
   "id": "8a98d5ed-f517-4e6e-9d9b-ce9c0110aa16",
   "metadata": {},
   "outputs": [],
   "source": []
  }
 ],
 "metadata": {
  "kernelspec": {
   "display_name": ".accelerometer-original",
   "language": "python",
   "name": "python3"
  },
  "language_info": {
   "codemirror_mode": {
    "name": "ipython",
    "version": 3
   },
   "file_extension": ".py",
   "mimetype": "text/x-python",
   "name": "python",
   "nbconvert_exporter": "python",
   "pygments_lexer": "ipython3",
   "version": "3.10.12"
  }
 },
 "nbformat": 4,
 "nbformat_minor": 5
}
