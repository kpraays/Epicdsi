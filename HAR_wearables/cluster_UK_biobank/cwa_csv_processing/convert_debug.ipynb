{
 "cells": [
  {
   "cell_type": "code",
   "execution_count": 1,
   "metadata": {},
   "outputs": [],
   "source": [
    "# coding=utf-8\n",
    "\n",
    "'''\n",
    "Script with article: \n",
    "Converting raw accelerometer data to activity counts \n",
    "using open source code in Matlab, Python, and R ? a comparison to ActiLife activity counts\n",
    "Corresponding author Ruben Brondeel (ruben.brondeel@umontreal.ca)\n",
    "\n",
    "This script calculates the Python version of activity counts, \n",
    "The functions are a translation of the Matlab function presented in \n",
    "Br?nd JC, Andersen LB, Arvidsson D. Generating ActiGraph Counts from \n",
    "Raw Acceleration Recorded by an Alternative Monitor. Med Sci Sports Exerc. 2017.\n",
    "\n",
    "Python (3.6); run in Eclipse (Oxygen.3a Release (4.7.3a))\n",
    "\n",
    "'''\n",
    "\n",
    "# read in libraries needed for the functions\n",
    "import math, os\n",
    "import numpy as np\n",
    "from scipy import signal\n",
    "import pandas as pd\n",
    "import resampy\n",
    "\n",
    "##predefined filter coefficients, as found by Jan Brond\n",
    "A_coeff = np.array(\n",
    "    [1, -4.1637, 7.5712,-7.9805, 5.385, -2.4636, 0.89238, 0.06361, -1.3481, 2.4734, -2.9257, 2.9298, -2.7816, 2.4777,\n",
    "     -1.6847, 0.46483, 0.46565, -0.67312, 0.4162, -0.13832, 0.019852])\n",
    "B_coeff = np.array(\n",
    "    [0.049109, -0.12284, 0.14356, -0.11269, 0.053804, -0.02023, 0.0063778, 0.018513, -0.038154, 0.048727, -0.052577,\n",
    "     0.047847, -0.046015, 0.036283, -0.012977, -0.0046262, 0.012835, -0.0093762, 0.0034485, -0.00080972, -0.00019623])\n",
    "\n"
   ]
  },
  {
   "cell_type": "code",
   "execution_count": 2,
   "metadata": {},
   "outputs": [],
   "source": [
    "def pptrunc(data, max_value):\n",
    "    '''\n",
    "    Saturate a vector such that no element's absolute value exceeds max_abs_value.\n",
    "    Current name: absolute_saturate().\n",
    "      :param data: a vector of any dimension containing numerical data\n",
    "      :param max_value: a float value of the absolute value to not exceed\n",
    "      :return: the saturated vector\n",
    "    '''\n",
    "    outd = np.where(data > max_value, max_value, data)\n",
    "    return np.where(outd < -max_value, -max_value, outd)\n",
    "\n",
    "def trunc(data, min_value):\n",
    "  \n",
    "    '''\n",
    "    Truncate a vector such that any value lower than min_value is set to 0.\n",
    "    Current name zero_truncate().\n",
    "    :param data: a vector of any dimension containing numerical data\n",
    "    :param min_value: a float value the elements of data should not fall below\n",
    "    :return: the truncated vector\n",
    "    '''\n",
    "\n",
    "    return np.where(data < min_value, 0, data)\n",
    "\n",
    "def runsum(data, length, threshold):\n",
    "    '''\n",
    "    Compute the running sum of values in a vector exceeding some threshold within a range of indices.\n",
    "    Divides the data into len(data)/length chunks and sums the values in excess of the threshold for each chunk.\n",
    "    Current name run_sum().\n",
    "    :param data: a 1D numerical vector to calculate the sum of\n",
    "    :param len: the length of each chunk to compute a sum along, as a positive integer\n",
    "    :param threshold: a numerical value used to find values exceeding some threshold\n",
    "    :return: a vector of length len(data)/length containing the excess value sum for each chunk of data\n",
    "    '''\n",
    "    \n",
    "    N = len(data)\n",
    "    cnt = int(math.ceil(N/length))\n",
    "\n",
    "    rs = np.zeros(cnt)\n",
    "\n",
    "    for n in range(cnt):\n",
    "        for p in range(length*n, length*(n+1)):\n",
    "            if p<N and data[p]>=threshold:\n",
    "                rs[n] = rs[n] + data[p] - threshold\n",
    "\n",
    "    return rs\n"
   ]
  },
  {
   "cell_type": "code",
   "execution_count": 3,
   "metadata": {},
   "outputs": [],
   "source": [
    "    \n",
    "def counts(data, filesf, B=B_coeff, A=A_coeff):\n",
    "    '''\n",
    "    Get activity counts for a set of accelerometer observations.\n",
    "    First resamples the data frequency to 30Hz, then applies a Butterworth filter to the signal, then filters by the\n",
    "    coefficient matrices, saturates and truncates the result, and applies a running sum to get the final counts.\n",
    "    Current name get_actigraph_counts()\n",
    "    :param data: the vertical axis of accelerometer readings, as a vector\n",
    "    :param filesf: the number of observations per second in the file\n",
    "    :param a: coefficient matrix for filtering the signal, as found by Jan Brond\n",
    "    :param b: coefficient matrix for filtering the signal, as found by Jan Brond\n",
    "    :return: a vector containing the final counts\n",
    "    '''\n",
    "    \n",
    "    deadband = 0.068\n",
    "    sf = 30\n",
    "    peakThreshold = 2.13\n",
    "    adcResolution = 0.0164\n",
    "    integN = 10\n",
    "    gain = 0.965\n",
    "\n",
    "    if filesf>sf:\n",
    "        data = resampy.resample(np.asarray(data), filesf, sf)\n",
    "\n",
    "    B2, A2 = signal.butter(4, np.array([0.01, 7])/(sf/2), btype='bandpass')\n",
    "    dataf = signal.filtfilt(B2, A2, data)\n",
    "\n",
    "    B = B * gain\n",
    "\n",
    "    #NB: no need for a loop here as we only have one axis in array\n",
    "    fx8up = signal.lfilter(B, A, dataf)\n",
    "\n",
    "    fx8 = pptrunc(fx8up[::3], peakThreshold) #downsampling is replaced by slicing with step parameter\n",
    "\n",
    "    return runsum(np.floor(trunc(np.abs(fx8), deadband)/adcResolution), integN, 0)\n"
   ]
  },
  {
   "cell_type": "code",
   "execution_count": 5,
   "metadata": {},
   "outputs": [],
   "source": [
    "dt = pd.read_table(\"/home/aayush/accelerometer/cwa-csv/raw_accelerometer_data/3227093_90001_0_0.cwa.csv\", delimiter=',', header=None)\n",
    "data = dt[1]\n",
    "filesf=100\n",
    "B=B_coeff\n",
    "A=A_coeff\n",
    "\n",
    "deadband = 0.068\n",
    "sf = 30\n",
    "peakThreshold = 2.13\n",
    "adcResolution = 0.0164\n",
    "integN = 10\n",
    "gain = 0.965\n",
    "\n",
    "if filesf>sf:\n",
    "    data = resampy.resample(np.asarray(data), filesf, sf)\n",
    "\n",
    "B2, A2 = signal.butter(4, np.array([0.01, 7])/(sf/2), btype='bandpass')\n",
    "dataf = signal.filtfilt(B2, A2, data)\n",
    "\n",
    "B = B * gain"
   ]
  },
  {
   "cell_type": "code",
   "execution_count": 6,
   "metadata": {},
   "outputs": [],
   "source": [
    "#NB: no need for a loop here as we only have one axis in array\n",
    "fx8up = signal.lfilter(B, A, dataf)\n"
   ]
  },
  {
   "cell_type": "code",
   "execution_count": 7,
   "metadata": {},
   "outputs": [
    {
     "data": {
      "text/plain": [
       "18549828"
      ]
     },
     "execution_count": 7,
     "metadata": {},
     "output_type": "execute_result"
    }
   ],
   "source": [
    "len(fx8up)"
   ]
  },
  {
   "cell_type": "code",
   "execution_count": 8,
   "metadata": {},
   "outputs": [],
   "source": [
    "\n",
    "fx8 = pptrunc(fx8up[::3], peakThreshold) #downsampling is replaced by slicing with step parameter\n",
    "\n"
   ]
  },
  {
   "cell_type": "code",
   "execution_count": 9,
   "metadata": {},
   "outputs": [
    {
     "data": {
      "text/plain": [
       "6183276"
      ]
     },
     "execution_count": 9,
     "metadata": {},
     "output_type": "execute_result"
    }
   ],
   "source": [
    "len(fx8)"
   ]
  },
  {
   "cell_type": "code",
   "execution_count": 10,
   "metadata": {},
   "outputs": [],
   "source": [
    "output = runsum(np.floor(trunc(np.abs(fx8), deadband)/adcResolution), integN, 0)"
   ]
  },
  {
   "cell_type": "code",
   "execution_count": 11,
   "metadata": {},
   "outputs": [
    {
     "data": {
      "text/plain": [
       "618328"
      ]
     },
     "execution_count": 11,
     "metadata": {},
     "output_type": "execute_result"
    }
   ],
   "source": [
    "len(output)"
   ]
  },
  {
   "cell_type": "code",
   "execution_count": null,
   "metadata": {},
   "outputs": [],
   "source": [
    "def main(file, folderInn, folderOut, filesf):\n",
    "    \n",
    "    '''\n",
    "    Creates activity counts per second from raw acceleromter data (g-units) \n",
    "    This function:\n",
    "      - reads in data into a pandas dataFrame\n",
    "      - Calculates activity counts per axis\n",
    "      - combines the axis in a pandas dataFrame\n",
    "    :param file: file name of both input and output file\n",
    "    :param folderInn: directory with input files, containing raw accelerometer data\n",
    "    :param folderOut: directory with out files, containing activity counts.\n",
    "    :param filesf: sampling frequency of raw accelerometer data\n",
    "    :return: none (writes .csv file instead)\n",
    "    '''\n",
    "    \n",
    "    # read raw accelerometer data\n",
    "    fileInn = folderInn + file\n",
    "    dt = pd.read_table(fileInn, delimiter=',', header=None)\n",
    "    \n",
    "    # calculate counts per axis\n",
    "    c1_1s = counts(dt[1], filesf)\n",
    "    c2_1s = counts(dt[2], filesf)\n",
    "    c3_1s = counts(dt[3], filesf)\n",
    "    \n",
    "    # c1_1s = count_by_average(dt[1], filesf)\n",
    "    # c2_1s = count_by_average(dt[2], filesf)\n",
    "    # c3_1s = count_by_average(dt[3], filesf)\n",
    "    \n",
    "    # combine counts in pandas dataFrame\n",
    "    c_1s = pd.DataFrame(data = {'axis1' : c1_1s, 'axis2' : c2_1s, 'axis3' : c3_1s})\n",
    "    # c_1s = c_1s.astype(int)\n",
    "\n",
    "    # write to output folder\n",
    "    fileOut = folderOut + file\n",
    "    c_1s.to_csv(fileOut, sep=',', index = False) \n",
    "    \n",
    "\n",
    "#-------------------------------------------------------------------------------\n",
    "# Execute in loop\n",
    "#-------------------------------------------------------------------------------\n",
    "\n",
    "path = '/home/aayush/accelerometer/cwa-csv/'\n",
    "folderInn = path + \"raw_accelerometer_data/\"\n",
    "folderOut = path + \"count_sec_python/30hz\" \n",
    "files = os.listdir(folderInn)\n",
    "filesf = 100\n",
    "\n",
    "# Loop over .csv files\n",
    "[main(file, folderInn, folderOut, filesf) for file in files]"
   ]
  }
 ],
 "metadata": {
  "kernelspec": {
   "display_name": ".cwacsv",
   "language": "python",
   "name": "python3"
  },
  "language_info": {
   "codemirror_mode": {
    "name": "ipython",
    "version": 3
   },
   "file_extension": ".py",
   "mimetype": "text/x-python",
   "name": "python",
   "nbconvert_exporter": "python",
   "pygments_lexer": "ipython3",
   "version": "3.10.12"
  }
 },
 "nbformat": 4,
 "nbformat_minor": 2
}
