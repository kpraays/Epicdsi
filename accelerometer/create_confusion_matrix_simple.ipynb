{
 "cells": [
  {
   "cell_type": "code",
   "execution_count": 33,
   "id": "7efccc22-b68b-4a60-bfca-07d887cfeba9",
   "metadata": {},
   "outputs": [],
   "source": [
    "import pandas as pd\n",
    "df = pd.read_csv(\"/home/aayush/accelerometer/accprocess/results/P037-timeSeries.csv.gz\")\n"
   ]
  },
  {
   "cell_type": "code",
   "execution_count": 34,
   "id": "cbba5079-660b-403f-b91d-c9eb0987a5e0",
   "metadata": {},
   "outputs": [
    {
     "name": "stdout",
     "output_type": "stream",
     "text": [
      "3300\n",
      "0       sleep\n",
      "1       sleep\n",
      "2       sleep\n",
      "3       sleep\n",
      "4       sleep\n",
      "        ...  \n",
      "3295    sleep\n",
      "3296    sleep\n",
      "3297    sleep\n",
      "3298    sleep\n",
      "3299    sleep\n",
      "Name: activity_predicted, Length: 3174, dtype: object\n"
     ]
    },
    {
     "name": "stderr",
     "output_type": "stream",
     "text": [
      "/tmp/ipykernel_313419/2807184091.py:2: FutureWarning: The behavior of DataFrame.idxmax with all-NA values, or any-NA and skipna=False, is deprecated. In a future version this will raise ValueError\n",
      "  out = activities[activities==1].idxmax(axis=1)\n"
     ]
    }
   ],
   "source": [
    "activities = df[df.columns.values.tolist()[2:6]]\n",
    "out = activities[activities==1].idxmax(axis=1)\n",
    "df[\"activity_predicted\"] = out\n",
    "df_cleaned = df.dropna(subset=[\"activity_predicted\"])\n",
    "print(len(df))\n",
    "print(df_cleaned[\"activity_predicted\"])"
   ]
  },
  {
   "cell_type": "code",
   "execution_count": 35,
   "id": "ea731927-83a6-4b60-b748-0e095398c71f",
   "metadata": {},
   "outputs": [],
   "source": [
    "import csv\n",
    "labels_dict = {}\n",
    "with open(\"/home/aayush/accelerometer/accprocess/anno-label.csv\", \"r\") as annotation_dict:\n",
    "    reader = csv.DictReader(annotation_dict)\n",
    "    for row in reader:\n",
    "        if labels_dict.get(row['annotation']) is None:\n",
    "            labels_dict[row['annotation']] = [row['label:Walmsley2020']]\n",
    "        else:\n",
    "            labels_dict[row['annotation']].append(row['label:Walmsley2020'])"
   ]
  },
  {
   "cell_type": "code",
   "execution_count": 36,
   "id": "1c47e0e0-29e6-4b5b-a2e9-cad210ad4ea6",
   "metadata": {},
   "outputs": [
    {
     "name": "stderr",
     "output_type": "stream",
     "text": [
      "/tmp/ipykernel_313419/1794720818.py:1: DtypeWarning: Columns (4) have mixed types. Specify dtype option on import or set low_memory=False.\n",
      "  annotated_data = pd.read_csv(\"/home/yacine/accel/capture24/participants/P037.csv\")\n"
     ]
    }
   ],
   "source": [
    "annotated_data = pd.read_csv(\"/home/yacine/accel/capture24/participants/P037.csv\")\n",
    "actual_labels = annotated_data[[\"annotation\", \"time\"]][0::3000]"
   ]
  },
  {
   "cell_type": "code",
   "execution_count": 37,
   "id": "ddc0440c-756d-485b-b934-08b268ae1286",
   "metadata": {},
   "outputs": [
    {
     "name": "stdout",
     "output_type": "stream",
     "text": [
      "                     annotation                        time\n",
      "0        7030 sleeping;MET 0.95  2016-10-29 23:28:00.000000\n",
      "3000     7030 sleeping;MET 0.95  2016-10-29 23:28:30.000000\n",
      "6000     7030 sleeping;MET 0.95  2016-10-29 23:29:00.000000\n",
      "9000     7030 sleeping;MET 0.95  2016-10-29 23:29:30.000000\n",
      "12000    7030 sleeping;MET 0.95  2016-10-29 23:30:00.000000\n",
      "...                         ...                         ...\n",
      "9888000  7030 sleeping;MET 0.95  2016-10-31 02:56:00.000000\n",
      "9891000  7030 sleeping;MET 0.95  2016-10-31 02:56:30.000000\n",
      "9894000  7030 sleeping;MET 0.95  2016-10-31 02:57:00.000000\n",
      "9897000  7030 sleeping;MET 0.95  2016-10-31 02:57:30.000000\n",
      "9900000  7030 sleeping;MET 0.95  2016-10-31 02:58:00.000000\n",
      "\n",
      "[3301 rows x 2 columns]\n",
      "                     annotation                        time\n",
      "0        7030 sleeping;MET 0.95  2016-10-29 23:28:00.000000\n",
      "3000     7030 sleeping;MET 0.95  2016-10-29 23:28:30.000000\n",
      "6000     7030 sleeping;MET 0.95  2016-10-29 23:29:00.000000\n",
      "9000     7030 sleeping;MET 0.95  2016-10-29 23:29:30.000000\n",
      "12000    7030 sleeping;MET 0.95  2016-10-29 23:30:00.000000\n",
      "...                         ...                         ...\n",
      "9888000  7030 sleeping;MET 0.95  2016-10-31 02:56:00.000000\n",
      "9891000  7030 sleeping;MET 0.95  2016-10-31 02:56:30.000000\n",
      "9894000  7030 sleeping;MET 0.95  2016-10-31 02:57:00.000000\n",
      "9897000  7030 sleeping;MET 0.95  2016-10-31 02:57:30.000000\n",
      "9900000  7030 sleeping;MET 0.95  2016-10-31 02:58:00.000000\n",
      "\n",
      "[2085 rows x 2 columns]\n"
     ]
    }
   ],
   "source": [
    "print(actual_labels)\n",
    "actual_labels.dropna(subset=[\"annotation\"], inplace=True)\n",
    "print(actual_labels)"
   ]
  },
  {
   "cell_type": "code",
   "execution_count": 38,
   "id": "fc0eedf6-4918-4fbd-aa45-ba7688ce5484",
   "metadata": {},
   "outputs": [],
   "source": [
    "def parse_datetime(dt_string):\n",
    "    clean_datetime_str = dt_string.split('[')[0].strip()\n",
    "    dt_object = pd.to_datetime(clean_datetime_str)\n",
    "    return dt_object\n",
    "\n",
    "def parse_datetime_df_time(dt_string):\n",
    "    clean_datetime_str = dt_string.split('[')[0].strip()\n",
    "    clean_datetime_str = clean_datetime_str.split('+')[0].strip()\n",
    "    dt_object = pd.to_datetime(clean_datetime_str)\n",
    "    return dt_object"
   ]
  },
  {
   "cell_type": "code",
   "execution_count": 39,
   "id": "51b5fedd-f6b4-4f9d-a9fd-0ee60ad2aeed",
   "metadata": {},
   "outputs": [],
   "source": [
    "df_cleaned_time = df_cleaned['time'].apply(parse_datetime_df_time)\n",
    "actual_time = actual_labels[\"time\"].apply(parse_datetime)\n",
    "actual_labels[\"time\"] = actual_time"
   ]
  },
  {
   "cell_type": "code",
   "execution_count": 40,
   "id": "f29dd18e-396c-4ba9-94bb-89e0aef25d7b",
   "metadata": {},
   "outputs": [
    {
     "name": "stdout",
     "output_type": "stream",
     "text": [
      "0      2016-10-30 00:28:00\n",
      "1      2016-10-30 00:28:30\n",
      "2      2016-10-30 00:29:00\n",
      "3      2016-10-30 00:29:30\n",
      "4      2016-10-30 00:30:00\n",
      "               ...        \n",
      "3295   2016-10-31 02:55:30\n",
      "3296   2016-10-31 02:56:00\n",
      "3297   2016-10-31 02:56:30\n",
      "3298   2016-10-31 02:57:00\n",
      "3299   2016-10-31 02:57:30\n",
      "Name: time, Length: 3174, dtype: datetime64[ns]\n",
      "0         2016-10-29 23:28:00\n",
      "3000      2016-10-29 23:28:30\n",
      "6000      2016-10-29 23:29:00\n",
      "9000      2016-10-29 23:29:30\n",
      "12000     2016-10-29 23:30:00\n",
      "                  ...        \n",
      "9888000   2016-10-31 02:56:00\n",
      "9891000   2016-10-31 02:56:30\n",
      "9894000   2016-10-31 02:57:00\n",
      "9897000   2016-10-31 02:57:30\n",
      "9900000   2016-10-31 02:58:00\n",
      "Name: time, Length: 2085, dtype: datetime64[ns]\n"
     ]
    }
   ],
   "source": [
    "print(df_cleaned_time)\n",
    "print(actual_time)"
   ]
  },
  {
   "cell_type": "code",
   "execution_count": 41,
   "id": "cb0b0223-79ef-45f8-9f92-c69a19d9f6b8",
   "metadata": {},
   "outputs": [
    {
     "name": "stdout",
     "output_type": "stream",
     "text": [
      "                     annotation                time\n",
      "360000   7030 sleeping;MET 0.95 2016-10-30 00:28:00\n",
      "363000   7030 sleeping;MET 0.95 2016-10-30 00:28:30\n",
      "366000   7030 sleeping;MET 0.95 2016-10-30 00:29:00\n",
      "369000   7030 sleeping;MET 0.95 2016-10-30 00:29:30\n",
      "372000   7030 sleeping;MET 0.95 2016-10-30 00:30:00\n",
      "...                         ...                 ...\n",
      "9885000  7030 sleeping;MET 0.95 2016-10-31 02:55:30\n",
      "9888000  7030 sleeping;MET 0.95 2016-10-31 02:56:00\n",
      "9891000  7030 sleeping;MET 0.95 2016-10-31 02:56:30\n",
      "9894000  7030 sleeping;MET 0.95 2016-10-31 02:57:00\n",
      "9897000  7030 sleeping;MET 0.95 2016-10-31 02:57:30\n",
      "\n",
      "[1964 rows x 2 columns]\n"
     ]
    }
   ],
   "source": [
    "actual_labels_filtered = actual_labels[actual_labels[\"time\"].isin(df_cleaned_time)]\n",
    "print(actual_labels_filtered)"
   ]
  },
  {
   "cell_type": "code",
   "execution_count": 42,
   "id": "55ad50cc-9219-4da5-83cb-5bd60b543d6b",
   "metadata": {},
   "outputs": [
    {
     "name": "stdout",
     "output_type": "stream",
     "text": [
      "0      2016-10-30 00:28:00\n",
      "1      2016-10-30 00:28:30\n",
      "2      2016-10-30 00:29:00\n",
      "3      2016-10-30 00:29:30\n",
      "4      2016-10-30 00:30:00\n",
      "               ...        \n",
      "3295   2016-10-31 02:55:30\n",
      "3296   2016-10-31 02:56:00\n",
      "3297   2016-10-31 02:56:30\n",
      "3298   2016-10-31 02:57:00\n",
      "3299   2016-10-31 02:57:30\n",
      "Name: time_cleaned, Length: 3174, dtype: datetime64[ns]\n",
      "0      2016-10-30 00:28:00\n",
      "1      2016-10-30 00:28:30\n",
      "2      2016-10-30 00:29:00\n",
      "3      2016-10-30 00:29:30\n",
      "4      2016-10-30 00:30:00\n",
      "               ...        \n",
      "3295   2016-10-31 02:55:30\n",
      "3296   2016-10-31 02:56:00\n",
      "3297   2016-10-31 02:56:30\n",
      "3298   2016-10-31 02:57:00\n",
      "3299   2016-10-31 02:57:30\n",
      "Name: time_cleaned, Length: 2084, dtype: datetime64[ns]\n",
      "           time_cleaned activity_predicted\n",
      "64  2016-10-30 01:00:00              sleep\n",
      "65  2016-10-30 01:00:30              sleep\n",
      "66  2016-10-30 01:01:00              sleep\n",
      "67  2016-10-30 01:01:30              sleep\n",
      "68  2016-10-30 01:02:00              sleep\n",
      "..                  ...                ...\n",
      "299 2016-10-30 01:57:30              sleep\n",
      "300 2016-10-30 01:58:00              sleep\n",
      "301 2016-10-30 01:58:30              sleep\n",
      "302 2016-10-30 01:59:00              sleep\n",
      "303 2016-10-30 01:59:30              sleep\n",
      "\n",
      "[240 rows x 2 columns]\n",
      "            time_cleaned activity_predicted\n",
      "0    2016-10-30 00:28:00              sleep\n",
      "1    2016-10-30 00:28:30              sleep\n",
      "2    2016-10-30 00:29:00              sleep\n",
      "3    2016-10-30 00:29:30              sleep\n",
      "4    2016-10-30 00:30:00              sleep\n",
      "...                  ...                ...\n",
      "3295 2016-10-31 02:55:30              sleep\n",
      "3296 2016-10-31 02:56:00              sleep\n",
      "3297 2016-10-31 02:56:30              sleep\n",
      "3298 2016-10-31 02:57:00              sleep\n",
      "3299 2016-10-31 02:57:30              sleep\n",
      "\n",
      "[1964 rows x 2 columns]\n"
     ]
    },
    {
     "name": "stderr",
     "output_type": "stream",
     "text": [
      "/tmp/ipykernel_313419/2063590338.py:1: SettingWithCopyWarning: \n",
      "A value is trying to be set on a copy of a slice from a DataFrame.\n",
      "Try using .loc[row_indexer,col_indexer] = value instead\n",
      "\n",
      "See the caveats in the documentation: https://pandas.pydata.org/pandas-docs/stable/user_guide/indexing.html#returning-a-view-versus-a-copy\n",
      "  df_cleaned['time_cleaned'] = df_cleaned_time\n"
     ]
    }
   ],
   "source": [
    "df_cleaned['time_cleaned'] = df_cleaned_time\n",
    "print(df_cleaned['time_cleaned'])\n",
    "df_cleaned_filtered = df_cleaned[df_cleaned['time_cleaned'].isin(actual_labels_filtered[\"time\"])]\n",
    "print(df_cleaned_filtered['time_cleaned'])\n",
    "\n",
    "print(df_cleaned_filtered[df_cleaned_filtered['time_cleaned'].duplicated(keep=False)][['time_cleaned', 'activity_predicted']])\n",
    "df_cleaned_filtered_dedup = df_cleaned_filtered[~df_cleaned_filtered['time_cleaned'].duplicated(keep='first')]\n",
    "print(df_cleaned_filtered_dedup[['time_cleaned', 'activity_predicted']])\n",
    "\n",
    "# from IPython.display import display\n",
    "# with pd.option_context('display.max_rows', 300, 'display.max_columns', 10):\n",
    "#     #some pandas stuff\n",
    "#     print(df_cleaned_filtered[df_cleaned_filtered['time_cleaned'].duplicated(keep=False)][['time_cleaned', 'activity_predicted']].tail(200))"
   ]
  },
  {
   "cell_type": "code",
   "execution_count": 43,
   "id": "92b80b00-f0bd-472f-9a95-de41ef03a4c4",
   "metadata": {},
   "outputs": [
    {
     "name": "stdout",
     "output_type": "stream",
     "text": [
      "        annotation                time\n",
      "360000       sleep 2016-10-30 00:28:00\n",
      "363000       sleep 2016-10-30 00:28:30\n",
      "366000       sleep 2016-10-30 00:29:00\n",
      "369000       sleep 2016-10-30 00:29:30\n",
      "372000       sleep 2016-10-30 00:30:00\n",
      "...            ...                 ...\n",
      "9885000      sleep 2016-10-31 02:55:30\n",
      "9888000      sleep 2016-10-31 02:56:00\n",
      "9891000      sleep 2016-10-31 02:56:30\n",
      "9894000      sleep 2016-10-31 02:57:00\n",
      "9897000      sleep 2016-10-31 02:57:30\n",
      "\n",
      "[1964 rows x 2 columns]\n"
     ]
    },
    {
     "name": "stderr",
     "output_type": "stream",
     "text": [
      "/tmp/ipykernel_313419/1753659332.py:2: FutureWarning: A value is trying to be set on a copy of a DataFrame or Series through chained assignment using an inplace method.\n",
      "The behavior will change in pandas 3.0. This inplace method will never work because the intermediate object on which we are setting values always behaves as a copy.\n",
      "\n",
      "For example, when doing 'df[col].method(value, inplace=True)', try using 'df.method({col: value}, inplace=True)' or df[col] = df[col].method(value) instead, to perform the operation inplace on the original object.\n",
      "\n",
      "\n",
      "  actual_labels_filtered['annotation'].replace(flat_dict, inplace=True)\n",
      "/tmp/ipykernel_313419/1753659332.py:2: SettingWithCopyWarning: \n",
      "A value is trying to be set on a copy of a slice from a DataFrame\n",
      "\n",
      "See the caveats in the documentation: https://pandas.pydata.org/pandas-docs/stable/user_guide/indexing.html#returning-a-view-versus-a-copy\n",
      "  actual_labels_filtered['annotation'].replace(flat_dict, inplace=True)\n"
     ]
    }
   ],
   "source": [
    "flat_dict = {k: v[0] for k, v in labels_dict.items()}\n",
    "actual_labels_filtered['annotation'].replace(flat_dict, inplace=True)\n",
    "actual_labels_cleaned = actual_labels_filtered.dropna(subset=['annotation'])\n",
    "print(actual_labels_cleaned)\n"
   ]
  },
  {
   "cell_type": "code",
   "execution_count": 44,
   "id": "9f745b1a-740c-4b53-aeea-914b96654373",
   "metadata": {},
   "outputs": [
    {
     "name": "stdout",
     "output_type": "stream",
     "text": [
      "                       time annotation\n",
      "360000  2016-10-30 00:28:00      sleep\n",
      "363000  2016-10-30 00:28:30      sleep\n",
      "366000  2016-10-30 00:29:00      sleep\n",
      "369000  2016-10-30 00:29:30      sleep\n",
      "372000  2016-10-30 00:30:00      sleep\n",
      "...                     ...        ...\n",
      "9885000 2016-10-31 02:55:30      sleep\n",
      "9888000 2016-10-31 02:56:00      sleep\n",
      "9891000 2016-10-31 02:56:30      sleep\n",
      "9894000 2016-10-31 02:57:00      sleep\n",
      "9897000 2016-10-31 02:57:30      sleep\n",
      "\n",
      "[1964 rows x 2 columns]\n",
      "            time_cleaned activity_predicted\n",
      "0    2016-10-30 00:28:00              sleep\n",
      "1    2016-10-30 00:28:30              sleep\n",
      "2    2016-10-30 00:29:00              sleep\n",
      "3    2016-10-30 00:29:30              sleep\n",
      "4    2016-10-30 00:30:00              sleep\n",
      "...                  ...                ...\n",
      "3295 2016-10-31 02:55:30              sleep\n",
      "3296 2016-10-31 02:56:00              sleep\n",
      "3297 2016-10-31 02:56:30              sleep\n",
      "3298 2016-10-31 02:57:00              sleep\n",
      "3299 2016-10-31 02:57:30              sleep\n",
      "\n",
      "[1964 rows x 2 columns]\n"
     ]
    }
   ],
   "source": [
    "print(actual_labels_cleaned[['time', 'annotation']])\n",
    "print(df_cleaned_filtered_dedup[['time_cleaned', 'activity_predicted']])"
   ]
  },
  {
   "cell_type": "code",
   "execution_count": 46,
   "id": "1a3a107a-c648-4321-839b-84a3812ebe90",
   "metadata": {
    "scrolled": true
   },
   "outputs": [
    {
     "name": "stdout",
     "output_type": "stream",
     "text": [
      "['sleep' 'light' 'sedentary' 'moderate-vigorous']\n",
      "['sleep' 'sedentary' 'light' 'moderate-vigorous']\n"
     ]
    },
    {
     "data": {
      "image/png": "[encoded data removed]",
      "text/plain": [
       "<Figure size 640x480 with 2 Axes>"
      ]
     },
     "metadata": {},
     "output_type": "display_data"
    }
   ],
   "source": [
    "from sklearn.metrics import confusion_matrix, ConfusionMatrixDisplay\n",
    "import numpy as np\n",
    "assert len(actual_labels_cleaned) == len(df_cleaned_filtered_dedup), \"DataFrames must be of the same length\"\n",
    "\n",
    "true_labels = actual_labels_cleaned['annotation']\n",
    "predicted_labels = df_cleaned_filtered_dedup['activity_predicted']\n",
    "\n",
    "print(true_labels.unique())\n",
    "print(predicted_labels.unique())\n",
    "\n",
    "# Generate confusion matrix\n",
    "\n",
    "cm = confusion_matrix(true_labels, predicted_labels, labels=['light', 'moderate-vigorous', 'sedentary', 'sleep'])\n",
    "\n",
    "# Normalize by true values\n",
    "cm_normalized = cm.astype('float') / cm.sum(axis=1)[:, np.newaxis]\n",
    "\n",
    "import matplotlib.pyplot as plt\n",
    "\n",
    "# Display the confusion matrix\n",
    "disp = ConfusionMatrixDisplay(confusion_matrix=cm_normalized, display_labels=['light', 'mod-vigorous', 'sedentary', 'sleep'])\n",
    "disp.plot(cmap='Blues')  # You can change the color map as needed\n",
    "plt.savefig(\"test.png\")\n"
   ]
  },
  {
   "cell_type": "code",
   "execution_count": null,
   "id": "94e38aa9-b610-45d4-9fc5-f63ac8de3376",
   "metadata": {},
   "outputs": [],
   "source": []
  }
 ],
 "metadata": {
  "kernelspec": {
   "display_name": "Python 3 (ipykernel)",
   "language": "python",
   "name": "python3"
  },
  "language_info": {
   "codemirror_mode": {
    "name": "ipython",
    "version": 3
   },
   "file_extension": ".py",
   "mimetype": "text/x-python",
   "name": "python",
   "nbconvert_exporter": "python",
   "pygments_lexer": "ipython3",
   "version": "3.10.12"
  }
 },
 "nbformat": 4,
 "nbformat_minor": 5
}
